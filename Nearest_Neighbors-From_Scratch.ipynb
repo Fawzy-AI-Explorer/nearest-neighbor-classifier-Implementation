{
  "nbformat": 4,
  "nbformat_minor": 0,
  "metadata": {
    "colab": {
      "provenance": [],
      "include_colab_link": true
    },
    "kernelspec": {
      "name": "python3",
      "display_name": "Python 3"
    },
    "language_info": {
      "name": "python"
    }
  },
  "cells": [
    {
      "cell_type": "markdown",
      "metadata": {
        "id": "view-in-github",
        "colab_type": "text"
      },
      "source": [
        "<a href=\"https://colab.research.google.com/github/Fawzy-AI-Explorer/nearest-neighbor-classifier-Implementation/blob/main/Nearest_Neighbors-From_Scratch.ipynb\" target=\"_parent\"><img src=\"https://colab.research.google.com/assets/colab-badge.svg\" alt=\"Open In Colab\"/></a>"
      ]
    },
    {
      "cell_type": "markdown",
      "source": [
        "# Nearest Neighbor Classifier From Scratch\n",
        "Table of content:\n",
        "- [Goals](#goals)\n",
        "- [Tools](#tools)\n",
        "- [Euclidean Distance](#euclidean_distance)\n",
        "- [Absolute Distance](#absolute_distance)\n",
        "- [Cosine Similarity](#Cosine_Similarity)\n",
        "- [KNN](#KNN)\n",
        "- [LICENSE](#license)"
      ],
      "metadata": {
        "id": "JHppGGpNBuln"
      }
    },
    {
      "cell_type": "markdown",
      "source": [
        "##  **<a name=\"goals\">Goals<a>**\n",
        "In this toturial, we will:\n",
        "\n",
        "- Implement the euclidean distance classifier.\n",
        "- Implement the absolute distance classifier.\n",
        "- Implement the Cosine Similarity classifier.\n",
        "- Implement the K-Nearest Neighbors (KNN)classifier.\n",
        "\n",
        "\n",
        "*All from scratch*"
      ],
      "metadata": {
        "id": "oVPdLbNfyrud"
      }
    },
    {
      "cell_type": "markdown",
      "source": [
        "**<a name=\"tools\">Tools<a>**                                        \n",
        "In this toturial, we will make use of:\n",
        "- math, This module provides access to the mathematical functions defined by the C standard\n",
        "- pandas, a Python library used for working with data sets\n",
        "- NumPy, a popular library for scientific computing\n"
      ],
      "metadata": {
        "id": "UgKO48MnzbDI"
      }
    },
    {
      "cell_type": "markdown",
      "source": [
        "***First : Euclidean Distance classifier .***"
      ],
      "metadata": {
        "id": "uRLaXOQRDslP"
      }
    },
    {
      "cell_type": "markdown",
      "source": [
        "\n",
        "##**import libraries**\n"
      ],
      "metadata": {
        "id": "YitSEfcSvjtS"
      }
    },
    {
      "cell_type": "code",
      "execution_count": null,
      "metadata": {
        "id": "fk1xr_KwuBP-"
      },
      "outputs": [],
      "source": [
        "import numpy as np\n",
        "import pandas as pd\n",
        "from collections import Counter\n"
      ]
    },
    {
      "cell_type": "markdown",
      "source": [
        "##**Generate Data**"
      ],
      "metadata": {
        "id": "fGMEvhDZ98D_"
      }
    },
    {
      "cell_type": "code",
      "source": [
        "# Define the feature values for each sample\n",
        "X = np.array([\n",
        "    [ 2  , 10 ],  # Sample 1\n",
        "    [ 3  , 15 ],  # Sample 2\n",
        "    [ 4  , 20 ],  # Sample 3\n",
        "    [ 7  , 15 ],  # Sample 4\n",
        "    [ 8  , 20 ],  # Sample 5\n",
        "    [ 9  , 25 ],  # Sample 6\n",
        "    [ 12 , 15 ],  # Sample 7\n",
        "    [ 13 , 25 ],  # Sample 8\n",
        "    [ 14 , 30 ],  # Sample 9\n",
        "    [ 7  , 10 ],  # Sample 10\n",
        "    [12.5, 20 ],  # Sample 11\n",
        "])\n",
        "\n",
        "# Define the class labels for each sample (0 or 1 for binary classification)\n",
        "y = np.array ( [ 1 , 1 , 1 , 2 , 2 , 2 , 3 , 3 , 3 , 0 , 0 ] )\n",
        "\n",
        "# Convert the NumPy arrays into a pandas DataFrame\n",
        "df = pd.DataFrame(X, columns=['Feature1', 'Feature2'])\n",
        "df['Class'] = y\n",
        "\n",
        "\n",
        "\n",
        "\n",
        "# Convert the NumPy arrays into a pandas DataFrame\n",
        "df = pd.DataFrame(X, columns=['Feature1', 'Feature2'])\n",
        "df['Class'] = y\n",
        "\n",
        "# Display the DataFrame\n",
        "print(\"DataFrame:\")\n",
        "print(df)"
      ],
      "metadata": {
        "colab": {
          "base_uri": "https://localhost:8080/"
        },
        "id": "H_VAOyoluG-F",
        "outputId": "521e01af-123f-4bd7-c704-6c3e46b29133"
      },
      "execution_count": null,
      "outputs": [
        {
          "output_type": "stream",
          "name": "stdout",
          "text": [
            "DataFrame:\n",
            "    Feature1  Feature2  Class\n",
            "0        2.0      10.0      1\n",
            "1        3.0      15.0      1\n",
            "2        4.0      20.0      1\n",
            "3        7.0      15.0      2\n",
            "4        8.0      20.0      2\n",
            "5        9.0      25.0      2\n",
            "6       12.0      15.0      3\n",
            "7       13.0      25.0      3\n",
            "8       14.0      30.0      3\n",
            "9        7.0      10.0      0\n",
            "10      12.5      20.0      0\n"
          ]
        }
      ]
    },
    {
      "cell_type": "markdown",
      "source": [
        "## **Separating target and features**"
      ],
      "metadata": {
        "id": "c9kPw1pu-Lc_"
      }
    },
    {
      "cell_type": "code",
      "source": [
        "x = df.drop(columns=\"Class\")\n",
        "y = df[\"Class\"]"
      ],
      "metadata": {
        "id": "AQZOt_tkx-55"
      },
      "execution_count": null,
      "outputs": []
    },
    {
      "cell_type": "markdown",
      "source": [
        "## **Train Test Split**\n"
      ],
      "metadata": {
        "id": "XrYGxk-W-3YI"
      }
    },
    {
      "cell_type": "code",
      "source": [
        "# Splitting features and labels for training and testing sets\n",
        "x_train = df.iloc[0:9, 0:2]  # Features for training set\n",
        "x_test  = df.iloc[9:11, 0:2]  # Features for testing set\n",
        "y_train = df.iloc[0:9, -1]    # Labels for training set\n",
        "y_test  = df.iloc[9:11, -1]    # Labels for testing set\n"
      ],
      "metadata": {
        "id": "ykucmILZys3H"
      },
      "execution_count": null,
      "outputs": []
    },
    {
      "cell_type": "code",
      "source": [
        "y_train"
      ],
      "metadata": {
        "colab": {
          "base_uri": "https://localhost:8080/"
        },
        "id": "QUf2lWsKslEP",
        "outputId": "68fda9d5-1d1e-4639-b63d-b8c3528722f7"
      },
      "execution_count": null,
      "outputs": [
        {
          "output_type": "execute_result",
          "data": {
            "text/plain": [
              "0    1\n",
              "1    1\n",
              "2    1\n",
              "3    2\n",
              "4    2\n",
              "5    2\n",
              "6    3\n",
              "7    3\n",
              "8    3\n",
              "Name: Class, dtype: int64"
            ]
          },
          "metadata": {},
          "execution_count": 6
        }
      ]
    },
    {
      "cell_type": "code",
      "source": [
        "x_test"
      ],
      "metadata": {
        "colab": {
          "base_uri": "https://localhost:8080/",
          "height": 125
        },
        "id": "zECoy2T4yy7R",
        "outputId": "3e9281d2-b536-4de8-cb29-bcc4e20c4ef9"
      },
      "execution_count": null,
      "outputs": [
        {
          "output_type": "execute_result",
          "data": {
            "text/plain": [
              "    Feature1  Feature2\n",
              "9        7.0      10.0\n",
              "10      12.5      20.0"
            ],
            "text/html": [
              "\n",
              "  <div id=\"df-5bd6488d-cd02-41df-98b8-d428e9302357\" class=\"colab-df-container\">\n",
              "    <div>\n",
              "<style scoped>\n",
              "    .dataframe tbody tr th:only-of-type {\n",
              "        vertical-align: middle;\n",
              "    }\n",
              "\n",
              "    .dataframe tbody tr th {\n",
              "        vertical-align: top;\n",
              "    }\n",
              "\n",
              "    .dataframe thead th {\n",
              "        text-align: right;\n",
              "    }\n",
              "</style>\n",
              "<table border=\"1\" class=\"dataframe\">\n",
              "  <thead>\n",
              "    <tr style=\"text-align: right;\">\n",
              "      <th></th>\n",
              "      <th>Feature1</th>\n",
              "      <th>Feature2</th>\n",
              "    </tr>\n",
              "  </thead>\n",
              "  <tbody>\n",
              "    <tr>\n",
              "      <th>9</th>\n",
              "      <td>7.0</td>\n",
              "      <td>10.0</td>\n",
              "    </tr>\n",
              "    <tr>\n",
              "      <th>10</th>\n",
              "      <td>12.5</td>\n",
              "      <td>20.0</td>\n",
              "    </tr>\n",
              "  </tbody>\n",
              "</table>\n",
              "</div>\n",
              "    <div class=\"colab-df-buttons\">\n",
              "\n",
              "  <div class=\"colab-df-container\">\n",
              "    <button class=\"colab-df-convert\" onclick=\"convertToInteractive('df-5bd6488d-cd02-41df-98b8-d428e9302357')\"\n",
              "            title=\"Convert this dataframe to an interactive table.\"\n",
              "            style=\"display:none;\">\n",
              "\n",
              "  <svg xmlns=\"http://www.w3.org/2000/svg\" height=\"24px\" viewBox=\"0 -960 960 960\">\n",
              "    <path d=\"M120-120v-720h720v720H120Zm60-500h600v-160H180v160Zm220 220h160v-160H400v160Zm0 220h160v-160H400v160ZM180-400h160v-160H180v160Zm440 0h160v-160H620v160ZM180-180h160v-160H180v160Zm440 0h160v-160H620v160Z\"/>\n",
              "  </svg>\n",
              "    </button>\n",
              "\n",
              "  <style>\n",
              "    .colab-df-container {\n",
              "      display:flex;\n",
              "      gap: 12px;\n",
              "    }\n",
              "\n",
              "    .colab-df-convert {\n",
              "      background-color: #E8F0FE;\n",
              "      border: none;\n",
              "      border-radius: 50%;\n",
              "      cursor: pointer;\n",
              "      display: none;\n",
              "      fill: #1967D2;\n",
              "      height: 32px;\n",
              "      padding: 0 0 0 0;\n",
              "      width: 32px;\n",
              "    }\n",
              "\n",
              "    .colab-df-convert:hover {\n",
              "      background-color: #E2EBFA;\n",
              "      box-shadow: 0px 1px 2px rgba(60, 64, 67, 0.3), 0px 1px 3px 1px rgba(60, 64, 67, 0.15);\n",
              "      fill: #174EA6;\n",
              "    }\n",
              "\n",
              "    .colab-df-buttons div {\n",
              "      margin-bottom: 4px;\n",
              "    }\n",
              "\n",
              "    [theme=dark] .colab-df-convert {\n",
              "      background-color: #3B4455;\n",
              "      fill: #D2E3FC;\n",
              "    }\n",
              "\n",
              "    [theme=dark] .colab-df-convert:hover {\n",
              "      background-color: #434B5C;\n",
              "      box-shadow: 0px 1px 3px 1px rgba(0, 0, 0, 0.15);\n",
              "      filter: drop-shadow(0px 1px 2px rgba(0, 0, 0, 0.3));\n",
              "      fill: #FFFFFF;\n",
              "    }\n",
              "  </style>\n",
              "\n",
              "    <script>\n",
              "      const buttonEl =\n",
              "        document.querySelector('#df-5bd6488d-cd02-41df-98b8-d428e9302357 button.colab-df-convert');\n",
              "      buttonEl.style.display =\n",
              "        google.colab.kernel.accessAllowed ? 'block' : 'none';\n",
              "\n",
              "      async function convertToInteractive(key) {\n",
              "        const element = document.querySelector('#df-5bd6488d-cd02-41df-98b8-d428e9302357');\n",
              "        const dataTable =\n",
              "          await google.colab.kernel.invokeFunction('convertToInteractive',\n",
              "                                                    [key], {});\n",
              "        if (!dataTable) return;\n",
              "\n",
              "        const docLinkHtml = 'Like what you see? Visit the ' +\n",
              "          '<a target=\"_blank\" href=https://colab.research.google.com/notebooks/data_table.ipynb>data table notebook</a>'\n",
              "          + ' to learn more about interactive tables.';\n",
              "        element.innerHTML = '';\n",
              "        dataTable['output_type'] = 'display_data';\n",
              "        await google.colab.output.renderOutput(dataTable, element);\n",
              "        const docLink = document.createElement('div');\n",
              "        docLink.innerHTML = docLinkHtml;\n",
              "        element.appendChild(docLink);\n",
              "      }\n",
              "    </script>\n",
              "  </div>\n",
              "\n",
              "\n",
              "<div id=\"df-727c6a0b-c77c-4589-8ae3-822474544075\">\n",
              "  <button class=\"colab-df-quickchart\" onclick=\"quickchart('df-727c6a0b-c77c-4589-8ae3-822474544075')\"\n",
              "            title=\"Suggest charts\"\n",
              "            style=\"display:none;\">\n",
              "\n",
              "<svg xmlns=\"http://www.w3.org/2000/svg\" height=\"24px\"viewBox=\"0 0 24 24\"\n",
              "     width=\"24px\">\n",
              "    <g>\n",
              "        <path d=\"M19 3H5c-1.1 0-2 .9-2 2v14c0 1.1.9 2 2 2h14c1.1 0 2-.9 2-2V5c0-1.1-.9-2-2-2zM9 17H7v-7h2v7zm4 0h-2V7h2v10zm4 0h-2v-4h2v4z\"/>\n",
              "    </g>\n",
              "</svg>\n",
              "  </button>\n",
              "\n",
              "<style>\n",
              "  .colab-df-quickchart {\n",
              "      --bg-color: #E8F0FE;\n",
              "      --fill-color: #1967D2;\n",
              "      --hover-bg-color: #E2EBFA;\n",
              "      --hover-fill-color: #174EA6;\n",
              "      --disabled-fill-color: #AAA;\n",
              "      --disabled-bg-color: #DDD;\n",
              "  }\n",
              "\n",
              "  [theme=dark] .colab-df-quickchart {\n",
              "      --bg-color: #3B4455;\n",
              "      --fill-color: #D2E3FC;\n",
              "      --hover-bg-color: #434B5C;\n",
              "      --hover-fill-color: #FFFFFF;\n",
              "      --disabled-bg-color: #3B4455;\n",
              "      --disabled-fill-color: #666;\n",
              "  }\n",
              "\n",
              "  .colab-df-quickchart {\n",
              "    background-color: var(--bg-color);\n",
              "    border: none;\n",
              "    border-radius: 50%;\n",
              "    cursor: pointer;\n",
              "    display: none;\n",
              "    fill: var(--fill-color);\n",
              "    height: 32px;\n",
              "    padding: 0;\n",
              "    width: 32px;\n",
              "  }\n",
              "\n",
              "  .colab-df-quickchart:hover {\n",
              "    background-color: var(--hover-bg-color);\n",
              "    box-shadow: 0 1px 2px rgba(60, 64, 67, 0.3), 0 1px 3px 1px rgba(60, 64, 67, 0.15);\n",
              "    fill: var(--button-hover-fill-color);\n",
              "  }\n",
              "\n",
              "  .colab-df-quickchart-complete:disabled,\n",
              "  .colab-df-quickchart-complete:disabled:hover {\n",
              "    background-color: var(--disabled-bg-color);\n",
              "    fill: var(--disabled-fill-color);\n",
              "    box-shadow: none;\n",
              "  }\n",
              "\n",
              "  .colab-df-spinner {\n",
              "    border: 2px solid var(--fill-color);\n",
              "    border-color: transparent;\n",
              "    border-bottom-color: var(--fill-color);\n",
              "    animation:\n",
              "      spin 1s steps(1) infinite;\n",
              "  }\n",
              "\n",
              "  @keyframes spin {\n",
              "    0% {\n",
              "      border-color: transparent;\n",
              "      border-bottom-color: var(--fill-color);\n",
              "      border-left-color: var(--fill-color);\n",
              "    }\n",
              "    20% {\n",
              "      border-color: transparent;\n",
              "      border-left-color: var(--fill-color);\n",
              "      border-top-color: var(--fill-color);\n",
              "    }\n",
              "    30% {\n",
              "      border-color: transparent;\n",
              "      border-left-color: var(--fill-color);\n",
              "      border-top-color: var(--fill-color);\n",
              "      border-right-color: var(--fill-color);\n",
              "    }\n",
              "    40% {\n",
              "      border-color: transparent;\n",
              "      border-right-color: var(--fill-color);\n",
              "      border-top-color: var(--fill-color);\n",
              "    }\n",
              "    60% {\n",
              "      border-color: transparent;\n",
              "      border-right-color: var(--fill-color);\n",
              "    }\n",
              "    80% {\n",
              "      border-color: transparent;\n",
              "      border-right-color: var(--fill-color);\n",
              "      border-bottom-color: var(--fill-color);\n",
              "    }\n",
              "    90% {\n",
              "      border-color: transparent;\n",
              "      border-bottom-color: var(--fill-color);\n",
              "    }\n",
              "  }\n",
              "</style>\n",
              "\n",
              "  <script>\n",
              "    async function quickchart(key) {\n",
              "      const quickchartButtonEl =\n",
              "        document.querySelector('#' + key + ' button');\n",
              "      quickchartButtonEl.disabled = true;  // To prevent multiple clicks.\n",
              "      quickchartButtonEl.classList.add('colab-df-spinner');\n",
              "      try {\n",
              "        const charts = await google.colab.kernel.invokeFunction(\n",
              "            'suggestCharts', [key], {});\n",
              "      } catch (error) {\n",
              "        console.error('Error during call to suggestCharts:', error);\n",
              "      }\n",
              "      quickchartButtonEl.classList.remove('colab-df-spinner');\n",
              "      quickchartButtonEl.classList.add('colab-df-quickchart-complete');\n",
              "    }\n",
              "    (() => {\n",
              "      let quickchartButtonEl =\n",
              "        document.querySelector('#df-727c6a0b-c77c-4589-8ae3-822474544075 button');\n",
              "      quickchartButtonEl.style.display =\n",
              "        google.colab.kernel.accessAllowed ? 'block' : 'none';\n",
              "    })();\n",
              "  </script>\n",
              "</div>\n",
              "\n",
              "  <div id=\"id_a572de1c-5811-4361-9cd9-e0764771f1c4\">\n",
              "    <style>\n",
              "      .colab-df-generate {\n",
              "        background-color: #E8F0FE;\n",
              "        border: none;\n",
              "        border-radius: 50%;\n",
              "        cursor: pointer;\n",
              "        display: none;\n",
              "        fill: #1967D2;\n",
              "        height: 32px;\n",
              "        padding: 0 0 0 0;\n",
              "        width: 32px;\n",
              "      }\n",
              "\n",
              "      .colab-df-generate:hover {\n",
              "        background-color: #E2EBFA;\n",
              "        box-shadow: 0px 1px 2px rgba(60, 64, 67, 0.3), 0px 1px 3px 1px rgba(60, 64, 67, 0.15);\n",
              "        fill: #174EA6;\n",
              "      }\n",
              "\n",
              "      [theme=dark] .colab-df-generate {\n",
              "        background-color: #3B4455;\n",
              "        fill: #D2E3FC;\n",
              "      }\n",
              "\n",
              "      [theme=dark] .colab-df-generate:hover {\n",
              "        background-color: #434B5C;\n",
              "        box-shadow: 0px 1px 3px 1px rgba(0, 0, 0, 0.15);\n",
              "        filter: drop-shadow(0px 1px 2px rgba(0, 0, 0, 0.3));\n",
              "        fill: #FFFFFF;\n",
              "      }\n",
              "    </style>\n",
              "    <button class=\"colab-df-generate\" onclick=\"generateWithVariable('x_test')\"\n",
              "            title=\"Generate code using this dataframe.\"\n",
              "            style=\"display:none;\">\n",
              "\n",
              "  <svg xmlns=\"http://www.w3.org/2000/svg\" height=\"24px\"viewBox=\"0 0 24 24\"\n",
              "       width=\"24px\">\n",
              "    <path d=\"M7,19H8.4L18.45,9,17,7.55,7,17.6ZM5,21V16.75L18.45,3.32a2,2,0,0,1,2.83,0l1.4,1.43a1.91,1.91,0,0,1,.58,1.4,1.91,1.91,0,0,1-.58,1.4L9.25,21ZM18.45,9,17,7.55Zm-12,3A5.31,5.31,0,0,0,4.9,8.1,5.31,5.31,0,0,0,1,6.5,5.31,5.31,0,0,0,4.9,4.9,5.31,5.31,0,0,0,6.5,1,5.31,5.31,0,0,0,8.1,4.9,5.31,5.31,0,0,0,12,6.5,5.46,5.46,0,0,0,6.5,12Z\"/>\n",
              "  </svg>\n",
              "    </button>\n",
              "    <script>\n",
              "      (() => {\n",
              "      const buttonEl =\n",
              "        document.querySelector('#id_a572de1c-5811-4361-9cd9-e0764771f1c4 button.colab-df-generate');\n",
              "      buttonEl.style.display =\n",
              "        google.colab.kernel.accessAllowed ? 'block' : 'none';\n",
              "\n",
              "      buttonEl.onclick = () => {\n",
              "        google.colab.notebook.generateWithVariable('x_test');\n",
              "      }\n",
              "      })();\n",
              "    </script>\n",
              "  </div>\n",
              "\n",
              "    </div>\n",
              "  </div>\n"
            ],
            "application/vnd.google.colaboratory.intrinsic+json": {
              "type": "dataframe",
              "variable_name": "x_test",
              "summary": "{\n  \"name\": \"x_test\",\n  \"rows\": 2,\n  \"fields\": [\n    {\n      \"column\": \"Feature1\",\n      \"properties\": {\n        \"dtype\": \"number\",\n        \"std\": 3.8890872965260113,\n        \"min\": 7.0,\n        \"max\": 12.5,\n        \"num_unique_values\": 2,\n        \"samples\": [\n          12.5,\n          7.0\n        ],\n        \"semantic_type\": \"\",\n        \"description\": \"\"\n      }\n    },\n    {\n      \"column\": \"Feature2\",\n      \"properties\": {\n        \"dtype\": \"number\",\n        \"std\": 7.0710678118654755,\n        \"min\": 10.0,\n        \"max\": 20.0,\n        \"num_unique_values\": 2,\n        \"samples\": [\n          20.0,\n          10.0\n        ],\n        \"semantic_type\": \"\",\n        \"description\": \"\"\n      }\n    }\n  ]\n}"
            }
          },
          "metadata": {},
          "execution_count": 7
        }
      ]
    },
    {
      "cell_type": "code",
      "source": [
        "x_test"
      ],
      "metadata": {
        "colab": {
          "base_uri": "https://localhost:8080/",
          "height": 125
        },
        "id": "wp24Bk7tfi10",
        "outputId": "5ff78465-cfcb-4da9-e254-7ffcb2004dd6"
      },
      "execution_count": null,
      "outputs": [
        {
          "output_type": "execute_result",
          "data": {
            "text/plain": [
              "    Feature1  Feature2\n",
              "9        7.0      10.0\n",
              "10      12.5      20.0"
            ],
            "text/html": [
              "\n",
              "  <div id=\"df-87f2781f-2682-458f-9e49-459a133be4c3\" class=\"colab-df-container\">\n",
              "    <div>\n",
              "<style scoped>\n",
              "    .dataframe tbody tr th:only-of-type {\n",
              "        vertical-align: middle;\n",
              "    }\n",
              "\n",
              "    .dataframe tbody tr th {\n",
              "        vertical-align: top;\n",
              "    }\n",
              "\n",
              "    .dataframe thead th {\n",
              "        text-align: right;\n",
              "    }\n",
              "</style>\n",
              "<table border=\"1\" class=\"dataframe\">\n",
              "  <thead>\n",
              "    <tr style=\"text-align: right;\">\n",
              "      <th></th>\n",
              "      <th>Feature1</th>\n",
              "      <th>Feature2</th>\n",
              "    </tr>\n",
              "  </thead>\n",
              "  <tbody>\n",
              "    <tr>\n",
              "      <th>9</th>\n",
              "      <td>7.0</td>\n",
              "      <td>10.0</td>\n",
              "    </tr>\n",
              "    <tr>\n",
              "      <th>10</th>\n",
              "      <td>12.5</td>\n",
              "      <td>20.0</td>\n",
              "    </tr>\n",
              "  </tbody>\n",
              "</table>\n",
              "</div>\n",
              "    <div class=\"colab-df-buttons\">\n",
              "\n",
              "  <div class=\"colab-df-container\">\n",
              "    <button class=\"colab-df-convert\" onclick=\"convertToInteractive('df-87f2781f-2682-458f-9e49-459a133be4c3')\"\n",
              "            title=\"Convert this dataframe to an interactive table.\"\n",
              "            style=\"display:none;\">\n",
              "\n",
              "  <svg xmlns=\"http://www.w3.org/2000/svg\" height=\"24px\" viewBox=\"0 -960 960 960\">\n",
              "    <path d=\"M120-120v-720h720v720H120Zm60-500h600v-160H180v160Zm220 220h160v-160H400v160Zm0 220h160v-160H400v160ZM180-400h160v-160H180v160Zm440 0h160v-160H620v160ZM180-180h160v-160H180v160Zm440 0h160v-160H620v160Z\"/>\n",
              "  </svg>\n",
              "    </button>\n",
              "\n",
              "  <style>\n",
              "    .colab-df-container {\n",
              "      display:flex;\n",
              "      gap: 12px;\n",
              "    }\n",
              "\n",
              "    .colab-df-convert {\n",
              "      background-color: #E8F0FE;\n",
              "      border: none;\n",
              "      border-radius: 50%;\n",
              "      cursor: pointer;\n",
              "      display: none;\n",
              "      fill: #1967D2;\n",
              "      height: 32px;\n",
              "      padding: 0 0 0 0;\n",
              "      width: 32px;\n",
              "    }\n",
              "\n",
              "    .colab-df-convert:hover {\n",
              "      background-color: #E2EBFA;\n",
              "      box-shadow: 0px 1px 2px rgba(60, 64, 67, 0.3), 0px 1px 3px 1px rgba(60, 64, 67, 0.15);\n",
              "      fill: #174EA6;\n",
              "    }\n",
              "\n",
              "    .colab-df-buttons div {\n",
              "      margin-bottom: 4px;\n",
              "    }\n",
              "\n",
              "    [theme=dark] .colab-df-convert {\n",
              "      background-color: #3B4455;\n",
              "      fill: #D2E3FC;\n",
              "    }\n",
              "\n",
              "    [theme=dark] .colab-df-convert:hover {\n",
              "      background-color: #434B5C;\n",
              "      box-shadow: 0px 1px 3px 1px rgba(0, 0, 0, 0.15);\n",
              "      filter: drop-shadow(0px 1px 2px rgba(0, 0, 0, 0.3));\n",
              "      fill: #FFFFFF;\n",
              "    }\n",
              "  </style>\n",
              "\n",
              "    <script>\n",
              "      const buttonEl =\n",
              "        document.querySelector('#df-87f2781f-2682-458f-9e49-459a133be4c3 button.colab-df-convert');\n",
              "      buttonEl.style.display =\n",
              "        google.colab.kernel.accessAllowed ? 'block' : 'none';\n",
              "\n",
              "      async function convertToInteractive(key) {\n",
              "        const element = document.querySelector('#df-87f2781f-2682-458f-9e49-459a133be4c3');\n",
              "        const dataTable =\n",
              "          await google.colab.kernel.invokeFunction('convertToInteractive',\n",
              "                                                    [key], {});\n",
              "        if (!dataTable) return;\n",
              "\n",
              "        const docLinkHtml = 'Like what you see? Visit the ' +\n",
              "          '<a target=\"_blank\" href=https://colab.research.google.com/notebooks/data_table.ipynb>data table notebook</a>'\n",
              "          + ' to learn more about interactive tables.';\n",
              "        element.innerHTML = '';\n",
              "        dataTable['output_type'] = 'display_data';\n",
              "        await google.colab.output.renderOutput(dataTable, element);\n",
              "        const docLink = document.createElement('div');\n",
              "        docLink.innerHTML = docLinkHtml;\n",
              "        element.appendChild(docLink);\n",
              "      }\n",
              "    </script>\n",
              "  </div>\n",
              "\n",
              "\n",
              "<div id=\"df-3f918370-aaf2-41b6-b139-abff808bab60\">\n",
              "  <button class=\"colab-df-quickchart\" onclick=\"quickchart('df-3f918370-aaf2-41b6-b139-abff808bab60')\"\n",
              "            title=\"Suggest charts\"\n",
              "            style=\"display:none;\">\n",
              "\n",
              "<svg xmlns=\"http://www.w3.org/2000/svg\" height=\"24px\"viewBox=\"0 0 24 24\"\n",
              "     width=\"24px\">\n",
              "    <g>\n",
              "        <path d=\"M19 3H5c-1.1 0-2 .9-2 2v14c0 1.1.9 2 2 2h14c1.1 0 2-.9 2-2V5c0-1.1-.9-2-2-2zM9 17H7v-7h2v7zm4 0h-2V7h2v10zm4 0h-2v-4h2v4z\"/>\n",
              "    </g>\n",
              "</svg>\n",
              "  </button>\n",
              "\n",
              "<style>\n",
              "  .colab-df-quickchart {\n",
              "      --bg-color: #E8F0FE;\n",
              "      --fill-color: #1967D2;\n",
              "      --hover-bg-color: #E2EBFA;\n",
              "      --hover-fill-color: #174EA6;\n",
              "      --disabled-fill-color: #AAA;\n",
              "      --disabled-bg-color: #DDD;\n",
              "  }\n",
              "\n",
              "  [theme=dark] .colab-df-quickchart {\n",
              "      --bg-color: #3B4455;\n",
              "      --fill-color: #D2E3FC;\n",
              "      --hover-bg-color: #434B5C;\n",
              "      --hover-fill-color: #FFFFFF;\n",
              "      --disabled-bg-color: #3B4455;\n",
              "      --disabled-fill-color: #666;\n",
              "  }\n",
              "\n",
              "  .colab-df-quickchart {\n",
              "    background-color: var(--bg-color);\n",
              "    border: none;\n",
              "    border-radius: 50%;\n",
              "    cursor: pointer;\n",
              "    display: none;\n",
              "    fill: var(--fill-color);\n",
              "    height: 32px;\n",
              "    padding: 0;\n",
              "    width: 32px;\n",
              "  }\n",
              "\n",
              "  .colab-df-quickchart:hover {\n",
              "    background-color: var(--hover-bg-color);\n",
              "    box-shadow: 0 1px 2px rgba(60, 64, 67, 0.3), 0 1px 3px 1px rgba(60, 64, 67, 0.15);\n",
              "    fill: var(--button-hover-fill-color);\n",
              "  }\n",
              "\n",
              "  .colab-df-quickchart-complete:disabled,\n",
              "  .colab-df-quickchart-complete:disabled:hover {\n",
              "    background-color: var(--disabled-bg-color);\n",
              "    fill: var(--disabled-fill-color);\n",
              "    box-shadow: none;\n",
              "  }\n",
              "\n",
              "  .colab-df-spinner {\n",
              "    border: 2px solid var(--fill-color);\n",
              "    border-color: transparent;\n",
              "    border-bottom-color: var(--fill-color);\n",
              "    animation:\n",
              "      spin 1s steps(1) infinite;\n",
              "  }\n",
              "\n",
              "  @keyframes spin {\n",
              "    0% {\n",
              "      border-color: transparent;\n",
              "      border-bottom-color: var(--fill-color);\n",
              "      border-left-color: var(--fill-color);\n",
              "    }\n",
              "    20% {\n",
              "      border-color: transparent;\n",
              "      border-left-color: var(--fill-color);\n",
              "      border-top-color: var(--fill-color);\n",
              "    }\n",
              "    30% {\n",
              "      border-color: transparent;\n",
              "      border-left-color: var(--fill-color);\n",
              "      border-top-color: var(--fill-color);\n",
              "      border-right-color: var(--fill-color);\n",
              "    }\n",
              "    40% {\n",
              "      border-color: transparent;\n",
              "      border-right-color: var(--fill-color);\n",
              "      border-top-color: var(--fill-color);\n",
              "    }\n",
              "    60% {\n",
              "      border-color: transparent;\n",
              "      border-right-color: var(--fill-color);\n",
              "    }\n",
              "    80% {\n",
              "      border-color: transparent;\n",
              "      border-right-color: var(--fill-color);\n",
              "      border-bottom-color: var(--fill-color);\n",
              "    }\n",
              "    90% {\n",
              "      border-color: transparent;\n",
              "      border-bottom-color: var(--fill-color);\n",
              "    }\n",
              "  }\n",
              "</style>\n",
              "\n",
              "  <script>\n",
              "    async function quickchart(key) {\n",
              "      const quickchartButtonEl =\n",
              "        document.querySelector('#' + key + ' button');\n",
              "      quickchartButtonEl.disabled = true;  // To prevent multiple clicks.\n",
              "      quickchartButtonEl.classList.add('colab-df-spinner');\n",
              "      try {\n",
              "        const charts = await google.colab.kernel.invokeFunction(\n",
              "            'suggestCharts', [key], {});\n",
              "      } catch (error) {\n",
              "        console.error('Error during call to suggestCharts:', error);\n",
              "      }\n",
              "      quickchartButtonEl.classList.remove('colab-df-spinner');\n",
              "      quickchartButtonEl.classList.add('colab-df-quickchart-complete');\n",
              "    }\n",
              "    (() => {\n",
              "      let quickchartButtonEl =\n",
              "        document.querySelector('#df-3f918370-aaf2-41b6-b139-abff808bab60 button');\n",
              "      quickchartButtonEl.style.display =\n",
              "        google.colab.kernel.accessAllowed ? 'block' : 'none';\n",
              "    })();\n",
              "  </script>\n",
              "</div>\n",
              "\n",
              "  <div id=\"id_e63dd275-b7f4-4187-9824-3786dca1af52\">\n",
              "    <style>\n",
              "      .colab-df-generate {\n",
              "        background-color: #E8F0FE;\n",
              "        border: none;\n",
              "        border-radius: 50%;\n",
              "        cursor: pointer;\n",
              "        display: none;\n",
              "        fill: #1967D2;\n",
              "        height: 32px;\n",
              "        padding: 0 0 0 0;\n",
              "        width: 32px;\n",
              "      }\n",
              "\n",
              "      .colab-df-generate:hover {\n",
              "        background-color: #E2EBFA;\n",
              "        box-shadow: 0px 1px 2px rgba(60, 64, 67, 0.3), 0px 1px 3px 1px rgba(60, 64, 67, 0.15);\n",
              "        fill: #174EA6;\n",
              "      }\n",
              "\n",
              "      [theme=dark] .colab-df-generate {\n",
              "        background-color: #3B4455;\n",
              "        fill: #D2E3FC;\n",
              "      }\n",
              "\n",
              "      [theme=dark] .colab-df-generate:hover {\n",
              "        background-color: #434B5C;\n",
              "        box-shadow: 0px 1px 3px 1px rgba(0, 0, 0, 0.15);\n",
              "        filter: drop-shadow(0px 1px 2px rgba(0, 0, 0, 0.3));\n",
              "        fill: #FFFFFF;\n",
              "      }\n",
              "    </style>\n",
              "    <button class=\"colab-df-generate\" onclick=\"generateWithVariable('x_test')\"\n",
              "            title=\"Generate code using this dataframe.\"\n",
              "            style=\"display:none;\">\n",
              "\n",
              "  <svg xmlns=\"http://www.w3.org/2000/svg\" height=\"24px\"viewBox=\"0 0 24 24\"\n",
              "       width=\"24px\">\n",
              "    <path d=\"M7,19H8.4L18.45,9,17,7.55,7,17.6ZM5,21V16.75L18.45,3.32a2,2,0,0,1,2.83,0l1.4,1.43a1.91,1.91,0,0,1,.58,1.4,1.91,1.91,0,0,1-.58,1.4L9.25,21ZM18.45,9,17,7.55Zm-12,3A5.31,5.31,0,0,0,4.9,8.1,5.31,5.31,0,0,0,1,6.5,5.31,5.31,0,0,0,4.9,4.9,5.31,5.31,0,0,0,6.5,1,5.31,5.31,0,0,0,8.1,4.9,5.31,5.31,0,0,0,12,6.5,5.46,5.46,0,0,0,6.5,12Z\"/>\n",
              "  </svg>\n",
              "    </button>\n",
              "    <script>\n",
              "      (() => {\n",
              "      const buttonEl =\n",
              "        document.querySelector('#id_e63dd275-b7f4-4187-9824-3786dca1af52 button.colab-df-generate');\n",
              "      buttonEl.style.display =\n",
              "        google.colab.kernel.accessAllowed ? 'block' : 'none';\n",
              "\n",
              "      buttonEl.onclick = () => {\n",
              "        google.colab.notebook.generateWithVariable('x_test');\n",
              "      }\n",
              "      })();\n",
              "    </script>\n",
              "  </div>\n",
              "\n",
              "    </div>\n",
              "  </div>\n"
            ],
            "application/vnd.google.colaboratory.intrinsic+json": {
              "type": "dataframe",
              "variable_name": "x_test",
              "summary": "{\n  \"name\": \"x_test\",\n  \"rows\": 2,\n  \"fields\": [\n    {\n      \"column\": \"Feature1\",\n      \"properties\": {\n        \"dtype\": \"number\",\n        \"std\": 3.8890872965260113,\n        \"min\": 7.0,\n        \"max\": 12.5,\n        \"num_unique_values\": 2,\n        \"samples\": [\n          12.5,\n          7.0\n        ],\n        \"semantic_type\": \"\",\n        \"description\": \"\"\n      }\n    },\n    {\n      \"column\": \"Feature2\",\n      \"properties\": {\n        \"dtype\": \"number\",\n        \"std\": 7.0710678118654755,\n        \"min\": 10.0,\n        \"max\": 20.0,\n        \"num_unique_values\": 2,\n        \"samples\": [\n          20.0,\n          10.0\n        ],\n        \"semantic_type\": \"\",\n        \"description\": \"\"\n      }\n    }\n  ]\n}"
            }
          },
          "metadata": {},
          "execution_count": 8
        }
      ]
    },
    {
      "cell_type": "code",
      "source": [
        "x_test.to_numpy()"
      ],
      "metadata": {
        "colab": {
          "base_uri": "https://localhost:8080/"
        },
        "id": "J0Hy2e0_frfb",
        "outputId": "bf478b51-e9db-4461-b0bf-d5723d3d9b24"
      },
      "execution_count": null,
      "outputs": [
        {
          "output_type": "execute_result",
          "data": {
            "text/plain": [
              "array([[ 7. , 10. ],\n",
              "       [12.5, 20. ]])"
            ]
          },
          "metadata": {},
          "execution_count": 9
        }
      ]
    },
    {
      "cell_type": "code",
      "source": [
        "x_test.to_numpy().shape"
      ],
      "metadata": {
        "colab": {
          "base_uri": "https://localhost:8080/"
        },
        "id": "BRT4riWYfv5Q",
        "outputId": "31a61e5a-4612-4bfc-9fa7-8bc27cc75196"
      },
      "execution_count": null,
      "outputs": [
        {
          "output_type": "execute_result",
          "data": {
            "text/plain": [
              "(2, 2)"
            ]
          },
          "metadata": {},
          "execution_count": 10
        }
      ]
    },
    {
      "cell_type": "markdown",
      "source": [
        "***I will implement step by step and i will not remove the steps***\n"
      ],
      "metadata": {
        "id": "30thjOZImenq"
      }
    },
    {
      "cell_type": "markdown",
      "source": [
        "##**<a name=\"euclidean_distance\">euclidean distance classifier implementation<a>**\n"
      ],
      "metadata": {
        "id": "XjErRw1n9Zd3"
      }
    },
    {
      "cell_type": "code",
      "source": [
        "x_test"
      ],
      "metadata": {
        "colab": {
          "base_uri": "https://localhost:8080/",
          "height": 125
        },
        "id": "dOkB_Awon69H",
        "outputId": "82c96ab1-fd5a-43ca-8160-c147523e52c0"
      },
      "execution_count": null,
      "outputs": [
        {
          "output_type": "execute_result",
          "data": {
            "text/plain": [
              "    Feature1  Feature2\n",
              "9        7.0      10.0\n",
              "10      12.5      20.0"
            ],
            "text/html": [
              "\n",
              "  <div id=\"df-7a288890-48f9-4c80-84cb-0bf0d52e5ade\" class=\"colab-df-container\">\n",
              "    <div>\n",
              "<style scoped>\n",
              "    .dataframe tbody tr th:only-of-type {\n",
              "        vertical-align: middle;\n",
              "    }\n",
              "\n",
              "    .dataframe tbody tr th {\n",
              "        vertical-align: top;\n",
              "    }\n",
              "\n",
              "    .dataframe thead th {\n",
              "        text-align: right;\n",
              "    }\n",
              "</style>\n",
              "<table border=\"1\" class=\"dataframe\">\n",
              "  <thead>\n",
              "    <tr style=\"text-align: right;\">\n",
              "      <th></th>\n",
              "      <th>Feature1</th>\n",
              "      <th>Feature2</th>\n",
              "    </tr>\n",
              "  </thead>\n",
              "  <tbody>\n",
              "    <tr>\n",
              "      <th>9</th>\n",
              "      <td>7.0</td>\n",
              "      <td>10.0</td>\n",
              "    </tr>\n",
              "    <tr>\n",
              "      <th>10</th>\n",
              "      <td>12.5</td>\n",
              "      <td>20.0</td>\n",
              "    </tr>\n",
              "  </tbody>\n",
              "</table>\n",
              "</div>\n",
              "    <div class=\"colab-df-buttons\">\n",
              "\n",
              "  <div class=\"colab-df-container\">\n",
              "    <button class=\"colab-df-convert\" onclick=\"convertToInteractive('df-7a288890-48f9-4c80-84cb-0bf0d52e5ade')\"\n",
              "            title=\"Convert this dataframe to an interactive table.\"\n",
              "            style=\"display:none;\">\n",
              "\n",
              "  <svg xmlns=\"http://www.w3.org/2000/svg\" height=\"24px\" viewBox=\"0 -960 960 960\">\n",
              "    <path d=\"M120-120v-720h720v720H120Zm60-500h600v-160H180v160Zm220 220h160v-160H400v160Zm0 220h160v-160H400v160ZM180-400h160v-160H180v160Zm440 0h160v-160H620v160ZM180-180h160v-160H180v160Zm440 0h160v-160H620v160Z\"/>\n",
              "  </svg>\n",
              "    </button>\n",
              "\n",
              "  <style>\n",
              "    .colab-df-container {\n",
              "      display:flex;\n",
              "      gap: 12px;\n",
              "    }\n",
              "\n",
              "    .colab-df-convert {\n",
              "      background-color: #E8F0FE;\n",
              "      border: none;\n",
              "      border-radius: 50%;\n",
              "      cursor: pointer;\n",
              "      display: none;\n",
              "      fill: #1967D2;\n",
              "      height: 32px;\n",
              "      padding: 0 0 0 0;\n",
              "      width: 32px;\n",
              "    }\n",
              "\n",
              "    .colab-df-convert:hover {\n",
              "      background-color: #E2EBFA;\n",
              "      box-shadow: 0px 1px 2px rgba(60, 64, 67, 0.3), 0px 1px 3px 1px rgba(60, 64, 67, 0.15);\n",
              "      fill: #174EA6;\n",
              "    }\n",
              "\n",
              "    .colab-df-buttons div {\n",
              "      margin-bottom: 4px;\n",
              "    }\n",
              "\n",
              "    [theme=dark] .colab-df-convert {\n",
              "      background-color: #3B4455;\n",
              "      fill: #D2E3FC;\n",
              "    }\n",
              "\n",
              "    [theme=dark] .colab-df-convert:hover {\n",
              "      background-color: #434B5C;\n",
              "      box-shadow: 0px 1px 3px 1px rgba(0, 0, 0, 0.15);\n",
              "      filter: drop-shadow(0px 1px 2px rgba(0, 0, 0, 0.3));\n",
              "      fill: #FFFFFF;\n",
              "    }\n",
              "  </style>\n",
              "\n",
              "    <script>\n",
              "      const buttonEl =\n",
              "        document.querySelector('#df-7a288890-48f9-4c80-84cb-0bf0d52e5ade button.colab-df-convert');\n",
              "      buttonEl.style.display =\n",
              "        google.colab.kernel.accessAllowed ? 'block' : 'none';\n",
              "\n",
              "      async function convertToInteractive(key) {\n",
              "        const element = document.querySelector('#df-7a288890-48f9-4c80-84cb-0bf0d52e5ade');\n",
              "        const dataTable =\n",
              "          await google.colab.kernel.invokeFunction('convertToInteractive',\n",
              "                                                    [key], {});\n",
              "        if (!dataTable) return;\n",
              "\n",
              "        const docLinkHtml = 'Like what you see? Visit the ' +\n",
              "          '<a target=\"_blank\" href=https://colab.research.google.com/notebooks/data_table.ipynb>data table notebook</a>'\n",
              "          + ' to learn more about interactive tables.';\n",
              "        element.innerHTML = '';\n",
              "        dataTable['output_type'] = 'display_data';\n",
              "        await google.colab.output.renderOutput(dataTable, element);\n",
              "        const docLink = document.createElement('div');\n",
              "        docLink.innerHTML = docLinkHtml;\n",
              "        element.appendChild(docLink);\n",
              "      }\n",
              "    </script>\n",
              "  </div>\n",
              "\n",
              "\n",
              "<div id=\"df-1c730575-e57e-497c-8405-721a92d2bbc9\">\n",
              "  <button class=\"colab-df-quickchart\" onclick=\"quickchart('df-1c730575-e57e-497c-8405-721a92d2bbc9')\"\n",
              "            title=\"Suggest charts\"\n",
              "            style=\"display:none;\">\n",
              "\n",
              "<svg xmlns=\"http://www.w3.org/2000/svg\" height=\"24px\"viewBox=\"0 0 24 24\"\n",
              "     width=\"24px\">\n",
              "    <g>\n",
              "        <path d=\"M19 3H5c-1.1 0-2 .9-2 2v14c0 1.1.9 2 2 2h14c1.1 0 2-.9 2-2V5c0-1.1-.9-2-2-2zM9 17H7v-7h2v7zm4 0h-2V7h2v10zm4 0h-2v-4h2v4z\"/>\n",
              "    </g>\n",
              "</svg>\n",
              "  </button>\n",
              "\n",
              "<style>\n",
              "  .colab-df-quickchart {\n",
              "      --bg-color: #E8F0FE;\n",
              "      --fill-color: #1967D2;\n",
              "      --hover-bg-color: #E2EBFA;\n",
              "      --hover-fill-color: #174EA6;\n",
              "      --disabled-fill-color: #AAA;\n",
              "      --disabled-bg-color: #DDD;\n",
              "  }\n",
              "\n",
              "  [theme=dark] .colab-df-quickchart {\n",
              "      --bg-color: #3B4455;\n",
              "      --fill-color: #D2E3FC;\n",
              "      --hover-bg-color: #434B5C;\n",
              "      --hover-fill-color: #FFFFFF;\n",
              "      --disabled-bg-color: #3B4455;\n",
              "      --disabled-fill-color: #666;\n",
              "  }\n",
              "\n",
              "  .colab-df-quickchart {\n",
              "    background-color: var(--bg-color);\n",
              "    border: none;\n",
              "    border-radius: 50%;\n",
              "    cursor: pointer;\n",
              "    display: none;\n",
              "    fill: var(--fill-color);\n",
              "    height: 32px;\n",
              "    padding: 0;\n",
              "    width: 32px;\n",
              "  }\n",
              "\n",
              "  .colab-df-quickchart:hover {\n",
              "    background-color: var(--hover-bg-color);\n",
              "    box-shadow: 0 1px 2px rgba(60, 64, 67, 0.3), 0 1px 3px 1px rgba(60, 64, 67, 0.15);\n",
              "    fill: var(--button-hover-fill-color);\n",
              "  }\n",
              "\n",
              "  .colab-df-quickchart-complete:disabled,\n",
              "  .colab-df-quickchart-complete:disabled:hover {\n",
              "    background-color: var(--disabled-bg-color);\n",
              "    fill: var(--disabled-fill-color);\n",
              "    box-shadow: none;\n",
              "  }\n",
              "\n",
              "  .colab-df-spinner {\n",
              "    border: 2px solid var(--fill-color);\n",
              "    border-color: transparent;\n",
              "    border-bottom-color: var(--fill-color);\n",
              "    animation:\n",
              "      spin 1s steps(1) infinite;\n",
              "  }\n",
              "\n",
              "  @keyframes spin {\n",
              "    0% {\n",
              "      border-color: transparent;\n",
              "      border-bottom-color: var(--fill-color);\n",
              "      border-left-color: var(--fill-color);\n",
              "    }\n",
              "    20% {\n",
              "      border-color: transparent;\n",
              "      border-left-color: var(--fill-color);\n",
              "      border-top-color: var(--fill-color);\n",
              "    }\n",
              "    30% {\n",
              "      border-color: transparent;\n",
              "      border-left-color: var(--fill-color);\n",
              "      border-top-color: var(--fill-color);\n",
              "      border-right-color: var(--fill-color);\n",
              "    }\n",
              "    40% {\n",
              "      border-color: transparent;\n",
              "      border-right-color: var(--fill-color);\n",
              "      border-top-color: var(--fill-color);\n",
              "    }\n",
              "    60% {\n",
              "      border-color: transparent;\n",
              "      border-right-color: var(--fill-color);\n",
              "    }\n",
              "    80% {\n",
              "      border-color: transparent;\n",
              "      border-right-color: var(--fill-color);\n",
              "      border-bottom-color: var(--fill-color);\n",
              "    }\n",
              "    90% {\n",
              "      border-color: transparent;\n",
              "      border-bottom-color: var(--fill-color);\n",
              "    }\n",
              "  }\n",
              "</style>\n",
              "\n",
              "  <script>\n",
              "    async function quickchart(key) {\n",
              "      const quickchartButtonEl =\n",
              "        document.querySelector('#' + key + ' button');\n",
              "      quickchartButtonEl.disabled = true;  // To prevent multiple clicks.\n",
              "      quickchartButtonEl.classList.add('colab-df-spinner');\n",
              "      try {\n",
              "        const charts = await google.colab.kernel.invokeFunction(\n",
              "            'suggestCharts', [key], {});\n",
              "      } catch (error) {\n",
              "        console.error('Error during call to suggestCharts:', error);\n",
              "      }\n",
              "      quickchartButtonEl.classList.remove('colab-df-spinner');\n",
              "      quickchartButtonEl.classList.add('colab-df-quickchart-complete');\n",
              "    }\n",
              "    (() => {\n",
              "      let quickchartButtonEl =\n",
              "        document.querySelector('#df-1c730575-e57e-497c-8405-721a92d2bbc9 button');\n",
              "      quickchartButtonEl.style.display =\n",
              "        google.colab.kernel.accessAllowed ? 'block' : 'none';\n",
              "    })();\n",
              "  </script>\n",
              "</div>\n",
              "\n",
              "  <div id=\"id_a56d2f39-daa9-41a6-be2b-d7fb57f34267\">\n",
              "    <style>\n",
              "      .colab-df-generate {\n",
              "        background-color: #E8F0FE;\n",
              "        border: none;\n",
              "        border-radius: 50%;\n",
              "        cursor: pointer;\n",
              "        display: none;\n",
              "        fill: #1967D2;\n",
              "        height: 32px;\n",
              "        padding: 0 0 0 0;\n",
              "        width: 32px;\n",
              "      }\n",
              "\n",
              "      .colab-df-generate:hover {\n",
              "        background-color: #E2EBFA;\n",
              "        box-shadow: 0px 1px 2px rgba(60, 64, 67, 0.3), 0px 1px 3px 1px rgba(60, 64, 67, 0.15);\n",
              "        fill: #174EA6;\n",
              "      }\n",
              "\n",
              "      [theme=dark] .colab-df-generate {\n",
              "        background-color: #3B4455;\n",
              "        fill: #D2E3FC;\n",
              "      }\n",
              "\n",
              "      [theme=dark] .colab-df-generate:hover {\n",
              "        background-color: #434B5C;\n",
              "        box-shadow: 0px 1px 3px 1px rgba(0, 0, 0, 0.15);\n",
              "        filter: drop-shadow(0px 1px 2px rgba(0, 0, 0, 0.3));\n",
              "        fill: #FFFFFF;\n",
              "      }\n",
              "    </style>\n",
              "    <button class=\"colab-df-generate\" onclick=\"generateWithVariable('x_test')\"\n",
              "            title=\"Generate code using this dataframe.\"\n",
              "            style=\"display:none;\">\n",
              "\n",
              "  <svg xmlns=\"http://www.w3.org/2000/svg\" height=\"24px\"viewBox=\"0 0 24 24\"\n",
              "       width=\"24px\">\n",
              "    <path d=\"M7,19H8.4L18.45,9,17,7.55,7,17.6ZM5,21V16.75L18.45,3.32a2,2,0,0,1,2.83,0l1.4,1.43a1.91,1.91,0,0,1,.58,1.4,1.91,1.91,0,0,1-.58,1.4L9.25,21ZM18.45,9,17,7.55Zm-12,3A5.31,5.31,0,0,0,4.9,8.1,5.31,5.31,0,0,0,1,6.5,5.31,5.31,0,0,0,4.9,4.9,5.31,5.31,0,0,0,6.5,1,5.31,5.31,0,0,0,8.1,4.9,5.31,5.31,0,0,0,12,6.5,5.46,5.46,0,0,0,6.5,12Z\"/>\n",
              "  </svg>\n",
              "    </button>\n",
              "    <script>\n",
              "      (() => {\n",
              "      const buttonEl =\n",
              "        document.querySelector('#id_a56d2f39-daa9-41a6-be2b-d7fb57f34267 button.colab-df-generate');\n",
              "      buttonEl.style.display =\n",
              "        google.colab.kernel.accessAllowed ? 'block' : 'none';\n",
              "\n",
              "      buttonEl.onclick = () => {\n",
              "        google.colab.notebook.generateWithVariable('x_test');\n",
              "      }\n",
              "      })();\n",
              "    </script>\n",
              "  </div>\n",
              "\n",
              "    </div>\n",
              "  </div>\n"
            ],
            "application/vnd.google.colaboratory.intrinsic+json": {
              "type": "dataframe",
              "variable_name": "x_test",
              "summary": "{\n  \"name\": \"x_test\",\n  \"rows\": 2,\n  \"fields\": [\n    {\n      \"column\": \"Feature1\",\n      \"properties\": {\n        \"dtype\": \"number\",\n        \"std\": 3.8890872965260113,\n        \"min\": 7.0,\n        \"max\": 12.5,\n        \"num_unique_values\": 2,\n        \"samples\": [\n          12.5,\n          7.0\n        ],\n        \"semantic_type\": \"\",\n        \"description\": \"\"\n      }\n    },\n    {\n      \"column\": \"Feature2\",\n      \"properties\": {\n        \"dtype\": \"number\",\n        \"std\": 7.0710678118654755,\n        \"min\": 10.0,\n        \"max\": 20.0,\n        \"num_unique_values\": 2,\n        \"samples\": [\n          20.0,\n          10.0\n        ],\n        \"semantic_type\": \"\",\n        \"description\": \"\"\n      }\n    }\n  ]\n}"
            }
          },
          "metadata": {},
          "execution_count": 11
        }
      ]
    },
    {
      "cell_type": "code",
      "source": [
        "def euclidean_distance(point,dataset):\n",
        "  distances = np.sqrt(np.sum((dataset - point) ** 2, axis=1))\n",
        "  return distances\n",
        "\n",
        "for i in x_test:          # for i in x_test.columns :   the same\n",
        "  print(i)\n",
        "  # euclidean_distance(i,x_train)"
      ],
      "metadata": {
        "colab": {
          "base_uri": "https://localhost:8080/"
        },
        "id": "VauPCPEkewyL",
        "outputId": "fccb33d1-6100-4b0b-bc20-a6aade16f930"
      },
      "execution_count": null,
      "outputs": [
        {
          "output_type": "stream",
          "name": "stdout",
          "text": [
            "Feature1\n",
            "Feature2\n"
          ]
        }
      ]
    },
    {
      "cell_type": "markdown",
      "source": [
        "**NO!!!!!!!!!!!!**                                                            \n",
        "i want to loop in test data not columns ."
      ],
      "metadata": {
        "id": "_PNMqNmO9uAc"
      }
    },
    {
      "cell_type": "code",
      "source": [
        "def euclidean_distance(point,dataset):\n",
        "  distances = np.sqrt(np.sum((dataset - point) ** 2, axis=1))\n",
        "  return distances\n",
        "\n",
        "for i in x_test:\n",
        "  print(x_test[i],\"\\n\")\n",
        "  # euclidean_distance(i,x_train)"
      ],
      "metadata": {
        "colab": {
          "base_uri": "https://localhost:8080/"
        },
        "id": "t--OCDLTfJHr",
        "outputId": "ea29e9b6-3300-4c0f-d4b1-ba23e4806d2c"
      },
      "execution_count": null,
      "outputs": [
        {
          "output_type": "stream",
          "name": "stdout",
          "text": [
            "9      7.0\n",
            "10    12.5\n",
            "Name: Feature1, dtype: float64 \n",
            "\n",
            "9     10.0\n",
            "10    20.0\n",
            "Name: Feature2, dtype: float64 \n",
            "\n"
          ]
        }
      ]
    },
    {
      "cell_type": "markdown",
      "source": [
        "**NO!!!!!!!!!!!!!!!!!!!!!!!!!!**"
      ],
      "metadata": {
        "id": "pTjWFV-y91JQ"
      }
    },
    {
      "cell_type": "code",
      "source": [
        "def euclidean_distance(point,dataset):\n",
        "  distances = np.sqrt(np.sum((dataset - point) ** 2, axis=1))\n",
        "  return distances\n",
        "\n",
        "for i in x_test.to_numpy():\n",
        "  print(i,\"\\n\")\n",
        "  # euclidean_distance(i,x_train)"
      ],
      "metadata": {
        "colab": {
          "base_uri": "https://localhost:8080/"
        },
        "id": "_xW8JNVtfb-O",
        "outputId": "ce56ff43-e0a9-41a9-aa2e-c23480351ba1"
      },
      "execution_count": null,
      "outputs": [
        {
          "output_type": "stream",
          "name": "stdout",
          "text": [
            "[ 7. 10.] \n",
            "\n",
            "[12.5 20. ] \n",
            "\n"
          ]
        }
      ]
    },
    {
      "cell_type": "markdown",
      "source": [
        "**YES!!!!!!!!!!!!!!!!!**"
      ],
      "metadata": {
        "id": "NBhSXiB993z_"
      }
    },
    {
      "cell_type": "code",
      "source": [
        "def euclidean_distance(point,dataset):\n",
        "  distances = np.sqrt(np.sum((dataset - point) ** 2, axis=1))\n",
        "  return distances\n",
        "\n",
        "for i in x_test.to_numpy():\n",
        "  # print(i,\"\\n\")\n",
        "  distances = euclidean_distance(i,x_train)\n",
        "  print(f\"distances from point : {i} to the all train data :\\n{distances}\\n\\n\")"
      ],
      "metadata": {
        "colab": {
          "base_uri": "https://localhost:8080/"
        },
        "id": "nDDODewVgITs",
        "outputId": "a9b35d02-cdb2-4e45-ef96-75d9c0538578"
      },
      "execution_count": null,
      "outputs": [
        {
          "output_type": "stream",
          "name": "stdout",
          "text": [
            "distances from point : [ 7. 10.] to the all train data :\n",
            "0     5.000000\n",
            "1     6.403124\n",
            "2    10.440307\n",
            "3     5.000000\n",
            "4    10.049876\n",
            "5    15.132746\n",
            "6     7.071068\n",
            "7    16.155494\n",
            "8    21.189620\n",
            "dtype: float64\n",
            "\n",
            "\n",
            "distances from point : [12.5 20. ] to the all train data :\n",
            "0    14.500000\n",
            "1    10.735455\n",
            "2     8.500000\n",
            "3     7.433034\n",
            "4     4.500000\n",
            "5     6.103278\n",
            "6     5.024938\n",
            "7     5.024938\n",
            "8    10.111874\n",
            "dtype: float64\n",
            "\n",
            "\n"
          ]
        }
      ]
    },
    {
      "cell_type": "markdown",
      "source": [
        "**Great!! Now we have the distances, we want to get the smallest one**"
      ],
      "metadata": {
        "id": "QGCn61ob9-7-"
      }
    },
    {
      "cell_type": "code",
      "source": [
        "def euclidean_distance(point,dataset):\n",
        "  distances = np.sqrt(np.sum((dataset - point) ** 2, axis=1))\n",
        "  return distances\n",
        "\n",
        "for i in x_test.to_numpy():\n",
        "  # print(i,\"\\n\")\n",
        "  min_dis = float('inf')\n",
        "  distances = euclidean_distance(i,x_train)\n",
        "  # print(f\"distances of {i} :\\n{distances}\\n\\n\")\n",
        "  for dis in distances :\n",
        "    if dis < min_dis :\n",
        "      min_dis = dis\n",
        "  print(f\"min distance for {i} : {min_dis}\")"
      ],
      "metadata": {
        "colab": {
          "base_uri": "https://localhost:8080/"
        },
        "id": "jGv3gprhg064",
        "outputId": "e2905e8e-6618-40ea-df75-e1c6887de7c3"
      },
      "execution_count": null,
      "outputs": [
        {
          "output_type": "stream",
          "name": "stdout",
          "text": [
            "min distance for [ 7. 10.] : 5.0\n",
            "min distance for [12.5 20. ] : 4.5\n"
          ]
        }
      ]
    },
    {
      "cell_type": "markdown",
      "source": [
        "**I want to know the index of the small distance in the data so that we can get the label of this smallest distance.**"
      ],
      "metadata": {
        "id": "icIGBfPe-S_F"
      }
    },
    {
      "cell_type": "code",
      "source": [
        "def euclidean_distance(point,dataset):\n",
        "  distances = np.sqrt(np.sum((dataset - point) ** 2, axis=1))\n",
        "  return distances\n",
        "\n",
        "for i in x_test.to_numpy():\n",
        "  # print(i,\"\\n\")\n",
        "  min_dis = float('inf')\n",
        "  min_distance_index = -1\n",
        "  index = -1\n",
        "  distances = euclidean_distance(i,x_train)\n",
        "  # print(f\"distances of {i} :\\n{distances}\\n\\n\")\n",
        "  for dis in distances :\n",
        "    index +=1\n",
        "    if dis < min_dis :\n",
        "      min_dis = dis\n",
        "      min_distance_index = index\n",
        "  print(f\"min distance for {i} : {min_dis} & exist in index : {min_distance_index}\")"
      ],
      "metadata": {
        "colab": {
          "base_uri": "https://localhost:8080/"
        },
        "id": "VMJBMuEvham4",
        "outputId": "fd6d4c75-343d-417d-e506-ebcb5ea45e1a"
      },
      "execution_count": null,
      "outputs": [
        {
          "output_type": "stream",
          "name": "stdout",
          "text": [
            "min distance for [ 7. 10.] : 5.0 & exist in index : 0\n",
            "min distance for [12.5 20. ] : 4.5 & exist in index : 4\n"
          ]
        }
      ]
    },
    {
      "cell_type": "code",
      "source": [
        "def euclidean_distance(point,dataset):\n",
        "  distances = np.sqrt(np.sum((dataset - point) ** 2, axis=1))\n",
        "  return distances\n",
        "\n",
        "for i in x_test.to_numpy():\n",
        "  # print(i,\"\\n\")\n",
        "  min_dis = float('inf')\n",
        "  min_distance_index = -1\n",
        "  index = -1\n",
        "  distances = euclidean_distance(i,x_train)\n",
        "  # print(f\"distances of {i} :\\n{distances}\\n\\n\")\n",
        "  for dis in distances :\n",
        "    index +=1\n",
        "    if dis < min_dis :\n",
        "      min_dis = dis\n",
        "      min_distance_index = index\n",
        "  predicted_label = y_train[min_distance_index]\n",
        "  print(f\"min distance for {i} : {min_dis} & exist in index : {min_distance_index} & the label of min distance : {predicted_label}\")"
      ],
      "metadata": {
        "colab": {
          "base_uri": "https://localhost:8080/"
        },
        "id": "Xi1NNOcdh_dC",
        "outputId": "02256407-62b9-4c15-c33e-5c5e405705b7"
      },
      "execution_count": null,
      "outputs": [
        {
          "output_type": "stream",
          "name": "stdout",
          "text": [
            "min distance for [ 7. 10.] : 5.0 & exist in index : 0 & the label of min distance : 1\n",
            "min distance for [12.5 20. ] : 4.5 & exist in index : 4 & the label of min distance : 2\n"
          ]
        }
      ]
    },
    {
      "cell_type": "markdown",
      "source": [
        "****Final Implementation foreuclidean distance****"
      ],
      "metadata": {
        "id": "LL7UPa7Wu4Ak"
      }
    },
    {
      "cell_type": "code",
      "source": [
        "def euclidean_distance ( point , dataset ) :\n",
        "    \"\"\"\n",
        "    Calculate the Euclidean distance between a point and all points in a dataset.\n",
        "\n",
        "    Parameters:\n",
        "    - point (array-like): The coordinates of the point.\n",
        "    - dataset (array-like): The dataset containing multiple points.\n",
        "\n",
        "    Returns:\n",
        "    - distances (array-like): An array of Euclidean distances between the point and each point in the dataset.\n",
        "    \"\"\"\n",
        "\n",
        "\n",
        "    distances = np.sqrt(np.sum((dataset - point) ** 2, axis=1))\n",
        "    return distances\n",
        "\n",
        "def predict (x_test):\n",
        "  \"\"\"\n",
        "    Predict labels for test data using the nearest neighbor approach(Euclidean distance).\n",
        "\n",
        "    Parameters:\n",
        "    - x_test (DataFrame): Test data to be predicted.\n",
        "\n",
        "    Returns:\n",
        "    - predictions (list): Predicted labels for the test data.\n",
        "    \"\"\"\n",
        "\n",
        "\n",
        "  predictions = []\n",
        "  for i in x_test.to_numpy():\n",
        "    # Initialize variables to keep track of minimum distance and its corresponding index\n",
        "    min_dis = float('inf')\n",
        "    min_distance_index = -1\n",
        "\n",
        "    # Initialize index to -1 for tracking the index of the current distance being calculated\n",
        "    index = -1\n",
        "\n",
        "\n",
        "    # Calculate Euclidean distances between the current test point and all points in the training set\n",
        "    distances = euclidean_distance(i,x_train)\n",
        "\n",
        "    for dis in distances :\n",
        "      index +=1\n",
        "\n",
        "      # Find the index of the point with the minimum distance\n",
        "      if dis < min_dis :\n",
        "        min_dis = dis\n",
        "        min_distance_index = index\n",
        "\n",
        "    # Get the predicted label corresponding to the point with the minimum distance\n",
        "    predicted_label = y_train[min_distance_index]\n",
        "\n",
        "    # Append the predicted label to the list of predictions\n",
        "    predictions.append(predicted_label)\n",
        "\n",
        "    # Print information about the minimum distance for each test point (optional)\n",
        "    print(f\"min distance for {i} : {min_dis} & exist in index : {min_distance_index} & the label of min distance : {predicted_label}\")\n",
        "\n",
        "  # Print predictions (optional)\n",
        "  print (f\"predictions : \")\n",
        "\n",
        "  # Return the list of predictions\n",
        "  return predictions\n",
        "\n",
        "\n",
        "# Call the predict function with the test data (x_test)\n",
        "predict(x_test)"
      ],
      "metadata": {
        "colab": {
          "base_uri": "https://localhost:8080/"
        },
        "id": "VIqGtxGvi-UE",
        "outputId": "6c8e9a3f-faa0-4145-d219-fee892da6868"
      },
      "execution_count": null,
      "outputs": [
        {
          "output_type": "stream",
          "name": "stdout",
          "text": [
            "min distance for [ 7. 10.] : 5.0 & exist in index : 0 & the label of min distance : 1\n",
            "min distance for [12.5 20. ] : 4.5 & exist in index : 4 & the label of min distance : 2\n",
            "predictions : \n"
          ]
        },
        {
          "output_type": "execute_result",
          "data": {
            "text/plain": [
              "[1, 2]"
            ]
          },
          "metadata": {},
          "execution_count": 46
        }
      ]
    },
    {
      "cell_type": "markdown",
      "source": [
        "##**<a name=\"absolute_distance\">absolute distance classifier implementation<a>**"
      ],
      "metadata": {
        "id": "wx4YF-7ugG3V"
      }
    },
    {
      "cell_type": "markdown",
      "source": [
        "**Implementation**"
      ],
      "metadata": {
        "id": "NDcaBMnY_Wik"
      }
    },
    {
      "cell_type": "code",
      "source": [
        "def euclidean_distance(point,dataset):\n",
        "  distances = np.sqrt(np.sum((dataset - point) ** 2, axis=1))\n",
        "  return distances\n",
        "\n",
        "\n",
        "def absolute_distance( point, dataset):\n",
        "\n",
        "\n",
        "    \"\"\"\n",
        "    Calculate the Absolute distance between a point and all points in a dataset.\n",
        "\n",
        "    Parameters:\n",
        "    - point (array-like): The coordinates of the point.\n",
        "    - dataset (array-like): The dataset containing multiple points.\n",
        "\n",
        "    Returns:\n",
        "    - distances (array-like): An array of Euclidean distances between the point and each point in the dataset.\n",
        "    \"\"\"\n",
        "\n",
        "\n",
        "    distances = np.sum(np.abs(dataset - point), axis=1)\n",
        "    return distances\n",
        "#-------------------------------------------------------------------------------\n",
        "#-------------------------------------------------------------------------------\n",
        "#-------------------------------------------------------------------------------\n",
        "\n",
        "def predict (x_test, dis_type):\n",
        "  predictions = []\n",
        "  for i in x_test.to_numpy():\n",
        "    # print(i,\"\\n\")\n",
        "    min_distance = float('inf')\n",
        "    min_distance_index = -1\n",
        "    index = -1\n",
        "\n",
        "\n",
        "    if (dis_type == 'euclidean_distance') :\n",
        "      distances = euclidean_distance(i,x_train)\n",
        "      print(f\"distances of {i} :\\n{distances}\\n\\n\")\n",
        "    elif (dis_type=='absolute_distance'):\n",
        "      distances = absolute_distance(i,x_train)\n",
        "      print(f\"distances of {i} :\\n{distances}\\n\\n\")\n",
        "    else :\n",
        "      print(\"error\")\n",
        "\n",
        "\n",
        "\n",
        "    for dis in distances :\n",
        "      index +=1\n",
        "      if dis < min_distance :\n",
        "        min_distance = dis\n",
        "        min_distance_index = index\n",
        "    predicted_label = y_train[min_distance_index]\n",
        "    predictions.append(predicted_label)\n",
        "    print(f\"min distance for {i} : {min_distance} & exist in index : {min_distance_index} & the label of min distance : {predicted_label}\")\n",
        "  print (f\"predictions : \")\n",
        "  return predictions\n",
        "\n",
        "predict(x_test,'absolute_distance')"
      ],
      "metadata": {
        "id": "-zva1cGpmSno",
        "colab": {
          "base_uri": "https://localhost:8080/"
        },
        "outputId": "9ba585d0-1216-492c-de1b-3c53d0c4fdae"
      },
      "execution_count": null,
      "outputs": [
        {
          "output_type": "stream",
          "name": "stdout",
          "text": [
            "distances of [ 7. 10.] :\n",
            "0     5.0\n",
            "1     9.0\n",
            "2    13.0\n",
            "3     5.0\n",
            "4    11.0\n",
            "5    17.0\n",
            "6    10.0\n",
            "7    21.0\n",
            "8    27.0\n",
            "dtype: float64\n",
            "\n",
            "\n",
            "min distance for [ 7. 10.] : 5.0 & exist in index : 0 & the label of min distance : 1\n",
            "distances of [12.5 20. ] :\n",
            "0    20.5\n",
            "1    14.5\n",
            "2     8.5\n",
            "3    10.5\n",
            "4     4.5\n",
            "5     8.5\n",
            "6     5.5\n",
            "7     5.5\n",
            "8    11.5\n",
            "dtype: float64\n",
            "\n",
            "\n",
            "min distance for [12.5 20. ] : 4.5 & exist in index : 4 & the label of min distance : 2\n",
            "predictions : \n"
          ]
        },
        {
          "output_type": "execute_result",
          "data": {
            "text/plain": [
              "[1, 2]"
            ]
          },
          "metadata": {},
          "execution_count": 49
        }
      ]
    },
    {
      "cell_type": "markdown",
      "source": [
        "**Final Implementation now  you can choose the type of distance 'euclidean' or 'absolute'**"
      ],
      "metadata": {
        "id": "7VquehXM_PUq"
      }
    },
    {
      "cell_type": "code",
      "source": [
        "class MinDistanceClassifier:\n",
        "\n",
        "    def __init__(self, distance_type):\n",
        "        \"\"\"\n",
        "        Initialize the MinDistanceClassifier.\n",
        "\n",
        "        Parameters:\n",
        "        - distance_type (str): Type of distance metric to be used. Options: 'euclidean' or 'absolute'.\n",
        "        \"\"\"\n",
        "        self.X_train = None\n",
        "        self.y_train = None\n",
        "        self.distance_type = distance_type\n",
        "\n",
        "\n",
        "\n",
        "\n",
        "    def fit(self, X_train, y_train):\n",
        "        \"\"\"\n",
        "        Fit the classifier to the training data.\n",
        "\n",
        "        Parameters:\n",
        "        - X_train (array-like): Training features.\n",
        "        - y_train (array-like): Training labels.\n",
        "        \"\"\"\n",
        "\n",
        "        self.X_train = X_train\n",
        "        self.y_train = y_train\n",
        "\n",
        "    def euclidean_distance(self, point, dataset):\n",
        "\n",
        "\n",
        "        \"\"\"\n",
        "        Calculate the Euclidean distance between a point and all points in a dataset.\n",
        "\n",
        "        Parameters:\n",
        "        - point (array-like): The coordinates of the point.\n",
        "        - dataset (array-like): The dataset containing multiple points.\n",
        "\n",
        "        Returns:\n",
        "        - distances (array-like): An array of Euclidean distances between the point and each point in the dataset.\n",
        "        \"\"\"\n",
        "\n",
        "\n",
        "        distances = np.sum((dataset - point) ** 2, axis=1)\n",
        "        return distances\n",
        "\n",
        "    def absolute_distance(self, point, dataset):\n",
        "\n",
        "        \"\"\"\n",
        "        Calculate the absolute distance between a point and all points in a dataset.\n",
        "\n",
        "        Parameters:\n",
        "        - point (array-like): The coordinates of the point.\n",
        "        - dataset (array-like): The dataset containing multiple points.\n",
        "\n",
        "        Returns:\n",
        "        - distances (array-like): An array of absolute distances between the point and each point in the dataset.\n",
        "        \"\"\"\n",
        "\n",
        "        distances = np.sum(np.abs(dataset - point), axis=1)\n",
        "        return distances\n",
        "\n",
        "    def predict(self, X_test):\n",
        "\n",
        "\n",
        "        \"\"\"\n",
        "        Predict the class labels for the test data.\n",
        "\n",
        "        Parameters:\n",
        "        - X_test (array-like): Test features.\n",
        "\n",
        "        Returns:\n",
        "        - predictions (array-like): Predicted class labels for the test data.\n",
        "        \"\"\"\n",
        "\n",
        "        predictions = []\n",
        "        for point in X_test.to_numpy():\n",
        "            min_distance = float('inf')\n",
        "            min_distance_index = None\n",
        "            index = -1\n",
        "\n",
        "            # Calculate distances from x_test to all training samples\n",
        "            if self.distance_type == 'euclidean':\n",
        "                distances = self.euclidean_distance(point, self.X_train)\n",
        "                print (f\"distances point {point} :\\n{distances} \\n\")\n",
        "            elif self.distance_type == 'absolute':\n",
        "                distances = self.absolute_distance(point, self.X_train)\n",
        "                print (f\"distances point {point} :\\n{distances} \\n\")\n",
        "            else:\n",
        "                raise ValueError(\"Invalid distance type. Choose 'euclidean' or 'absolute'.\")\n",
        "\n",
        "            for dis in distances:\n",
        "                index += 1\n",
        "                if dis < min_distance:\n",
        "                    min_distance = dis\n",
        "                    min_distance_index = index\n",
        "\n",
        "            # print (f\"min distance is : {min_distance} belong to class {y_train[min_distance_index]}\\n\")\n",
        "            # Predict the class label of the nearest neighbor\n",
        "            predicted_label = self.y_train[min_distance_index]\n",
        "            predictions.append(predicted_label)\n",
        "            print(f\"min distance for {point} : {min_distance} & exist in index : {min_distance_index} & the label of min distance : {predicted_label}\\n\")\n",
        "            print(\"--------------------------------------------------------------------------------------\")\n",
        "        return np.array(predictions)\n"
      ],
      "metadata": {
        "id": "gnGJ_FH2chke"
      },
      "execution_count": null,
      "outputs": []
    },
    {
      "cell_type": "code",
      "source": [
        "# Create and fit the classifier\n",
        "classifier1 = MinDistanceClassifier('absolute')\n",
        "classifier1.fit(x_train, y_train)\n",
        "\n",
        "\n",
        "\n",
        "classifier2 = MinDistanceClassifier('euclidean')\n",
        "classifier2.fit(x_train, y_train)"
      ],
      "metadata": {
        "id": "V-qAO10XdVQA"
      },
      "execution_count": null,
      "outputs": []
    },
    {
      "cell_type": "code",
      "source": [
        "# Make predictions\n",
        "y_predict = classifier1.predict(x_test)\n",
        "# y_predict\n",
        "print(f\"the prediction is : {y_predict}\\n\")\n",
        "print(\"************************************************************************************************************************\\n\")\n",
        "print(\"************************************************************************************************************************\\n\")\n",
        "print(\"************************************************************************************************************************\\n\")\n",
        "\n",
        "# Make predictions\n",
        "y_predict = classifier2.predict(x_test)\n",
        "# y_predict\n",
        "print(f\"the prediction is : {y_predict}\")"
      ],
      "metadata": {
        "colab": {
          "base_uri": "https://localhost:8080/"
        },
        "id": "s5UH0kIudab8",
        "outputId": "431e8f70-8061-4712-a392-f9c0c9ab2903"
      },
      "execution_count": null,
      "outputs": [
        {
          "output_type": "stream",
          "name": "stdout",
          "text": [
            "distances point [ 7. 10.] :\n",
            "0     5.0\n",
            "1     9.0\n",
            "2    13.0\n",
            "3     5.0\n",
            "4    11.0\n",
            "5    17.0\n",
            "6    10.0\n",
            "7    21.0\n",
            "8    27.0\n",
            "dtype: float64 \n",
            "\n",
            "min distance for [ 7. 10.] : 5.0 & exist in index : 0 & the label of min distance : 1\n",
            "\n",
            "--------------------------------------------------------------------------------------\n",
            "distances point [12.5 20. ] :\n",
            "0    20.5\n",
            "1    14.5\n",
            "2     8.5\n",
            "3    10.5\n",
            "4     4.5\n",
            "5     8.5\n",
            "6     5.5\n",
            "7     5.5\n",
            "8    11.5\n",
            "dtype: float64 \n",
            "\n",
            "min distance for [12.5 20. ] : 4.5 & exist in index : 4 & the label of min distance : 2\n",
            "\n",
            "--------------------------------------------------------------------------------------\n",
            "the prediction is : [1 2]\n",
            "\n",
            "************************************************************************************************************************\n",
            "\n",
            "************************************************************************************************************************\n",
            "\n",
            "************************************************************************************************************************\n",
            "\n",
            "distances point [ 7. 10.] :\n",
            "0     25.0\n",
            "1     41.0\n",
            "2    109.0\n",
            "3     25.0\n",
            "4    101.0\n",
            "5    229.0\n",
            "6     50.0\n",
            "7    261.0\n",
            "8    449.0\n",
            "dtype: float64 \n",
            "\n",
            "min distance for [ 7. 10.] : 25.0 & exist in index : 0 & the label of min distance : 1\n",
            "\n",
            "--------------------------------------------------------------------------------------\n",
            "distances point [12.5 20. ] :\n",
            "0    210.25\n",
            "1    115.25\n",
            "2     72.25\n",
            "3     55.25\n",
            "4     20.25\n",
            "5     37.25\n",
            "6     25.25\n",
            "7     25.25\n",
            "8    102.25\n",
            "dtype: float64 \n",
            "\n",
            "min distance for [12.5 20. ] : 20.25 & exist in index : 4 & the label of min distance : 2\n",
            "\n",
            "--------------------------------------------------------------------------------------\n",
            "the prediction is : [1 2]\n"
          ]
        }
      ]
    },
    {
      "cell_type": "markdown",
      "source": [
        "**END**"
      ],
      "metadata": {
        "id": "MtpD5RvfulQV"
      }
    },
    {
      "cell_type": "markdown",
      "source": [
        "##**<a name=\"Cosine_Similarity\">Cosine Similarity classifier implementation<a>**"
      ],
      "metadata": {
        "id": "JsxPi8P6ulI6"
      }
    },
    {
      "cell_type": "markdown",
      "source": [
        "**converting cosine similarity to distance ( 1 - cosine )**                           \n",
        "but that make the type of the returned from it (numpy array)  i want to convert it to Series"
      ],
      "metadata": {
        "id": "7Q048JcI_5ok"
      }
    },
    {
      "cell_type": "code",
      "source": [
        "def euclidean_distance(point,dataset):\n",
        "  distances = np.sqrt(np.sum((dataset - point) ** 2, axis=1))\n",
        "  return distances\n",
        "\n",
        "for i in x_test.to_numpy():\n",
        "  distances = euclidean_distance(i,x_train)\n",
        "  print(distances)\n",
        "  print(f\"type of function return  :{type(distances)}\")  #series\n",
        "\n",
        "print(\"********************************************************************************************************************\")\n",
        "\n",
        "def absolute_distance( point, dataset):\n",
        "    distances = np.sum(np.abs(dataset - point), axis=1)\n",
        "    return distances\n",
        "\n",
        "for i in x_test.to_numpy():\n",
        "  distances = absolute_distance(i,x_train)\n",
        "  print(distances)\n",
        "  print(f\"type of function return  :{type(distances)}\")  #series\n",
        "\n",
        "\n",
        "print(\"********************************************************************************************************************\")\n",
        "def cosine_similarity( point, dataset):\n",
        "    dot_product = np.dot(dataset, point)\n",
        "    dataset_norm = np.linalg.norm(dataset, axis=1)\n",
        "    point_norm = np.linalg.norm(point)\n",
        "    cosine_sim = dot_product / (dataset_norm * point_norm)\n",
        "    return ( 1 - cosine_sim)  # Convert cosine similarity to distance to take the min not max\n",
        "\n",
        "\n",
        "for i in x_test.to_numpy():\n",
        "  distances = cosine_similarity(i,x_train)\n",
        "  print(distances)\n",
        "  print(f\"type of function return  :{type(distances)}\")  #numpy.ndarray\n",
        "\n",
        "\n",
        "\n",
        "\n",
        "print(\"********************************************************************************************************************\")\n",
        "def cosine_similarity( point, dataset):\n",
        "    dot_product = np.dot(dataset, point)\n",
        "    dataset_norm = np.linalg.norm(dataset, axis=1)\n",
        "    point_norm = np.linalg.norm(point)\n",
        "    cosine_sim = dot_product / (dataset_norm * point_norm)\n",
        "    return pd.Series( 1 - cosine_sim)  # Convert cosine similarity to distance to take the min not max\n",
        "\n",
        "\n",
        "for i in x_test.to_numpy():\n",
        "  distances = cosine_similarity(i,x_train)\n",
        "  print(distances)\n",
        "  print(f\"type of function return  :{type(distances)}\")  #series"
      ],
      "metadata": {
        "colab": {
          "base_uri": "https://localhost:8080/"
        },
        "id": "RGgaDdbn1bav",
        "outputId": "2445b1c1-fd63-46a9-8ff0-f1d4384a61a5"
      },
      "execution_count": null,
      "outputs": [
        {
          "output_type": "stream",
          "name": "stdout",
          "text": [
            "0     5.000000\n",
            "1     6.403124\n",
            "2    10.440307\n",
            "3     5.000000\n",
            "4    10.049876\n",
            "5    15.132746\n",
            "6     7.071068\n",
            "7    16.155494\n",
            "8    21.189620\n",
            "dtype: float64\n",
            "type of function return  :<class 'pandas.core.series.Series'>\n",
            "0    14.500000\n",
            "1    10.735455\n",
            "2     8.500000\n",
            "3     7.433034\n",
            "4     4.500000\n",
            "5     6.103278\n",
            "6     5.024938\n",
            "7     5.024938\n",
            "8    10.111874\n",
            "dtype: float64\n",
            "type of function return  :<class 'pandas.core.series.Series'>\n",
            "********************************************************************************************************************\n",
            "0     5.0\n",
            "1     9.0\n",
            "2    13.0\n",
            "3     5.0\n",
            "4    11.0\n",
            "5    17.0\n",
            "6    10.0\n",
            "7    21.0\n",
            "8    27.0\n",
            "dtype: float64\n",
            "type of function return  :<class 'pandas.core.series.Series'>\n",
            "0    20.5\n",
            "1    14.5\n",
            "2     8.5\n",
            "3    10.5\n",
            "4     4.5\n",
            "5     8.5\n",
            "6     5.5\n",
            "7     5.5\n",
            "8    11.5\n",
            "dtype: float64\n",
            "type of function return  :<class 'pandas.core.series.Series'>\n",
            "********************************************************************************************************************\n",
            "[0.08421179 0.08421179 0.08421179 0.01511696 0.02638369 0.03495214\n",
            " 0.00204826 0.00859525 0.01511696]\n",
            "type of function return  :<class 'numpy.ndarray'>\n",
            "[0.06452791 0.06452791 0.06452791 0.00742939 0.01581668 0.02260811\n",
            " 0.00673686 0.0031252  0.00742939]\n",
            "type of function return  :<class 'numpy.ndarray'>\n",
            "********************************************************************************************************************\n",
            "0    0.084212\n",
            "1    0.084212\n",
            "2    0.084212\n",
            "3    0.015117\n",
            "4    0.026384\n",
            "5    0.034952\n",
            "6    0.002048\n",
            "7    0.008595\n",
            "8    0.015117\n",
            "dtype: float64\n",
            "type of function return  :<class 'pandas.core.series.Series'>\n",
            "0    0.064528\n",
            "1    0.064528\n",
            "2    0.064528\n",
            "3    0.007429\n",
            "4    0.015817\n",
            "5    0.022608\n",
            "6    0.006737\n",
            "7    0.003125\n",
            "8    0.007429\n",
            "dtype: float64\n",
            "type of function return  :<class 'pandas.core.series.Series'>\n"
          ]
        }
      ]
    },
    {
      "cell_type": "markdown",
      "source": [
        "***Implementation***"
      ],
      "metadata": {
        "id": "9WI56F7tAdS5"
      }
    },
    {
      "cell_type": "code",
      "source": [
        "def euclidean_distance(point,dataset):\n",
        "  distances = np.sqrt(np.sum((dataset - point) ** 2, axis=1))\n",
        "  return distances\n",
        "\n",
        "\n",
        "def absolute_distance( point, dataset):\n",
        "    distances = np.sum(np.abs(dataset - point), axis=1)\n",
        "    return distances\n",
        "\n",
        "\n",
        "def cosine_similarity( point, dataset):\n",
        "    dot_product = np.dot(dataset, point)\n",
        "    dataset_norm = np.linalg.norm(dataset, axis=1)\n",
        "    point_norm = np.linalg.norm(point)\n",
        "    cosine_sim = dot_product / (dataset_norm * point_norm)\n",
        "    return pd.Series( 1 - cosine_sim)  # Convert cosine similarity to distance to take the min not max\n",
        "#-------------------------------------------------------------------------------\n",
        "#-------------------------------------------------------------------------------\n",
        "#-------------------------------------------------------------------------------\n",
        "\n",
        "def predict( X_test,distance_type):\n",
        "  predictions = []\n",
        "  for point in X_test.to_numpy():\n",
        "      min_distance = float('inf')\n",
        "      min_distance_index = None\n",
        "      index = -1\n",
        "\n",
        "      # Calculate distances from x_test to all training samples\n",
        "      if distance_type == 'euclidean':\n",
        "          distances = euclidean_distance(point, x_train)\n",
        "          print (f\"distances point {point} :\\n{distances} \\n\")\n",
        "      elif distance_type == 'absolute':\n",
        "          distances = absolute_distance(point, x_train)\n",
        "          print (f\"distances point {point} :\\n{distances} \\n\")\n",
        "      elif distance_type == 'cosine':\n",
        "          distances = cosine_similarity(point, x_train)\n",
        "          print (f\"distances point {point} :\\n{distances} \\n\")\n",
        "      else:\n",
        "          raise ValueError(\"Invalid distance type. Choose 'euclidean' or 'absolute'.\")\n",
        "      # print(f\"distances : {distances}\")\n",
        "      for dis in distances:\n",
        "\n",
        "          index += 1\n",
        "          if dis < min_distance:\n",
        "              min_distance = dis\n",
        "              min_distance_index = index\n",
        "\n",
        "      # print (f\"min distance is : {min_distance} belong to class {y_train[min_distance_index]}\\n\")\n",
        "      # Predict the class label of the nearest neighbor\n",
        "      predicted_label = y_train[min_distance_index]\n",
        "      predictions.append(predicted_label)\n",
        "      print(f\"min distance for {point} : {min_distance} & exist in index : {min_distance_index} & the label of min distance : {predicted_label}\\n\")\n",
        "      print(\"--------------------------------------------------------------------------------------\")\n",
        "  return np.array(predictions)\n",
        "\n"
      ],
      "metadata": {
        "id": "Z3BFaEukpjmL"
      },
      "execution_count": null,
      "outputs": []
    },
    {
      "cell_type": "code",
      "source": [
        "predict(x_test,'cosine')"
      ],
      "metadata": {
        "colab": {
          "base_uri": "https://localhost:8080/"
        },
        "id": "yTlfR55qpjY6",
        "outputId": "ce5edf99-aacc-4992-9dbd-e0dda5b12b49"
      },
      "execution_count": null,
      "outputs": [
        {
          "output_type": "stream",
          "name": "stdout",
          "text": [
            "distances point [ 7. 10.] :\n",
            "0    0.084212\n",
            "1    0.084212\n",
            "2    0.084212\n",
            "3    0.015117\n",
            "4    0.026384\n",
            "5    0.034952\n",
            "6    0.002048\n",
            "7    0.008595\n",
            "8    0.015117\n",
            "dtype: float64 \n",
            "\n",
            "min distance for [ 7. 10.] : 0.002048259083848536 & exist in index : 6 & the label of min distance : 3\n",
            "\n",
            "--------------------------------------------------------------------------------------\n",
            "distances point [12.5 20. ] :\n",
            "0    0.064528\n",
            "1    0.064528\n",
            "2    0.064528\n",
            "3    0.007429\n",
            "4    0.015817\n",
            "5    0.022608\n",
            "6    0.006737\n",
            "7    0.003125\n",
            "8    0.007429\n",
            "dtype: float64 \n",
            "\n",
            "min distance for [12.5 20. ] : 0.0031251958804234814 & exist in index : 7 & the label of min distance : 3\n",
            "\n",
            "--------------------------------------------------------------------------------------\n"
          ]
        },
        {
          "output_type": "execute_result",
          "data": {
            "text/plain": [
              "array([3, 3])"
            ]
          },
          "metadata": {},
          "execution_count": 119
        }
      ]
    },
    {
      "cell_type": "markdown",
      "source": [
        "***General Implementation Now you can choose type of distance 'euclidean', 'absolute', or 'cosine'***"
      ],
      "metadata": {
        "id": "vJSuwDyVAm6d"
      }
    },
    {
      "cell_type": "code",
      "source": [
        "\n",
        "class NearestNeighbor:\n",
        "    def __init__(self, distance_type = 'euclidean'):\n",
        "        self.X_train = None\n",
        "        self.y_train = None\n",
        "        self.distance_type = distance_type\n",
        "\n",
        "    def fit(self, X_train, y_train):\n",
        "        self.X_train = X_train\n",
        "        self.y_train = y_train\n",
        "\n",
        "    def euclidean_distance(self, point, dataset):\n",
        "        distances = np.sqrt(np.sum((dataset - point) ** 2, axis=1))\n",
        "        return distances\n",
        "\n",
        "    def absolute_distance(self, point, dataset):\n",
        "        distances = np.sum(np.abs(dataset - point), axis=1)\n",
        "        return distances\n",
        "\n",
        "    def cosine_similarity(self, point, dataset):\n",
        "        dot_product = np.dot(dataset, point)\n",
        "        dataset_norm = np.linalg.norm(dataset, axis=1)\n",
        "        point_norm = np.linalg.norm(point)\n",
        "        cosine_sim = dot_product / (dataset_norm * point_norm)\n",
        "        return pd.Series(1 - cosine_sim)  # Convert cosine similarity to distance to take the min not max\n",
        "\n",
        "    def predict(self, X_test):\n",
        "        predictions = []\n",
        "        for point in X_test.to_numpy():\n",
        "            # Initialize minimum distance and index\n",
        "            min_distance = float('inf')\n",
        "            min_distance_index = None\n",
        "            index = -1\n",
        "\n",
        "            # Calculate distances from x_test to all training samples\n",
        "            if self.distance_type == 'euclidean':\n",
        "                distances = self.euclidean_distance(point, self.X_train)\n",
        "            elif self.distance_type == 'absolute':\n",
        "                distances = self.absolute_distance(point, self.X_train)\n",
        "            elif self.distance_type == 'cosine':\n",
        "                distances = self.cosine_similarity(point, self.X_train)\n",
        "                print (f\"distances point {point} :\\n{(distances)} \\n\")\n",
        "            else:\n",
        "                raise ValueError(\"Invalid distance type. Choose 'euclidean', 'absolute', or 'cosine'.\")\n",
        "\n",
        "\n",
        "\n",
        "            for dis in distances:\n",
        "                index += 1\n",
        "                if dis < min_distance:\n",
        "                    min_distance = dis\n",
        "                    min_distance_index = index\n",
        "\n",
        "            # Predict the class label of the nearest neighbor\n",
        "            predicted_label = self.y_train[min_distance_index]\n",
        "            predictions.append(predicted_label)\n",
        "            print(f\"min distance for {point} : {min_distance} & exist in index : {min_distance_index} & the label of min distance : {predicted_label}\\n\\n\")\n",
        "        print (f\"predictions : \")\n",
        "        return np.array(predictions)\n"
      ],
      "metadata": {
        "id": "r8ICfZ3ZuyhR"
      },
      "execution_count": null,
      "outputs": []
    },
    {
      "cell_type": "code",
      "source": [
        "# Create and fit the classifier\n",
        "classifier = NearestNeighbor('cosine')\n",
        "classifier.fit(x_train, y_train)\n",
        "# Make predictions\n",
        "y_predict = classifier.predict(x_test)\n",
        "y_predict\n",
        "print(f\"the prediction is : {y_predict}\")"
      ],
      "metadata": {
        "id": "KKbH8RuCwNy6",
        "colab": {
          "base_uri": "https://localhost:8080/"
        },
        "outputId": "afb29fa4-5190-499e-cdca-3c247d69496e"
      },
      "execution_count": null,
      "outputs": [
        {
          "output_type": "stream",
          "name": "stdout",
          "text": [
            "distances point [ 7. 10.] :\n",
            "0    0.084212\n",
            "1    0.084212\n",
            "2    0.084212\n",
            "3    0.015117\n",
            "4    0.026384\n",
            "5    0.034952\n",
            "6    0.002048\n",
            "7    0.008595\n",
            "8    0.015117\n",
            "dtype: float64 \n",
            "\n",
            "min distance for [ 7. 10.] : 0.002048259083848536 & exist in index : 6 & the label of min distance : 3\n",
            "\n",
            "\n",
            "distances point [12.5 20. ] :\n",
            "0    0.064528\n",
            "1    0.064528\n",
            "2    0.064528\n",
            "3    0.007429\n",
            "4    0.015817\n",
            "5    0.022608\n",
            "6    0.006737\n",
            "7    0.003125\n",
            "8    0.007429\n",
            "dtype: float64 \n",
            "\n",
            "min distance for [12.5 20. ] : 0.0031251958804234814 & exist in index : 7 & the label of min distance : 3\n",
            "\n",
            "\n",
            "predictions : \n",
            "the prediction is : [3 3]\n"
          ]
        }
      ]
    },
    {
      "cell_type": "code",
      "source": [],
      "metadata": {
        "id": "CJcTMQz4dC9l"
      },
      "execution_count": null,
      "outputs": []
    },
    {
      "cell_type": "markdown",
      "source": [
        "**END**"
      ],
      "metadata": {
        "id": "uJQpDmd0whdj"
      }
    },
    {
      "cell_type": "markdown",
      "source": [
        "##**<a name=\"KNN\">KNN Implementation<a>**"
      ],
      "metadata": {
        "id": "8jjFf0zbQDtQ"
      }
    },
    {
      "cell_type": "code",
      "source": [
        "for i in range (len(x_test)) :\n",
        "  print(i)"
      ],
      "metadata": {
        "id": "-_q7xGZaId4K",
        "outputId": "f739b267-8603-4e01-89eb-4e504e96b16d",
        "colab": {
          "base_uri": "https://localhost:8080/"
        }
      },
      "execution_count": null,
      "outputs": [
        {
          "output_type": "stream",
          "name": "stdout",
          "text": [
            "0\n",
            "1\n"
          ]
        }
      ]
    },
    {
      "cell_type": "code",
      "source": [
        "\n",
        "class_labels = [1, 2, 3, 2, 1, 1, 2, 3, 3, 1]\n",
        "\n",
        "# Count the occurrences of each class label\n",
        "class_counts = Counter(class_labels)\n",
        "\n",
        "# Find the most common class label(s)\n",
        "most_common_classes = class_counts.most_common()\n",
        "\n",
        "# Extract the class label(s) from the result\n",
        "most_common_class = most_common_classes[0][0]\n",
        "\n",
        "print(\"Most common class:\", most_common_class)"
      ],
      "metadata": {
        "id": "vRlFo2R3BEkR",
        "outputId": "254620ed-51d6-47e8-8a6e-4ba48e81d1ec",
        "colab": {
          "base_uri": "https://localhost:8080/"
        }
      },
      "execution_count": null,
      "outputs": [
        {
          "output_type": "stream",
          "name": "stdout",
          "text": [
            "Most common class: 1\n"
          ]
        }
      ]
    },
    {
      "cell_type": "markdown",
      "source": [
        " **Implementation Using euclidean_distance only to test**"
      ],
      "metadata": {
        "id": "sQKX_u5DBK6M"
      }
    },
    {
      "cell_type": "code",
      "source": [
        "def euclidean_distance(point,dataset):\n",
        "  distances = np.sqrt(np.sum((dataset - point) ** 2, axis=1))\n",
        "  return distances\n",
        "\n",
        "\n",
        "#-------------------------------------------------------------------------------\n",
        "#-------------------------------------------------------------------------------\n",
        "#-------------------------------------------------------------------------------\n",
        "def KNearestNeighbor (k,distances):\n",
        "  k_nearst = {}   # min (index and distance)\n",
        "\n",
        "  while ( k > 0 ) :\n",
        "    min_distance = float('inf')\n",
        "    min_distance_index = -1\n",
        "    index = -1\n",
        "\n",
        "    for dis in distances :\n",
        "      index +=1\n",
        "      if(dis < min_distance):\n",
        "        min_distance = dis\n",
        "        min_distance_index = index\n",
        "    print(f\"min distance {min_distance} in index: {min_distance_index}\")\n",
        "    k_nearst[min_distance] = min_distance_index\n",
        "    distances[min_distance_index] = float('inf')  # Mark the nearest neighbor as visited\n",
        "    k-=1\n",
        "  # for key in k_nearst:\n",
        "  #    print(f\"min_distance: {key} , min_distance_index :{k_nearst[key]}\")\n",
        "  return k_nearst\n",
        "#-------------------------------------------------------------------------------\n",
        "#-------------------------------------------------------------------------------\n",
        "#-------------------------------------------------------------------------------\n",
        "\n",
        "def predict (x_test, k):\n",
        "  final_predictions = []\n",
        "\n",
        "  for i in x_test.to_numpy():\n",
        "    predicted_labels=[]\n",
        "    distances = euclidean_distance(i,x_train)\n",
        "    print(f\"distances of {i} :\\n{distances}\\n\")\n",
        "    k_nearst = KNearestNeighbor(k,distances)\n",
        "\n",
        "    for key in k_nearst:\n",
        "      predicted_label = y_train[k_nearst[key]]\n",
        "      predicted_labels.append(predicted_label)\n",
        "      print(f\"label of min dis {key} is : {predicted_label} \")\n",
        "    class_counts = Counter(predicted_labels)\n",
        "    most_common_classes = class_counts.most_common(1)\n",
        "    most_common_class = most_common_classes[0][0]\n",
        "    print(\"Most common class:\", most_common_class)\n",
        "    print(\"***********************************************************\\n\\n\\n\")\n",
        "    final_predictions.append(most_common_class)\n",
        "\n",
        "\n",
        "\n",
        "\n",
        "\n",
        "\n",
        "\n",
        "  # print(f\"min distance for {i} : {min_distance} & exist in index : {min_distance_index} & the label of min distance : {predicted_label}\")\n",
        "  print (f\"predictions :{final_predictions} \")\n",
        "  # return predicted_labels\n",
        "\n",
        "predict(x_test,3)\n"
      ],
      "metadata": {
        "colab": {
          "base_uri": "https://localhost:8080/"
        },
        "id": "ow-KlG8V19JL",
        "outputId": "f7df74b9-b00d-4d99-ce2a-16ce71948ffb"
      },
      "execution_count": null,
      "outputs": [
        {
          "output_type": "stream",
          "name": "stdout",
          "text": [
            "distances of [ 7. 10.] :\n",
            "0     5.000000\n",
            "1     6.403124\n",
            "2    10.440307\n",
            "3     5.000000\n",
            "4    10.049876\n",
            "5    15.132746\n",
            "6     7.071068\n",
            "7    16.155494\n",
            "8    21.189620\n",
            "dtype: float64\n",
            "\n",
            "min distance 5.0 in index: 0\n",
            "min distance 5.0 in index: 3\n",
            "min distance 6.4031242374328485 in index: 1\n",
            "label of min dis 5.0 is : 2 \n",
            "label of min dis 6.4031242374328485 is : 1 \n",
            "Most common class: 2\n",
            "***********************************************************\n",
            "\n",
            "\n",
            "\n",
            "distances of [12.5 20. ] :\n",
            "0    14.500000\n",
            "1    10.735455\n",
            "2     8.500000\n",
            "3     7.433034\n",
            "4     4.500000\n",
            "5     6.103278\n",
            "6     5.024938\n",
            "7     5.024938\n",
            "8    10.111874\n",
            "dtype: float64\n",
            "\n",
            "min distance 4.5 in index: 4\n",
            "min distance 5.024937810560445 in index: 6\n",
            "min distance 5.024937810560445 in index: 7\n",
            "label of min dis 4.5 is : 2 \n",
            "label of min dis 5.024937810560445 is : 3 \n",
            "Most common class: 2\n",
            "***********************************************************\n",
            "\n",
            "\n",
            "\n",
            "predictions :[2, 2] \n"
          ]
        }
      ]
    },
    {
      "cell_type": "code",
      "source": [],
      "metadata": {
        "id": "hsbR35--Bqy-"
      },
      "execution_count": null,
      "outputs": []
    },
    {
      "cell_type": "markdown",
      "source": [
        "**Final Implementation Now you can choose distance euclidean', 'absolute', or 'cosine'**\n",
        "\n",
        "\n"
      ],
      "metadata": {
        "id": "qGgdyIBKBVQy"
      }
    },
    {
      "cell_type": "code",
      "source": [
        "\n",
        "class NearestNeighbor:\n",
        "    def __init__(self, distance_type = 'euclidean'):\n",
        "        self.X_train = None\n",
        "        self.y_train = None\n",
        "        self.distance_type = distance_type\n",
        "\n",
        "    def fit(self, X_train, y_train):\n",
        "        self.X_train = X_train\n",
        "        self.y_train = y_train\n",
        "\n",
        "    def euclidean_distance(self, point, dataset):\n",
        "        distances = np.sqrt(np.sum((dataset - point) ** 2, axis=1))\n",
        "        return distances\n",
        "\n",
        "    def absolute_distance(self, point, dataset):\n",
        "        distances = np.sum(np.abs(dataset - point), axis=1)\n",
        "        return distances\n",
        "\n",
        "    def cosine_similarity(self, point, dataset):\n",
        "        dot_product = np.dot(dataset, point)\n",
        "        dataset_norm = np.linalg.norm(dataset, axis=1)\n",
        "        point_norm = np.linalg.norm(point)\n",
        "        cosine_sim = dot_product / (dataset_norm * point_norm)\n",
        "        return pd.Series(1 - cosine_sim)  # Convert cosine similarity to distance to take the min not max\n",
        "\n",
        "    def predict(self, X_test):\n",
        "        predictions = []\n",
        "        for point in X_test.to_numpy():\n",
        "            # Initialize minimum distance and index\n",
        "            min_distance = float('inf')\n",
        "            min_distance_index = None\n",
        "            index = -1\n",
        "\n",
        "            # Calculate distances from x_test to all training samples\n",
        "            if self.distance_type == 'euclidean':\n",
        "                distances = self.euclidean_distance(point, self.X_train)\n",
        "            elif self.distance_type == 'absolute':\n",
        "                distances = self.absolute_distance(point, self.X_train)\n",
        "            elif self.distance_type == 'cosine':\n",
        "                distances = self.cosine_similarity(point, self.X_train)\n",
        "                print (f\"distances point {point} :\\n{(distances)} \\n\")\n",
        "            else:\n",
        "                raise ValueError(\"Invalid distance type. Choose 'euclidean', 'absolute', or 'cosine'.\")\n",
        "\n",
        "\n",
        "\n",
        "            for dis in distances:\n",
        "                index += 1\n",
        "                if dis < min_distance:\n",
        "                    min_distance = dis\n",
        "                    min_distance_index = index\n",
        "\n",
        "            # Predict the class label of the nearest neighbor\n",
        "            predicted_label = self.y_train[min_distance_index]\n",
        "            predictions.append(predicted_label)\n",
        "            print(f\"min distance for {point} : {min_distance} & exist in index : {min_distance_index} & the label of min distance : {predicted_label}\\n\\n\")\n",
        "        print (f\"predictions : \")\n",
        "        return np.array(predictions)\n"
      ],
      "metadata": {
        "id": "hP1RK07zBqwq"
      },
      "execution_count": null,
      "outputs": []
    },
    {
      "cell_type": "code",
      "source": [
        "class KNNClassifier(NearestNeighbor):\n",
        "    def __init__(self, k=1, distance_type='euclidean'):\n",
        "        super().__init__(distance_type=distance_type)\n",
        "        self.k = k\n",
        "        # self.X_train = None\n",
        "        # self.y_train = None\n",
        "        # self.distance_type = distance_type\n",
        "\n",
        "    # def fit(self, X_train, y_train):\n",
        "    #     self.X_train = X_train\n",
        "    #     self.y_train = y_train\n",
        "\n",
        "#--------------\n",
        "    def calc_distances(self, point):\n",
        "        # Calculate distances from x_test to all training samples\n",
        "        if self.distance_type == 'euclidean':\n",
        "            distances = self.euclidean_distance(point, self.X_train)\n",
        "        elif self.distance_type == 'absolute':\n",
        "            distances = self.absolute_distance(point, self.X_train)\n",
        "        elif self.distance_type == 'cosine':\n",
        "            distances = self.cosine_similarity(point, self.X_train)\n",
        "        else:\n",
        "            raise ValueError(\"Invalid distance type. Choose 'euclidean', 'absolute', or 'cosine'.\")\n",
        "        # print (f\"distances point {point} :\\n{(distances)} \\n\")\n",
        "        return distances\n",
        "#---------------\n",
        "\n",
        "\n",
        "\n",
        "\n",
        "\n",
        "#---------------\n",
        "\n",
        "    def get_K_Nearest_Neighbor ( self , k , distances ) :\n",
        "      k_nearst = {}   # min (index and distance)\n",
        "\n",
        "      while ( k > 0 ) :\n",
        "        min_distance = float('inf')\n",
        "        min_distance_index = -1\n",
        "        index = -1\n",
        "\n",
        "        for dis in distances :\n",
        "          index +=1\n",
        "          if(dis < min_distance):\n",
        "            min_distance = dis\n",
        "            min_distance_index = index\n",
        "        print(f\"min distance {min_distance} in index: {min_distance_index}\")\n",
        "        k_nearst[min_distance] = min_distance_index\n",
        "        distances[min_distance_index] = float('inf')  # Mark the nearest neighbor as visited\n",
        "        k-=1\n",
        "      # for key in k_nearst:\n",
        "      #    print(f\"min_distance: {key} , min_distance_index :{k_nearst[key]}\")\n",
        "      return k_nearst\n",
        "\n",
        "#---------------\n",
        "\n",
        "\n",
        "\n",
        "#---------------\n",
        "\n",
        "    def predict ( self , x_test ) :\n",
        "\n",
        "      final_predictions = []\n",
        "\n",
        "      for point in x_test.to_numpy():\n",
        "        predicted_labels=[]\n",
        "        distances = self.calc_distances(point)\n",
        "        print(f\"distances of {point} :\\n{distances}\\n\")\n",
        "        k_nearst = self.get_K_Nearest_Neighbor ( self.k , distances )\n",
        "\n",
        "        for key in k_nearst:\n",
        "          predicted_label = self.y_train[k_nearst[key]]\n",
        "          predicted_labels.append(predicted_label)\n",
        "          print(f\"label of min dis {key} is : {predicted_label} \")\n",
        "        class_counts = Counter(predicted_labels)\n",
        "        most_common_classes = class_counts.most_common(1)\n",
        "        most_common_class = most_common_classes[0][0]\n",
        "        print(\"Most common class:\", most_common_class)\n",
        "        print(\"***********************************************************\\n\\n\\n\")\n",
        "        final_predictions.append(most_common_class)\n",
        "\n",
        "      # print(f\"min distance for {i} : {min_distance} & exist in index : {min_distance_index} & the label of min distance : {predicted_label}\")\n",
        "      print (f\"predictions :{final_predictions} \")\n",
        "      # return predicted_labels\n",
        "\n",
        "    # predict(x_test,3)\n",
        "\n"
      ],
      "metadata": {
        "id": "fJhKQHzWwW2U"
      },
      "execution_count": null,
      "outputs": []
    },
    {
      "cell_type": "code",
      "source": [
        "# Create and fit the classifier\n",
        "classifier = KNNClassifier( 3,'absolute')\n",
        "classifier.fit(x_train, y_train)\n",
        "\n",
        "\n",
        "\n",
        "# Make predictions\n",
        "y_predict = classifier.predict(x_test)\n",
        "# y_predict\n",
        "# print(f\"the prediction is : {y_predict}\")"
      ],
      "metadata": {
        "id": "-Ij7cz8lVCLo",
        "outputId": "0978c63c-ac74-4013-cab0-2a53aa400868",
        "colab": {
          "base_uri": "https://localhost:8080/"
        }
      },
      "execution_count": null,
      "outputs": [
        {
          "output_type": "stream",
          "name": "stdout",
          "text": [
            "distances of [ 7. 10.] :\n",
            "0     5.0\n",
            "1     9.0\n",
            "2    13.0\n",
            "3     5.0\n",
            "4    11.0\n",
            "5    17.0\n",
            "6    10.0\n",
            "7    21.0\n",
            "8    27.0\n",
            "dtype: float64\n",
            "\n",
            "min distance 5.0 in index: 0\n",
            "min distance 5.0 in index: 3\n",
            "min distance 9.0 in index: 1\n",
            "label of min dis 5.0 is : 2 \n",
            "label of min dis 9.0 is : 1 \n",
            "Most common class: 2\n",
            "***********************************************************\n",
            "\n",
            "\n",
            "\n",
            "distances of [12.5 20. ] :\n",
            "0    20.5\n",
            "1    14.5\n",
            "2     8.5\n",
            "3    10.5\n",
            "4     4.5\n",
            "5     8.5\n",
            "6     5.5\n",
            "7     5.5\n",
            "8    11.5\n",
            "dtype: float64\n",
            "\n",
            "min distance 4.5 in index: 4\n",
            "min distance 5.5 in index: 6\n",
            "min distance 5.5 in index: 7\n",
            "label of min dis 4.5 is : 2 \n",
            "label of min dis 5.5 is : 3 \n",
            "Most common class: 2\n",
            "***********************************************************\n",
            "\n",
            "\n",
            "\n",
            "predictions :[2, 2] \n"
          ]
        }
      ]
    },
    {
      "cell_type": "code",
      "source": [],
      "metadata": {
        "id": "2fr8hoo8VCGE"
      },
      "execution_count": null,
      "outputs": []
    },
    {
      "cell_type": "markdown",
      "source": [
        "**problem : if there were two equal distances, it always ignored the first**\n",
        "This is because I use a dictionary with a key(number) and a value(number).\n",
        "I will make it a dictionary with a key(number) and avalue (array)."
      ],
      "metadata": {
        "id": "bQ4ETZvKD8t2"
      }
    },
    {
      "cell_type": "code",
      "source": [
        "dic = {\n",
        "1:[3],\n",
        "2:[4],\n",
        "5:[2]\n",
        "}\n",
        "dic"
      ],
      "metadata": {
        "id": "JSsQJDLMBMtO",
        "outputId": "4dc828e2-ea8b-4137-a892-d723d0884103",
        "colab": {
          "base_uri": "https://localhost:8080/"
        }
      },
      "execution_count": null,
      "outputs": [
        {
          "output_type": "execute_result",
          "data": {
            "text/plain": [
              "{1: [3], 2: [4], 5: [2]}"
            ]
          },
          "metadata": {},
          "execution_count": 153
        }
      ]
    },
    {
      "cell_type": "code",
      "source": [
        "# current_index = 7\n",
        "# current_distance = 528              # current distance\n",
        "\n",
        "\n",
        "current_index = 7\n",
        "current_distance = 1"
      ],
      "metadata": {
        "id": "eYiPrnZnH-vZ"
      },
      "execution_count": null,
      "outputs": []
    },
    {
      "cell_type": "code",
      "source": [
        "for i in dic.keys():\n",
        "  n = dic[i]\n",
        "  if (i == current_distance ):\n",
        "    # dic[i] = []\n",
        "    # dic[i].append(n)\n",
        "    dic[i].append(current_index)\n",
        "    # print(dic[i])\n",
        "    break;\n",
        "  else :\n",
        "    dic[current_distance] = []\n",
        "    dic[current_distance].append(current_index)\n",
        "    break;\n",
        "\n",
        "dic"
      ],
      "metadata": {
        "id": "1q98unuXIAgn",
        "outputId": "e9b0e50e-8f5d-4795-9f64-da15399199fe",
        "colab": {
          "base_uri": "https://localhost:8080/"
        }
      },
      "execution_count": null,
      "outputs": [
        {
          "output_type": "execute_result",
          "data": {
            "text/plain": [
              "{1: [3, 7], 2: [4], 5: [2], 528: [7]}"
            ]
          },
          "metadata": {},
          "execution_count": 157
        }
      ]
    },
    {
      "cell_type": "markdown",
      "source": [
        "handle if dic is empty"
      ],
      "metadata": {
        "id": "chcx4a_RIhCm"
      }
    },
    {
      "cell_type": "code",
      "source": [
        "dic ={}"
      ],
      "metadata": {
        "id": "S3oCdBZtHsU9"
      },
      "execution_count": null,
      "outputs": []
    },
    {
      "cell_type": "code",
      "source": [
        "# current_index = 7\n",
        "# current_distance = 1\n",
        "#{1: [7]}\n",
        "\n",
        "# current_index = 7\n",
        "# current_distance = 1\n",
        "#{1: [7, 7]}\n",
        "\n",
        "\n",
        "\n",
        "current_index = 7\n",
        "current_distance = 2\n",
        "#{1: [7, 7], 2: [7]}\n"
      ],
      "metadata": {
        "id": "REiOADB4Jnbd"
      },
      "execution_count": null,
      "outputs": []
    },
    {
      "cell_type": "code",
      "source": [
        "if(not dic):\n",
        "  dic[current_distance]=[]\n",
        "  dic[current_distance].append(current_index)\n",
        "else :\n",
        "  for i in dic.keys():\n",
        "    n = dic[i]\n",
        "    if (i == current_distance ):\n",
        "      # dic[i] = []\n",
        "      # dic[i].append(n)\n",
        "      dic[i].append(current_index)\n",
        "      # print(dic[i])\n",
        "      break;\n",
        "    else :\n",
        "      dic[current_distance] = []\n",
        "      dic[current_distance].append(current_index)\n",
        "      break;\n",
        "dic\n"
      ],
      "metadata": {
        "id": "4ZlFCpC-JiMT",
        "outputId": "a7cd156a-c370-48ac-fa2e-7e42504d2e47",
        "colab": {
          "base_uri": "https://localhost:8080/"
        }
      },
      "execution_count": null,
      "outputs": [
        {
          "output_type": "execute_result",
          "data": {
            "text/plain": [
              "{1: [7, 7], 2: [7]}"
            ]
          },
          "metadata": {},
          "execution_count": 171
        }
      ]
    },
    {
      "cell_type": "code",
      "source": [
        "len(dic[1])"
      ],
      "metadata": {
        "id": "2aM6bUC3HsRc",
        "outputId": "d5f463e5-57e3-4849-d71c-128e4a6ac0bb",
        "colab": {
          "base_uri": "https://localhost:8080/"
        }
      },
      "execution_count": null,
      "outputs": [
        {
          "output_type": "execute_result",
          "data": {
            "text/plain": [
              "2"
            ]
          },
          "metadata": {},
          "execution_count": 177
        }
      ]
    },
    {
      "cell_type": "code",
      "source": [
        "dic[2]"
      ],
      "metadata": {
        "id": "FPyf1FQ4PHH2",
        "outputId": "4afad179-c20f-4679-a5d6-ee06321a50be",
        "colab": {
          "base_uri": "https://localhost:8080/"
        }
      },
      "execution_count": null,
      "outputs": [
        {
          "output_type": "execute_result",
          "data": {
            "text/plain": [
              "[7]"
            ]
          },
          "metadata": {},
          "execution_count": 201
        }
      ]
    },
    {
      "cell_type": "code",
      "source": [
        "dic[2][0]"
      ],
      "metadata": {
        "id": "C7FEkEq9MkgH",
        "outputId": "d8c05e11-34cb-47fe-8b8a-d8a5d5b58aab",
        "colab": {
          "base_uri": "https://localhost:8080/"
        }
      },
      "execution_count": null,
      "outputs": [
        {
          "output_type": "execute_result",
          "data": {
            "text/plain": [
              "7"
            ]
          },
          "metadata": {},
          "execution_count": 199
        }
      ]
    },
    {
      "cell_type": "code",
      "source": [
        "predicted_labels = []\n",
        "\n",
        "l =len(dic[1])\n",
        "# l =len(dic[2])\n",
        "\n",
        "if ( l > 1 ):\n",
        "  for i in range (l):\n",
        "    # print(i)\n",
        "    predicted_label = dic[1][i]\n",
        "    predicted_labels.append (predicted_label)\n",
        "else :\n",
        "  predicted_label = dic[2][0]\n",
        "  predicted_labels.append (predicted_label)\n",
        "\n",
        "\n",
        "predicted_labels"
      ],
      "metadata": {
        "id": "s_JwrnT6LYOD",
        "outputId": "e0d5b735-cd87-424d-da0f-7cdadd41e767",
        "colab": {
          "base_uri": "https://localhost:8080/"
        }
      },
      "execution_count": null,
      "outputs": [
        {
          "output_type": "execute_result",
          "data": {
            "text/plain": [
              "[7, 7]"
            ]
          },
          "metadata": {},
          "execution_count": 233
        }
      ]
    },
    {
      "cell_type": "code",
      "source": [
        "dic"
      ],
      "metadata": {
        "id": "nptHsaInVZ7x",
        "outputId": "8ffa0c15-e204-4835-f322-7ffb7f91bdc7",
        "colab": {
          "base_uri": "https://localhost:8080/"
        }
      },
      "execution_count": null,
      "outputs": [
        {
          "output_type": "execute_result",
          "data": {
            "text/plain": [
              "{1: [7, 7], 2: [7]}"
            ]
          },
          "metadata": {},
          "execution_count": 243
        }
      ]
    },
    {
      "cell_type": "code",
      "source": [
        "predicted_label\n",
        "predicted_labels =[]\n",
        "for key in dic.keys():\n",
        "      # print(key)\n",
        "      l = len(dic[key])\n",
        "      if ( l > 1) :\n",
        "        for index in dic[key]:\n",
        "          print(key , index)\n",
        "          # print(dic[index])\n",
        "          predicted_label = y_train[index]\n",
        "          print(predicted_label)\n",
        "          predicted_labels.append(predicted_label)\n",
        "      else :\n",
        "        print(key , index)\n",
        "        predicted_label = y_train[dic[key][0]]\n",
        "        print(predicted_label)\n",
        "        predicted_labels.append(predicted_label)\n",
        "\n",
        "predicted_labels"
      ],
      "metadata": {
        "id": "eo1QT6UHU01_",
        "outputId": "70442273-542b-4d30-a6ef-c13be9514e88",
        "colab": {
          "base_uri": "https://localhost:8080/"
        }
      },
      "execution_count": null,
      "outputs": [
        {
          "output_type": "stream",
          "name": "stdout",
          "text": [
            "1 7\n",
            "3\n",
            "1 7\n",
            "3\n",
            "2 7\n",
            "3\n"
          ]
        },
        {
          "output_type": "execute_result",
          "data": {
            "text/plain": [
              "[3, 3, 3]"
            ]
          },
          "metadata": {},
          "execution_count": 251
        }
      ]
    },
    {
      "cell_type": "code",
      "source": [
        "row = x_test.iloc[1]\n",
        "row = pd.DataFrame(row).T\n",
        "row"
      ],
      "metadata": {
        "id": "VpfkhsLz0F5n",
        "outputId": "f3e03ff0-49cb-4567-9d53-0eac329d7a91",
        "colab": {
          "base_uri": "https://localhost:8080/",
          "height": 89
        }
      },
      "execution_count": null,
      "outputs": [
        {
          "output_type": "execute_result",
          "data": {
            "text/plain": [
              "    Feature1  Feature2\n",
              "10      12.5      20.0"
            ],
            "text/html": [
              "\n",
              "  <div id=\"df-6cb0795e-1243-4ff6-a89b-8d4cb6ddfc99\" class=\"colab-df-container\">\n",
              "    <div>\n",
              "<style scoped>\n",
              "    .dataframe tbody tr th:only-of-type {\n",
              "        vertical-align: middle;\n",
              "    }\n",
              "\n",
              "    .dataframe tbody tr th {\n",
              "        vertical-align: top;\n",
              "    }\n",
              "\n",
              "    .dataframe thead th {\n",
              "        text-align: right;\n",
              "    }\n",
              "</style>\n",
              "<table border=\"1\" class=\"dataframe\">\n",
              "  <thead>\n",
              "    <tr style=\"text-align: right;\">\n",
              "      <th></th>\n",
              "      <th>Feature1</th>\n",
              "      <th>Feature2</th>\n",
              "    </tr>\n",
              "  </thead>\n",
              "  <tbody>\n",
              "    <tr>\n",
              "      <th>10</th>\n",
              "      <td>12.5</td>\n",
              "      <td>20.0</td>\n",
              "    </tr>\n",
              "  </tbody>\n",
              "</table>\n",
              "</div>\n",
              "    <div class=\"colab-df-buttons\">\n",
              "\n",
              "  <div class=\"colab-df-container\">\n",
              "    <button class=\"colab-df-convert\" onclick=\"convertToInteractive('df-6cb0795e-1243-4ff6-a89b-8d4cb6ddfc99')\"\n",
              "            title=\"Convert this dataframe to an interactive table.\"\n",
              "            style=\"display:none;\">\n",
              "\n",
              "  <svg xmlns=\"http://www.w3.org/2000/svg\" height=\"24px\" viewBox=\"0 -960 960 960\">\n",
              "    <path d=\"M120-120v-720h720v720H120Zm60-500h600v-160H180v160Zm220 220h160v-160H400v160Zm0 220h160v-160H400v160ZM180-400h160v-160H180v160Zm440 0h160v-160H620v160ZM180-180h160v-160H180v160Zm440 0h160v-160H620v160Z\"/>\n",
              "  </svg>\n",
              "    </button>\n",
              "\n",
              "  <style>\n",
              "    .colab-df-container {\n",
              "      display:flex;\n",
              "      gap: 12px;\n",
              "    }\n",
              "\n",
              "    .colab-df-convert {\n",
              "      background-color: #E8F0FE;\n",
              "      border: none;\n",
              "      border-radius: 50%;\n",
              "      cursor: pointer;\n",
              "      display: none;\n",
              "      fill: #1967D2;\n",
              "      height: 32px;\n",
              "      padding: 0 0 0 0;\n",
              "      width: 32px;\n",
              "    }\n",
              "\n",
              "    .colab-df-convert:hover {\n",
              "      background-color: #E2EBFA;\n",
              "      box-shadow: 0px 1px 2px rgba(60, 64, 67, 0.3), 0px 1px 3px 1px rgba(60, 64, 67, 0.15);\n",
              "      fill: #174EA6;\n",
              "    }\n",
              "\n",
              "    .colab-df-buttons div {\n",
              "      margin-bottom: 4px;\n",
              "    }\n",
              "\n",
              "    [theme=dark] .colab-df-convert {\n",
              "      background-color: #3B4455;\n",
              "      fill: #D2E3FC;\n",
              "    }\n",
              "\n",
              "    [theme=dark] .colab-df-convert:hover {\n",
              "      background-color: #434B5C;\n",
              "      box-shadow: 0px 1px 3px 1px rgba(0, 0, 0, 0.15);\n",
              "      filter: drop-shadow(0px 1px 2px rgba(0, 0, 0, 0.3));\n",
              "      fill: #FFFFFF;\n",
              "    }\n",
              "  </style>\n",
              "\n",
              "    <script>\n",
              "      const buttonEl =\n",
              "        document.querySelector('#df-6cb0795e-1243-4ff6-a89b-8d4cb6ddfc99 button.colab-df-convert');\n",
              "      buttonEl.style.display =\n",
              "        google.colab.kernel.accessAllowed ? 'block' : 'none';\n",
              "\n",
              "      async function convertToInteractive(key) {\n",
              "        const element = document.querySelector('#df-6cb0795e-1243-4ff6-a89b-8d4cb6ddfc99');\n",
              "        const dataTable =\n",
              "          await google.colab.kernel.invokeFunction('convertToInteractive',\n",
              "                                                    [key], {});\n",
              "        if (!dataTable) return;\n",
              "\n",
              "        const docLinkHtml = 'Like what you see? Visit the ' +\n",
              "          '<a target=\"_blank\" href=https://colab.research.google.com/notebooks/data_table.ipynb>data table notebook</a>'\n",
              "          + ' to learn more about interactive tables.';\n",
              "        element.innerHTML = '';\n",
              "        dataTable['output_type'] = 'display_data';\n",
              "        await google.colab.output.renderOutput(dataTable, element);\n",
              "        const docLink = document.createElement('div');\n",
              "        docLink.innerHTML = docLinkHtml;\n",
              "        element.appendChild(docLink);\n",
              "      }\n",
              "    </script>\n",
              "  </div>\n",
              "\n",
              "\n",
              "  <div id=\"id_0ee7f1cf-6882-44a3-9afd-80a59f19db9f\">\n",
              "    <style>\n",
              "      .colab-df-generate {\n",
              "        background-color: #E8F0FE;\n",
              "        border: none;\n",
              "        border-radius: 50%;\n",
              "        cursor: pointer;\n",
              "        display: none;\n",
              "        fill: #1967D2;\n",
              "        height: 32px;\n",
              "        padding: 0 0 0 0;\n",
              "        width: 32px;\n",
              "      }\n",
              "\n",
              "      .colab-df-generate:hover {\n",
              "        background-color: #E2EBFA;\n",
              "        box-shadow: 0px 1px 2px rgba(60, 64, 67, 0.3), 0px 1px 3px 1px rgba(60, 64, 67, 0.15);\n",
              "        fill: #174EA6;\n",
              "      }\n",
              "\n",
              "      [theme=dark] .colab-df-generate {\n",
              "        background-color: #3B4455;\n",
              "        fill: #D2E3FC;\n",
              "      }\n",
              "\n",
              "      [theme=dark] .colab-df-generate:hover {\n",
              "        background-color: #434B5C;\n",
              "        box-shadow: 0px 1px 3px 1px rgba(0, 0, 0, 0.15);\n",
              "        filter: drop-shadow(0px 1px 2px rgba(0, 0, 0, 0.3));\n",
              "        fill: #FFFFFF;\n",
              "      }\n",
              "    </style>\n",
              "    <button class=\"colab-df-generate\" onclick=\"generateWithVariable('row')\"\n",
              "            title=\"Generate code using this dataframe.\"\n",
              "            style=\"display:none;\">\n",
              "\n",
              "  <svg xmlns=\"http://www.w3.org/2000/svg\" height=\"24px\"viewBox=\"0 0 24 24\"\n",
              "       width=\"24px\">\n",
              "    <path d=\"M7,19H8.4L18.45,9,17,7.55,7,17.6ZM5,21V16.75L18.45,3.32a2,2,0,0,1,2.83,0l1.4,1.43a1.91,1.91,0,0,1,.58,1.4,1.91,1.91,0,0,1-.58,1.4L9.25,21ZM18.45,9,17,7.55Zm-12,3A5.31,5.31,0,0,0,4.9,8.1,5.31,5.31,0,0,0,1,6.5,5.31,5.31,0,0,0,4.9,4.9,5.31,5.31,0,0,0,6.5,1,5.31,5.31,0,0,0,8.1,4.9,5.31,5.31,0,0,0,12,6.5,5.46,5.46,0,0,0,6.5,12Z\"/>\n",
              "  </svg>\n",
              "    </button>\n",
              "    <script>\n",
              "      (() => {\n",
              "      const buttonEl =\n",
              "        document.querySelector('#id_0ee7f1cf-6882-44a3-9afd-80a59f19db9f button.colab-df-generate');\n",
              "      buttonEl.style.display =\n",
              "        google.colab.kernel.accessAllowed ? 'block' : 'none';\n",
              "\n",
              "      buttonEl.onclick = () => {\n",
              "        google.colab.notebook.generateWithVariable('row');\n",
              "      }\n",
              "      })();\n",
              "    </script>\n",
              "  </div>\n",
              "\n",
              "    </div>\n",
              "  </div>\n"
            ],
            "application/vnd.google.colaboratory.intrinsic+json": {
              "type": "dataframe",
              "variable_name": "row",
              "summary": "{\n  \"name\": \"row\",\n  \"rows\": 1,\n  \"fields\": [\n    {\n      \"column\": \"Feature1\",\n      \"properties\": {\n        \"dtype\": \"number\",\n        \"std\": null,\n        \"min\": 12.5,\n        \"max\": 12.5,\n        \"num_unique_values\": 1,\n        \"samples\": [\n          12.5\n        ],\n        \"semantic_type\": \"\",\n        \"description\": \"\"\n      }\n    },\n    {\n      \"column\": \"Feature2\",\n      \"properties\": {\n        \"dtype\": \"number\",\n        \"std\": null,\n        \"min\": 20.0,\n        \"max\": 20.0,\n        \"num_unique_values\": 1,\n        \"samples\": [\n          20.0\n        ],\n        \"semantic_type\": \"\",\n        \"description\": \"\"\n      }\n    }\n  ]\n}"
            }
          },
          "metadata": {},
          "execution_count": 64
        }
      ]
    },
    {
      "cell_type": "code",
      "source": [
        "def euclidean_distance(point,dataset):\n",
        "  distances = np.sqrt(np.sum((dataset - point) ** 2, axis=1))\n",
        "  return distances\n",
        "\n",
        "\n",
        "#-------------------------------------------------------------------------------\n",
        "#-------------------------------------------------------------------------------\n",
        "#-------------------------------------------------------------------------------\n",
        "# def get_K_Nearest_Neighbor(k, distances):\n",
        "#     k_nearest = {}   # dictionary to store k nearest neighbors\n",
        "\n",
        "#     while (k>0):\n",
        "#         print(f\"k{k}\")\n",
        "#         min_distance = float('inf')\n",
        "#         min_distance_index = -1\n",
        "\n",
        "#         # Find the minimum distance and its index\n",
        "#         for index, dis in enumerate(distances):\n",
        "#             if dis < min_distance:\n",
        "#                 min_distance = dis\n",
        "#                 min_distance_index = index\n",
        "\n",
        "#         # Add the index to the dictionary\n",
        "#         if min_distance in k_nearest:\n",
        "#             k_nearest[min_distance].append(min_distance_index)\n",
        "#         else:\n",
        "#             k_nearest[min_distance] = [min_distance_index]\n",
        "\n",
        "#         # Mark the nearest neighbor as visited\n",
        "#         distances[min_distance_index] = float('inf')\n",
        "#         k-=1\n",
        "#         print(f\"k after {k}\")\n",
        "#     return k_nearest\n",
        "\n",
        "def get_K_Nearest_Neighbor (  k , distances ) :\n",
        "    k_nearst = {}   # min (index and distance)\n",
        "\n",
        "    while ( k > 0 ) :\n",
        "      min_distance = float('inf')\n",
        "      min_distance_index = -1\n",
        "      index = -1\n",
        "\n",
        "      for dis in distances :\n",
        "        index +=1\n",
        "        if dis < min_distance:\n",
        "          min_distance = dis\n",
        "          min_distance_index = index\n",
        "      # print(f\"min distance {min_distance} in index: {min_distance_index} label is {y_train[min_distance_index]}\")\n",
        "\n",
        "      if min_distance in k_nearst :\n",
        "        k_nearst[min_distance].append(min_distance_index)\n",
        "      else :\n",
        "        k_nearst[min_distance] = [min_distance_index]\n",
        "\n",
        "      distances[min_distance_index] = float('inf')\n",
        "      k-=1\n",
        "\n",
        "    return k_nearst\n",
        "#-------------------------------------------------------------------------------\n",
        "#-------------------------------------------------------------------------------\n",
        "#-------------------------------------------------------------------------------\n",
        "\n",
        "def predict (x_test,k ) :\n",
        "\n",
        "    final_predictions = []\n",
        "\n",
        "    for point in x_test.to_numpy():\n",
        "      predicted_labels=[]\n",
        "      distances = euclidean_distance(point,x_train)\n",
        "      print(f\"distances of {point} :\\n{distances}\\n\")\n",
        "      k_nearst = get_K_Nearest_Neighbor ( k , distances )\n",
        "      print(f\"k_nearst{k_nearst}\")\n",
        "\n",
        "\n",
        "      for key in k_nearst.keys():\n",
        "        l = len(k_nearst[key])\n",
        "        if ( l > 1) :\n",
        "          for index in k_nearst[key]:\n",
        "            predicted_label = y_train[index]\n",
        "            predicted_labels.append(predicted_label)\n",
        "        else :\n",
        "          # predicted_label = y_train[dic[key][0]]\n",
        "          predicted_label = y_train[k_nearst[key][0]]\n",
        "          predicted_labels.append(predicted_label)\n",
        "      # print(f\"label of min dis {key} is : {predicted_label} \")\n",
        "\n",
        "\n",
        "\n",
        "\n",
        "      # print(f\"prediction {predicted_labels}\")\n",
        "      class_counts = Counter(predicted_labels)\n",
        "      most_common_classes = class_counts.most_common(100)\n",
        "      most_common_class = most_common_classes[0][0]\n",
        "      print(\"Most common class:\", most_common_class)\n",
        "      print(\"***********************************************************\\n\\n\\n\")\n",
        "      final_predictions.append(most_common_class)\n",
        "\n",
        "    print(f\"{predicted_labels} \")\n",
        "    print (f\"final predictions :{final_predictions} \")\n",
        "    # return predicted_labels\n",
        "\n",
        "\n",
        "\n",
        "\n",
        "\n",
        "# print(f\"min distance for {i} : {min_distance} & exist in index : {min_distance_index} & the label of min distance : {predicted_label}\")\n",
        "# print (f\"predictions :{final_predictions} \")\n",
        "# return predicted_labels\n",
        "\n",
        "predict(row,3)\n"
      ],
      "metadata": {
        "id": "toxwCsvNRzS_",
        "outputId": "43061cd1-8087-4519-bf23-3b9ef573d1c7",
        "colab": {
          "base_uri": "https://localhost:8080/"
        }
      },
      "execution_count": null,
      "outputs": [
        {
          "output_type": "stream",
          "name": "stdout",
          "text": [
            "distances of [12.5 20. ] :\n",
            "0    14.500000\n",
            "1    10.735455\n",
            "2     8.500000\n",
            "3     7.433034\n",
            "4     4.500000\n",
            "5     6.103278\n",
            "6     5.024938\n",
            "7     5.024938\n",
            "8    10.111874\n",
            "dtype: float64\n",
            "\n",
            "k_nearst{4.5: [4], 5.024937810560445: [6, 7]}\n",
            "Most common class: 3\n",
            "***********************************************************\n",
            "\n",
            "\n",
            "\n",
            "[2, 3, 3] \n",
            "final predictions :[3] \n"
          ]
        }
      ]
    },
    {
      "cell_type": "code",
      "source": [
        "y_test\n"
      ],
      "metadata": {
        "id": "hf2qZwGPbMXc",
        "outputId": "0f4a5a85-6fea-48e7-86d7-f9662f8bf2e5",
        "colab": {
          "base_uri": "https://localhost:8080/"
        }
      },
      "execution_count": null,
      "outputs": [
        {
          "output_type": "execute_result",
          "data": {
            "text/plain": [
              "9     0\n",
              "10    0\n",
              "Name: Class, dtype: int64"
            ]
          },
          "metadata": {},
          "execution_count": 8
        }
      ]
    },
    {
      "cell_type": "code",
      "source": [],
      "metadata": {
        "id": "CT_RNvu0bMUB"
      },
      "execution_count": null,
      "outputs": []
    },
    {
      "cell_type": "markdown",
      "source": [
        "**Final KNN Implementation**"
      ],
      "metadata": {
        "id": "uRAgtX6cCjcF"
      }
    },
    {
      "cell_type": "code",
      "source": [
        "class KNNClassifier(NearestNeighbor):\n",
        "    def __init__(self, k=1, distance_type='euclidean'):\n",
        "        super().__init__(distance_type=distance_type)\n",
        "        self.k = k\n",
        "\n",
        "#--------------\n",
        "    def calc_distances(self, point):\n",
        "        # Calculate distances from x_test to all training samples\n",
        "        if self.distance_type == 'euclidean':\n",
        "            distances = self.euclidean_distance(point, self.X_train)\n",
        "        elif self.distance_type == 'absolute':\n",
        "            distances = self.absolute_distance(point, self.X_train)\n",
        "        elif self.distance_type == 'cosine':\n",
        "            distances = self.cosine_similarity(point, self.X_train)\n",
        "        else:\n",
        "            raise ValueError(\"Invalid distance type. Choose 'euclidean', 'absolute', or 'cosine'.\")\n",
        "        # print (f\"distances point {point} :\\n{(distances)} \\n\")\n",
        "        return distances\n",
        "#---------------\n",
        "\n",
        "\n",
        "\n",
        "\n",
        "\n",
        "#---i------------\n",
        "\n",
        "    def get_K_Nearest_Neighbor (self ,  k , distances ) :\n",
        "        k_nearst = {}   # min (index and distance)\n",
        "\n",
        "        while ( k > 0 ) :\n",
        "          min_distance = float('inf')\n",
        "          min_distance_index = -1\n",
        "          index = -1\n",
        "\n",
        "          for dis in distances :\n",
        "            index +=1\n",
        "            if dis < min_distance:\n",
        "              min_distance = dis\n",
        "              min_distance_index = index\n",
        "          # print(f\"min distance {min_distance} in index: {min_distance_index} label is {y_train[min_distance_index]}\")\n",
        "\n",
        "          if min_distance in k_nearst :\n",
        "            k_nearst[min_distance].append(min_distance_index)\n",
        "          else :\n",
        "            k_nearst[min_distance] = [min_distance_index]\n",
        "\n",
        "          distances[min_distance_index] = float('inf')\n",
        "          k-=1\n",
        "\n",
        "        return k_nearst\n",
        "\n",
        "#---------------\n",
        "\n",
        "\n",
        "\n",
        "#---------------\n",
        "\n",
        "    def predict ( self , x_test ) :\n",
        "\n",
        "      final_predictions = []\n",
        "\n",
        "      for point in x_test.to_numpy():\n",
        "        predicted_labels=[]\n",
        "        distances = self.calc_distances(point)\n",
        "        print(f\"distances of {point} :\\n{distances}\\n\")\n",
        "        k_nearst = self.get_K_Nearest_Neighbor ( self.k , distances )\n",
        "\n",
        "\n",
        "        for key in k_nearst.keys():\n",
        "          l = len(k_nearst[key])\n",
        "          if ( l > 1) :\n",
        "            for index in k_nearst[key]:\n",
        "              predicted_label = self.y_train[index]\n",
        "              predicted_labels.append(predicted_label)\n",
        "          else :\n",
        "            predicted_label = self.y_train[k_nearst[key][0]]\n",
        "            predicted_labels.append(predicted_label)\n",
        "        # print(f\"label of min dis {key} is : {predicted_label} \")\n",
        "\n",
        "        print(predicted_labels)\n",
        "        class_counts = Counter(predicted_labels)\n",
        "        most_common_classes = class_counts.most_common(1)\n",
        "        most_common_class = most_common_classes[0][0]\n",
        "        print(\"Most common class:\", most_common_class)\n",
        "        print(\"***********************************************************\\n\\n\\n\")\n",
        "        final_predictions.append(most_common_class)\n",
        "\n",
        "      # print(f\"min distance for {i} : {min_distance} & exist in index : {min_distance_index} & the label of min distance : {predicted_label}\")\n",
        "      print (f\"predictions :{final_predictions} \")\n",
        "      # return predicted_labels\n",
        "\n",
        "    # predict(x_test,3)\n",
        "\n"
      ],
      "metadata": {
        "id": "8v3J9cf7HsPM"
      },
      "execution_count": null,
      "outputs": []
    },
    {
      "cell_type": "code",
      "source": [
        "# Create and fit the classifier\n",
        "classifier = KNNClassifier( 3,'absolute')\n",
        "classifier.fit(x_train, y_train)\n",
        "\n",
        "\n",
        "\n",
        "# Make predictions\n",
        "y_predict = classifier.predict(x_test)\n",
        "# y_predict\n",
        "# print(f\"the prediction is : {y_predict}\")"
      ],
      "metadata": {
        "id": "KlX7mP2mHsJ5",
        "outputId": "d3bd7850-d428-4281-e387-e0ddbae96f57",
        "colab": {
          "base_uri": "https://localhost:8080/"
        }
      },
      "execution_count": null,
      "outputs": [
        {
          "output_type": "stream",
          "name": "stdout",
          "text": [
            "distances of [ 7. 10.] :\n",
            "0     5.0\n",
            "1     9.0\n",
            "2    13.0\n",
            "3     5.0\n",
            "4    11.0\n",
            "5    17.0\n",
            "6    10.0\n",
            "7    21.0\n",
            "8    27.0\n",
            "dtype: float64\n",
            "\n",
            "[1, 2, 1]\n",
            "Most common class: 1\n",
            "***********************************************************\n",
            "\n",
            "\n",
            "\n",
            "distances of [12.5 20. ] :\n",
            "0    20.5\n",
            "1    14.5\n",
            "2     8.5\n",
            "3    10.5\n",
            "4     4.5\n",
            "5     8.5\n",
            "6     5.5\n",
            "7     5.5\n",
            "8    11.5\n",
            "dtype: float64\n",
            "\n",
            "[2, 3, 3]\n",
            "Most common class: 3\n",
            "***********************************************************\n",
            "\n",
            "\n",
            "\n",
            "predictions :[1, 3] \n"
          ]
        }
      ]
    },
    {
      "cell_type": "code",
      "source": [],
      "metadata": {
        "id": "QK07BYuxB63L"
      },
      "execution_count": null,
      "outputs": []
    },
    {
      "cell_type": "markdown",
      "source": [
        "##**<a name=\"license\">Jupyter Notebook License<a>**\n",
        "### Author: Mohammad Fawzy\n",
        "### How to reach me ?\n",
        "- <a href=\"https://www.linkedin.com/in/mohammad-fawzy-438b05261/\">Linkedin<a>\n",
        "- <a href=\"https://www.kaggle.com/mohammadfawzy\">Kaggle<a>\n",
        "\n",
        "\n",
        "### Terms:\n",
        "1. Free to use for learning purposes.\n",
        "2. Attribution to the author, Mohammad Fawzy, is required.\n",
        "3. Permission to edit and explore, but derivative works must reference the original notebook and author.\n",
        "4. No warranties provided.<br>\n",
        "\n",
        "By using this notebook, you agree to these terms."
      ],
      "metadata": {
        "id": "HspgE4N30zz0"
      }
    },
    {
      "cell_type": "code",
      "source": [],
      "metadata": {
        "id": "z-o_aYzg003J"
      },
      "execution_count": null,
      "outputs": []
    }
  ]
}