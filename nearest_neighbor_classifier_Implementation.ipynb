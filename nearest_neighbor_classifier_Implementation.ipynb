{
  "nbformat": 4,
  "nbformat_minor": 0,
  "metadata": {
    "colab": {
      "provenance": [],
      "include_colab_link": true
    },
    "kernelspec": {
      "name": "python3",
      "display_name": "Python 3"
    },
    "language_info": {
      "name": "python"
    }
  },
  "cells": [
    {
      "cell_type": "markdown",
      "metadata": {
        "id": "view-in-github",
        "colab_type": "text"
      },
      "source": [
        "<a href=\"https://colab.research.google.com/github/Fawzy-AI-Explorer/nearest-neighbor-classifier-Implementation/blob/main/nearest_neighbor_classifier_Implementation.ipynb\" target=\"_parent\"><img src=\"https://colab.research.google.com/assets/colab-badge.svg\" alt=\"Open In Colab\"/></a>"
      ]
    },
    {
      "cell_type": "markdown",
      "source": [
        "**I will implement Nearest Neighbor classifier**\n",
        "\n",
        "\n",
        "1.   Euclidean distance classifier .\n",
        "2.   Absolute distance classifier.\n",
        "3.   Cosine Similarity.\n",
        "4.   K-Nearest Neighbors (KNN) classifier using the Euclidean Distance Classifier .  \n",
        "\n",
        "\n",
        "\n",
        "---\n",
        "---\n",
        "---\n",
        "\n",
        "\n"
      ],
      "metadata": {
        "id": "JHppGGpNBuln"
      }
    },
    {
      "cell_type": "markdown",
      "source": [
        "***First : Euclidean Distance classifier .***"
      ],
      "metadata": {
        "id": "uRLaXOQRDslP"
      }
    },
    {
      "cell_type": "markdown",
      "source": [
        "\n",
        "# **import libraries**\n",
        "\n"
      ],
      "metadata": {
        "id": "YitSEfcSvjtS"
      }
    },
    {
      "cell_type": "code",
      "execution_count": 270,
      "metadata": {
        "id": "fk1xr_KwuBP-"
      },
      "outputs": [],
      "source": [
        "import numpy as np\n",
        "import pandas as pd"
      ]
    },
    {
      "cell_type": "markdown",
      "source": [
        "# **Generate Data**"
      ],
      "metadata": {
        "id": "fGMEvhDZ98D_"
      }
    },
    {
      "cell_type": "code",
      "source": [
        "# Define the feature values for each sample\n",
        "X = np.array([\n",
        "    [ 2  , 10 ],  # Sample 1\n",
        "    [ 3  , 15 ],  # Sample 2\n",
        "    [ 4  , 20 ],  # Sample 3\n",
        "    [ 7  , 15 ],  # Sample 4\n",
        "    [ 8  , 20 ],  # Sample 5\n",
        "    [ 9  , 25 ],  # Sample 6\n",
        "    [ 12 , 15 ],  # Sample 7\n",
        "    [ 13 , 25 ],  # Sample 8\n",
        "    [ 14 , 30 ],  # Sample 9\n",
        "    [ 7  , 10 ],  # Sample 10\n",
        "    [12.5, 20 ],  # Sample 11\n",
        "])\n",
        "\n",
        "# Define the class labels for each sample (0 or 1 for binary classification)\n",
        "y = np.array ( [ 1 , 1 , 1 , 2 , 2 , 2 , 3 , 3 , 3 , 0 , 0 ] )\n",
        "\n",
        "# Convert the NumPy arrays into a pandas DataFrame\n",
        "df = pd.DataFrame(X, columns=['Feature1', 'Feature2'])\n",
        "df['Class'] = y\n",
        "\n",
        "\n",
        "\n",
        "\n",
        "# Convert the NumPy arrays into a pandas DataFrame\n",
        "df = pd.DataFrame(X, columns=['Feature1', 'Feature2'])\n",
        "df['Class'] = y\n",
        "\n",
        "# Display the DataFrame\n",
        "print(\"DataFrame:\")\n",
        "print(df)"
      ],
      "metadata": {
        "colab": {
          "base_uri": "https://localhost:8080/"
        },
        "id": "H_VAOyoluG-F",
        "outputId": "d7d0792f-b929-4c17-cb4c-36000c526337"
      },
      "execution_count": 271,
      "outputs": [
        {
          "output_type": "stream",
          "name": "stdout",
          "text": [
            "DataFrame:\n",
            "    Feature1  Feature2  Class\n",
            "0        2.0      10.0      1\n",
            "1        3.0      15.0      1\n",
            "2        4.0      20.0      1\n",
            "3        7.0      15.0      2\n",
            "4        8.0      20.0      2\n",
            "5        9.0      25.0      2\n",
            "6       12.0      15.0      3\n",
            "7       13.0      25.0      3\n",
            "8       14.0      30.0      3\n",
            "9        7.0      10.0      0\n",
            "10      12.5      20.0      0\n"
          ]
        }
      ]
    },
    {
      "cell_type": "markdown",
      "source": [
        "# **Separating target and features**"
      ],
      "metadata": {
        "id": "c9kPw1pu-Lc_"
      }
    },
    {
      "cell_type": "code",
      "source": [
        "x = df.drop(columns=\"Class\")\n",
        "y = df[\"Class\"]"
      ],
      "metadata": {
        "id": "AQZOt_tkx-55"
      },
      "execution_count": 272,
      "outputs": []
    },
    {
      "cell_type": "markdown",
      "source": [
        "# **Train Test Split**\n"
      ],
      "metadata": {
        "id": "XrYGxk-W-3YI"
      }
    },
    {
      "cell_type": "code",
      "source": [
        "# Splitting features and labels for training and testing sets\n",
        "x_train = df.iloc[0:9, 0:2]  # Features for training set\n",
        "x_test  = df.iloc[9:11, 0:2]  # Features for testing set\n",
        "y_train = df.iloc[0:9, -1]    # Labels for training set\n",
        "y_test  = df.iloc[9:11, -1]    # Labels for testing set\n"
      ],
      "metadata": {
        "id": "ykucmILZys3H"
      },
      "execution_count": 273,
      "outputs": []
    },
    {
      "cell_type": "code",
      "source": [
        "y_train"
      ],
      "metadata": {
        "id": "QUf2lWsKslEP",
        "outputId": "5fc495f2-f9de-4772-94da-381a8a06f5fc",
        "colab": {
          "base_uri": "https://localhost:8080/"
        }
      },
      "execution_count": 274,
      "outputs": [
        {
          "output_type": "execute_result",
          "data": {
            "text/plain": [
              "0    1\n",
              "1    1\n",
              "2    1\n",
              "3    2\n",
              "4    2\n",
              "5    2\n",
              "6    3\n",
              "7    3\n",
              "8    3\n",
              "Name: Class, dtype: int64"
            ]
          },
          "metadata": {},
          "execution_count": 274
        }
      ]
    },
    {
      "cell_type": "code",
      "source": [
        "x_test"
      ],
      "metadata": {
        "colab": {
          "base_uri": "https://localhost:8080/",
          "height": 125
        },
        "id": "zECoy2T4yy7R",
        "outputId": "220b4cef-a87d-4917-e0f8-8c50d0ea67ee"
      },
      "execution_count": 275,
      "outputs": [
        {
          "output_type": "execute_result",
          "data": {
            "text/plain": [
              "    Feature1  Feature2\n",
              "9        7.0      10.0\n",
              "10      12.5      20.0"
            ],
            "text/html": [
              "\n",
              "  <div id=\"df-1beae92a-0728-4fa3-877d-70f0c9e51e5f\" class=\"colab-df-container\">\n",
              "    <div>\n",
              "<style scoped>\n",
              "    .dataframe tbody tr th:only-of-type {\n",
              "        vertical-align: middle;\n",
              "    }\n",
              "\n",
              "    .dataframe tbody tr th {\n",
              "        vertical-align: top;\n",
              "    }\n",
              "\n",
              "    .dataframe thead th {\n",
              "        text-align: right;\n",
              "    }\n",
              "</style>\n",
              "<table border=\"1\" class=\"dataframe\">\n",
              "  <thead>\n",
              "    <tr style=\"text-align: right;\">\n",
              "      <th></th>\n",
              "      <th>Feature1</th>\n",
              "      <th>Feature2</th>\n",
              "    </tr>\n",
              "  </thead>\n",
              "  <tbody>\n",
              "    <tr>\n",
              "      <th>9</th>\n",
              "      <td>7.0</td>\n",
              "      <td>10.0</td>\n",
              "    </tr>\n",
              "    <tr>\n",
              "      <th>10</th>\n",
              "      <td>12.5</td>\n",
              "      <td>20.0</td>\n",
              "    </tr>\n",
              "  </tbody>\n",
              "</table>\n",
              "</div>\n",
              "    <div class=\"colab-df-buttons\">\n",
              "\n",
              "  <div class=\"colab-df-container\">\n",
              "    <button class=\"colab-df-convert\" onclick=\"convertToInteractive('df-1beae92a-0728-4fa3-877d-70f0c9e51e5f')\"\n",
              "            title=\"Convert this dataframe to an interactive table.\"\n",
              "            style=\"display:none;\">\n",
              "\n",
              "  <svg xmlns=\"http://www.w3.org/2000/svg\" height=\"24px\" viewBox=\"0 -960 960 960\">\n",
              "    <path d=\"M120-120v-720h720v720H120Zm60-500h600v-160H180v160Zm220 220h160v-160H400v160Zm0 220h160v-160H400v160ZM180-400h160v-160H180v160Zm440 0h160v-160H620v160ZM180-180h160v-160H180v160Zm440 0h160v-160H620v160Z\"/>\n",
              "  </svg>\n",
              "    </button>\n",
              "\n",
              "  <style>\n",
              "    .colab-df-container {\n",
              "      display:flex;\n",
              "      gap: 12px;\n",
              "    }\n",
              "\n",
              "    .colab-df-convert {\n",
              "      background-color: #E8F0FE;\n",
              "      border: none;\n",
              "      border-radius: 50%;\n",
              "      cursor: pointer;\n",
              "      display: none;\n",
              "      fill: #1967D2;\n",
              "      height: 32px;\n",
              "      padding: 0 0 0 0;\n",
              "      width: 32px;\n",
              "    }\n",
              "\n",
              "    .colab-df-convert:hover {\n",
              "      background-color: #E2EBFA;\n",
              "      box-shadow: 0px 1px 2px rgba(60, 64, 67, 0.3), 0px 1px 3px 1px rgba(60, 64, 67, 0.15);\n",
              "      fill: #174EA6;\n",
              "    }\n",
              "\n",
              "    .colab-df-buttons div {\n",
              "      margin-bottom: 4px;\n",
              "    }\n",
              "\n",
              "    [theme=dark] .colab-df-convert {\n",
              "      background-color: #3B4455;\n",
              "      fill: #D2E3FC;\n",
              "    }\n",
              "\n",
              "    [theme=dark] .colab-df-convert:hover {\n",
              "      background-color: #434B5C;\n",
              "      box-shadow: 0px 1px 3px 1px rgba(0, 0, 0, 0.15);\n",
              "      filter: drop-shadow(0px 1px 2px rgba(0, 0, 0, 0.3));\n",
              "      fill: #FFFFFF;\n",
              "    }\n",
              "  </style>\n",
              "\n",
              "    <script>\n",
              "      const buttonEl =\n",
              "        document.querySelector('#df-1beae92a-0728-4fa3-877d-70f0c9e51e5f button.colab-df-convert');\n",
              "      buttonEl.style.display =\n",
              "        google.colab.kernel.accessAllowed ? 'block' : 'none';\n",
              "\n",
              "      async function convertToInteractive(key) {\n",
              "        const element = document.querySelector('#df-1beae92a-0728-4fa3-877d-70f0c9e51e5f');\n",
              "        const dataTable =\n",
              "          await google.colab.kernel.invokeFunction('convertToInteractive',\n",
              "                                                    [key], {});\n",
              "        if (!dataTable) return;\n",
              "\n",
              "        const docLinkHtml = 'Like what you see? Visit the ' +\n",
              "          '<a target=\"_blank\" href=https://colab.research.google.com/notebooks/data_table.ipynb>data table notebook</a>'\n",
              "          + ' to learn more about interactive tables.';\n",
              "        element.innerHTML = '';\n",
              "        dataTable['output_type'] = 'display_data';\n",
              "        await google.colab.output.renderOutput(dataTable, element);\n",
              "        const docLink = document.createElement('div');\n",
              "        docLink.innerHTML = docLinkHtml;\n",
              "        element.appendChild(docLink);\n",
              "      }\n",
              "    </script>\n",
              "  </div>\n",
              "\n",
              "\n",
              "<div id=\"df-d56a81db-d08d-4810-aaa2-616225763db0\">\n",
              "  <button class=\"colab-df-quickchart\" onclick=\"quickchart('df-d56a81db-d08d-4810-aaa2-616225763db0')\"\n",
              "            title=\"Suggest charts\"\n",
              "            style=\"display:none;\">\n",
              "\n",
              "<svg xmlns=\"http://www.w3.org/2000/svg\" height=\"24px\"viewBox=\"0 0 24 24\"\n",
              "     width=\"24px\">\n",
              "    <g>\n",
              "        <path d=\"M19 3H5c-1.1 0-2 .9-2 2v14c0 1.1.9 2 2 2h14c1.1 0 2-.9 2-2V5c0-1.1-.9-2-2-2zM9 17H7v-7h2v7zm4 0h-2V7h2v10zm4 0h-2v-4h2v4z\"/>\n",
              "    </g>\n",
              "</svg>\n",
              "  </button>\n",
              "\n",
              "<style>\n",
              "  .colab-df-quickchart {\n",
              "      --bg-color: #E8F0FE;\n",
              "      --fill-color: #1967D2;\n",
              "      --hover-bg-color: #E2EBFA;\n",
              "      --hover-fill-color: #174EA6;\n",
              "      --disabled-fill-color: #AAA;\n",
              "      --disabled-bg-color: #DDD;\n",
              "  }\n",
              "\n",
              "  [theme=dark] .colab-df-quickchart {\n",
              "      --bg-color: #3B4455;\n",
              "      --fill-color: #D2E3FC;\n",
              "      --hover-bg-color: #434B5C;\n",
              "      --hover-fill-color: #FFFFFF;\n",
              "      --disabled-bg-color: #3B4455;\n",
              "      --disabled-fill-color: #666;\n",
              "  }\n",
              "\n",
              "  .colab-df-quickchart {\n",
              "    background-color: var(--bg-color);\n",
              "    border: none;\n",
              "    border-radius: 50%;\n",
              "    cursor: pointer;\n",
              "    display: none;\n",
              "    fill: var(--fill-color);\n",
              "    height: 32px;\n",
              "    padding: 0;\n",
              "    width: 32px;\n",
              "  }\n",
              "\n",
              "  .colab-df-quickchart:hover {\n",
              "    background-color: var(--hover-bg-color);\n",
              "    box-shadow: 0 1px 2px rgba(60, 64, 67, 0.3), 0 1px 3px 1px rgba(60, 64, 67, 0.15);\n",
              "    fill: var(--button-hover-fill-color);\n",
              "  }\n",
              "\n",
              "  .colab-df-quickchart-complete:disabled,\n",
              "  .colab-df-quickchart-complete:disabled:hover {\n",
              "    background-color: var(--disabled-bg-color);\n",
              "    fill: var(--disabled-fill-color);\n",
              "    box-shadow: none;\n",
              "  }\n",
              "\n",
              "  .colab-df-spinner {\n",
              "    border: 2px solid var(--fill-color);\n",
              "    border-color: transparent;\n",
              "    border-bottom-color: var(--fill-color);\n",
              "    animation:\n",
              "      spin 1s steps(1) infinite;\n",
              "  }\n",
              "\n",
              "  @keyframes spin {\n",
              "    0% {\n",
              "      border-color: transparent;\n",
              "      border-bottom-color: var(--fill-color);\n",
              "      border-left-color: var(--fill-color);\n",
              "    }\n",
              "    20% {\n",
              "      border-color: transparent;\n",
              "      border-left-color: var(--fill-color);\n",
              "      border-top-color: var(--fill-color);\n",
              "    }\n",
              "    30% {\n",
              "      border-color: transparent;\n",
              "      border-left-color: var(--fill-color);\n",
              "      border-top-color: var(--fill-color);\n",
              "      border-right-color: var(--fill-color);\n",
              "    }\n",
              "    40% {\n",
              "      border-color: transparent;\n",
              "      border-right-color: var(--fill-color);\n",
              "      border-top-color: var(--fill-color);\n",
              "    }\n",
              "    60% {\n",
              "      border-color: transparent;\n",
              "      border-right-color: var(--fill-color);\n",
              "    }\n",
              "    80% {\n",
              "      border-color: transparent;\n",
              "      border-right-color: var(--fill-color);\n",
              "      border-bottom-color: var(--fill-color);\n",
              "    }\n",
              "    90% {\n",
              "      border-color: transparent;\n",
              "      border-bottom-color: var(--fill-color);\n",
              "    }\n",
              "  }\n",
              "</style>\n",
              "\n",
              "  <script>\n",
              "    async function quickchart(key) {\n",
              "      const quickchartButtonEl =\n",
              "        document.querySelector('#' + key + ' button');\n",
              "      quickchartButtonEl.disabled = true;  // To prevent multiple clicks.\n",
              "      quickchartButtonEl.classList.add('colab-df-spinner');\n",
              "      try {\n",
              "        const charts = await google.colab.kernel.invokeFunction(\n",
              "            'suggestCharts', [key], {});\n",
              "      } catch (error) {\n",
              "        console.error('Error during call to suggestCharts:', error);\n",
              "      }\n",
              "      quickchartButtonEl.classList.remove('colab-df-spinner');\n",
              "      quickchartButtonEl.classList.add('colab-df-quickchart-complete');\n",
              "    }\n",
              "    (() => {\n",
              "      let quickchartButtonEl =\n",
              "        document.querySelector('#df-d56a81db-d08d-4810-aaa2-616225763db0 button');\n",
              "      quickchartButtonEl.style.display =\n",
              "        google.colab.kernel.accessAllowed ? 'block' : 'none';\n",
              "    })();\n",
              "  </script>\n",
              "</div>\n",
              "\n",
              "  <div id=\"id_84c72dfe-c227-462b-bff2-6063f797e023\">\n",
              "    <style>\n",
              "      .colab-df-generate {\n",
              "        background-color: #E8F0FE;\n",
              "        border: none;\n",
              "        border-radius: 50%;\n",
              "        cursor: pointer;\n",
              "        display: none;\n",
              "        fill: #1967D2;\n",
              "        height: 32px;\n",
              "        padding: 0 0 0 0;\n",
              "        width: 32px;\n",
              "      }\n",
              "\n",
              "      .colab-df-generate:hover {\n",
              "        background-color: #E2EBFA;\n",
              "        box-shadow: 0px 1px 2px rgba(60, 64, 67, 0.3), 0px 1px 3px 1px rgba(60, 64, 67, 0.15);\n",
              "        fill: #174EA6;\n",
              "      }\n",
              "\n",
              "      [theme=dark] .colab-df-generate {\n",
              "        background-color: #3B4455;\n",
              "        fill: #D2E3FC;\n",
              "      }\n",
              "\n",
              "      [theme=dark] .colab-df-generate:hover {\n",
              "        background-color: #434B5C;\n",
              "        box-shadow: 0px 1px 3px 1px rgba(0, 0, 0, 0.15);\n",
              "        filter: drop-shadow(0px 1px 2px rgba(0, 0, 0, 0.3));\n",
              "        fill: #FFFFFF;\n",
              "      }\n",
              "    </style>\n",
              "    <button class=\"colab-df-generate\" onclick=\"generateWithVariable('x_test')\"\n",
              "            title=\"Generate code using this dataframe.\"\n",
              "            style=\"display:none;\">\n",
              "\n",
              "  <svg xmlns=\"http://www.w3.org/2000/svg\" height=\"24px\"viewBox=\"0 0 24 24\"\n",
              "       width=\"24px\">\n",
              "    <path d=\"M7,19H8.4L18.45,9,17,7.55,7,17.6ZM5,21V16.75L18.45,3.32a2,2,0,0,1,2.83,0l1.4,1.43a1.91,1.91,0,0,1,.58,1.4,1.91,1.91,0,0,1-.58,1.4L9.25,21ZM18.45,9,17,7.55Zm-12,3A5.31,5.31,0,0,0,4.9,8.1,5.31,5.31,0,0,0,1,6.5,5.31,5.31,0,0,0,4.9,4.9,5.31,5.31,0,0,0,6.5,1,5.31,5.31,0,0,0,8.1,4.9,5.31,5.31,0,0,0,12,6.5,5.46,5.46,0,0,0,6.5,12Z\"/>\n",
              "  </svg>\n",
              "    </button>\n",
              "    <script>\n",
              "      (() => {\n",
              "      const buttonEl =\n",
              "        document.querySelector('#id_84c72dfe-c227-462b-bff2-6063f797e023 button.colab-df-generate');\n",
              "      buttonEl.style.display =\n",
              "        google.colab.kernel.accessAllowed ? 'block' : 'none';\n",
              "\n",
              "      buttonEl.onclick = () => {\n",
              "        google.colab.notebook.generateWithVariable('x_test');\n",
              "      }\n",
              "      })();\n",
              "    </script>\n",
              "  </div>\n",
              "\n",
              "    </div>\n",
              "  </div>\n"
            ],
            "application/vnd.google.colaboratory.intrinsic+json": {
              "type": "dataframe",
              "variable_name": "x_test",
              "summary": "{\n  \"name\": \"x_test\",\n  \"rows\": 2,\n  \"fields\": [\n    {\n      \"column\": \"Feature1\",\n      \"properties\": {\n        \"dtype\": \"number\",\n        \"std\": 3.8890872965260113,\n        \"min\": 7.0,\n        \"max\": 12.5,\n        \"num_unique_values\": 2,\n        \"samples\": [\n          12.5,\n          7.0\n        ],\n        \"semantic_type\": \"\",\n        \"description\": \"\"\n      }\n    },\n    {\n      \"column\": \"Feature2\",\n      \"properties\": {\n        \"dtype\": \"number\",\n        \"std\": 7.0710678118654755,\n        \"min\": 10.0,\n        \"max\": 20.0,\n        \"num_unique_values\": 2,\n        \"samples\": [\n          20.0,\n          10.0\n        ],\n        \"semantic_type\": \"\",\n        \"description\": \"\"\n      }\n    }\n  ]\n}"
            }
          },
          "metadata": {},
          "execution_count": 275
        }
      ]
    },
    {
      "cell_type": "code",
      "source": [
        "x_test"
      ],
      "metadata": {
        "colab": {
          "base_uri": "https://localhost:8080/",
          "height": 125
        },
        "id": "wp24Bk7tfi10",
        "outputId": "40020ded-0217-4aa5-cfa6-98c1b74e0893"
      },
      "execution_count": 276,
      "outputs": [
        {
          "output_type": "execute_result",
          "data": {
            "text/plain": [
              "    Feature1  Feature2\n",
              "9        7.0      10.0\n",
              "10      12.5      20.0"
            ],
            "text/html": [
              "\n",
              "  <div id=\"df-20d84824-03c8-4d82-9729-3dd45be89df4\" class=\"colab-df-container\">\n",
              "    <div>\n",
              "<style scoped>\n",
              "    .dataframe tbody tr th:only-of-type {\n",
              "        vertical-align: middle;\n",
              "    }\n",
              "\n",
              "    .dataframe tbody tr th {\n",
              "        vertical-align: top;\n",
              "    }\n",
              "\n",
              "    .dataframe thead th {\n",
              "        text-align: right;\n",
              "    }\n",
              "</style>\n",
              "<table border=\"1\" class=\"dataframe\">\n",
              "  <thead>\n",
              "    <tr style=\"text-align: right;\">\n",
              "      <th></th>\n",
              "      <th>Feature1</th>\n",
              "      <th>Feature2</th>\n",
              "    </tr>\n",
              "  </thead>\n",
              "  <tbody>\n",
              "    <tr>\n",
              "      <th>9</th>\n",
              "      <td>7.0</td>\n",
              "      <td>10.0</td>\n",
              "    </tr>\n",
              "    <tr>\n",
              "      <th>10</th>\n",
              "      <td>12.5</td>\n",
              "      <td>20.0</td>\n",
              "    </tr>\n",
              "  </tbody>\n",
              "</table>\n",
              "</div>\n",
              "    <div class=\"colab-df-buttons\">\n",
              "\n",
              "  <div class=\"colab-df-container\">\n",
              "    <button class=\"colab-df-convert\" onclick=\"convertToInteractive('df-20d84824-03c8-4d82-9729-3dd45be89df4')\"\n",
              "            title=\"Convert this dataframe to an interactive table.\"\n",
              "            style=\"display:none;\">\n",
              "\n",
              "  <svg xmlns=\"http://www.w3.org/2000/svg\" height=\"24px\" viewBox=\"0 -960 960 960\">\n",
              "    <path d=\"M120-120v-720h720v720H120Zm60-500h600v-160H180v160Zm220 220h160v-160H400v160Zm0 220h160v-160H400v160ZM180-400h160v-160H180v160Zm440 0h160v-160H620v160ZM180-180h160v-160H180v160Zm440 0h160v-160H620v160Z\"/>\n",
              "  </svg>\n",
              "    </button>\n",
              "\n",
              "  <style>\n",
              "    .colab-df-container {\n",
              "      display:flex;\n",
              "      gap: 12px;\n",
              "    }\n",
              "\n",
              "    .colab-df-convert {\n",
              "      background-color: #E8F0FE;\n",
              "      border: none;\n",
              "      border-radius: 50%;\n",
              "      cursor: pointer;\n",
              "      display: none;\n",
              "      fill: #1967D2;\n",
              "      height: 32px;\n",
              "      padding: 0 0 0 0;\n",
              "      width: 32px;\n",
              "    }\n",
              "\n",
              "    .colab-df-convert:hover {\n",
              "      background-color: #E2EBFA;\n",
              "      box-shadow: 0px 1px 2px rgba(60, 64, 67, 0.3), 0px 1px 3px 1px rgba(60, 64, 67, 0.15);\n",
              "      fill: #174EA6;\n",
              "    }\n",
              "\n",
              "    .colab-df-buttons div {\n",
              "      margin-bottom: 4px;\n",
              "    }\n",
              "\n",
              "    [theme=dark] .colab-df-convert {\n",
              "      background-color: #3B4455;\n",
              "      fill: #D2E3FC;\n",
              "    }\n",
              "\n",
              "    [theme=dark] .colab-df-convert:hover {\n",
              "      background-color: #434B5C;\n",
              "      box-shadow: 0px 1px 3px 1px rgba(0, 0, 0, 0.15);\n",
              "      filter: drop-shadow(0px 1px 2px rgba(0, 0, 0, 0.3));\n",
              "      fill: #FFFFFF;\n",
              "    }\n",
              "  </style>\n",
              "\n",
              "    <script>\n",
              "      const buttonEl =\n",
              "        document.querySelector('#df-20d84824-03c8-4d82-9729-3dd45be89df4 button.colab-df-convert');\n",
              "      buttonEl.style.display =\n",
              "        google.colab.kernel.accessAllowed ? 'block' : 'none';\n",
              "\n",
              "      async function convertToInteractive(key) {\n",
              "        const element = document.querySelector('#df-20d84824-03c8-4d82-9729-3dd45be89df4');\n",
              "        const dataTable =\n",
              "          await google.colab.kernel.invokeFunction('convertToInteractive',\n",
              "                                                    [key], {});\n",
              "        if (!dataTable) return;\n",
              "\n",
              "        const docLinkHtml = 'Like what you see? Visit the ' +\n",
              "          '<a target=\"_blank\" href=https://colab.research.google.com/notebooks/data_table.ipynb>data table notebook</a>'\n",
              "          + ' to learn more about interactive tables.';\n",
              "        element.innerHTML = '';\n",
              "        dataTable['output_type'] = 'display_data';\n",
              "        await google.colab.output.renderOutput(dataTable, element);\n",
              "        const docLink = document.createElement('div');\n",
              "        docLink.innerHTML = docLinkHtml;\n",
              "        element.appendChild(docLink);\n",
              "      }\n",
              "    </script>\n",
              "  </div>\n",
              "\n",
              "\n",
              "<div id=\"df-6b668684-501b-48dc-82b2-f7c049a69bda\">\n",
              "  <button class=\"colab-df-quickchart\" onclick=\"quickchart('df-6b668684-501b-48dc-82b2-f7c049a69bda')\"\n",
              "            title=\"Suggest charts\"\n",
              "            style=\"display:none;\">\n",
              "\n",
              "<svg xmlns=\"http://www.w3.org/2000/svg\" height=\"24px\"viewBox=\"0 0 24 24\"\n",
              "     width=\"24px\">\n",
              "    <g>\n",
              "        <path d=\"M19 3H5c-1.1 0-2 .9-2 2v14c0 1.1.9 2 2 2h14c1.1 0 2-.9 2-2V5c0-1.1-.9-2-2-2zM9 17H7v-7h2v7zm4 0h-2V7h2v10zm4 0h-2v-4h2v4z\"/>\n",
              "    </g>\n",
              "</svg>\n",
              "  </button>\n",
              "\n",
              "<style>\n",
              "  .colab-df-quickchart {\n",
              "      --bg-color: #E8F0FE;\n",
              "      --fill-color: #1967D2;\n",
              "      --hover-bg-color: #E2EBFA;\n",
              "      --hover-fill-color: #174EA6;\n",
              "      --disabled-fill-color: #AAA;\n",
              "      --disabled-bg-color: #DDD;\n",
              "  }\n",
              "\n",
              "  [theme=dark] .colab-df-quickchart {\n",
              "      --bg-color: #3B4455;\n",
              "      --fill-color: #D2E3FC;\n",
              "      --hover-bg-color: #434B5C;\n",
              "      --hover-fill-color: #FFFFFF;\n",
              "      --disabled-bg-color: #3B4455;\n",
              "      --disabled-fill-color: #666;\n",
              "  }\n",
              "\n",
              "  .colab-df-quickchart {\n",
              "    background-color: var(--bg-color);\n",
              "    border: none;\n",
              "    border-radius: 50%;\n",
              "    cursor: pointer;\n",
              "    display: none;\n",
              "    fill: var(--fill-color);\n",
              "    height: 32px;\n",
              "    padding: 0;\n",
              "    width: 32px;\n",
              "  }\n",
              "\n",
              "  .colab-df-quickchart:hover {\n",
              "    background-color: var(--hover-bg-color);\n",
              "    box-shadow: 0 1px 2px rgba(60, 64, 67, 0.3), 0 1px 3px 1px rgba(60, 64, 67, 0.15);\n",
              "    fill: var(--button-hover-fill-color);\n",
              "  }\n",
              "\n",
              "  .colab-df-quickchart-complete:disabled,\n",
              "  .colab-df-quickchart-complete:disabled:hover {\n",
              "    background-color: var(--disabled-bg-color);\n",
              "    fill: var(--disabled-fill-color);\n",
              "    box-shadow: none;\n",
              "  }\n",
              "\n",
              "  .colab-df-spinner {\n",
              "    border: 2px solid var(--fill-color);\n",
              "    border-color: transparent;\n",
              "    border-bottom-color: var(--fill-color);\n",
              "    animation:\n",
              "      spin 1s steps(1) infinite;\n",
              "  }\n",
              "\n",
              "  @keyframes spin {\n",
              "    0% {\n",
              "      border-color: transparent;\n",
              "      border-bottom-color: var(--fill-color);\n",
              "      border-left-color: var(--fill-color);\n",
              "    }\n",
              "    20% {\n",
              "      border-color: transparent;\n",
              "      border-left-color: var(--fill-color);\n",
              "      border-top-color: var(--fill-color);\n",
              "    }\n",
              "    30% {\n",
              "      border-color: transparent;\n",
              "      border-left-color: var(--fill-color);\n",
              "      border-top-color: var(--fill-color);\n",
              "      border-right-color: var(--fill-color);\n",
              "    }\n",
              "    40% {\n",
              "      border-color: transparent;\n",
              "      border-right-color: var(--fill-color);\n",
              "      border-top-color: var(--fill-color);\n",
              "    }\n",
              "    60% {\n",
              "      border-color: transparent;\n",
              "      border-right-color: var(--fill-color);\n",
              "    }\n",
              "    80% {\n",
              "      border-color: transparent;\n",
              "      border-right-color: var(--fill-color);\n",
              "      border-bottom-color: var(--fill-color);\n",
              "    }\n",
              "    90% {\n",
              "      border-color: transparent;\n",
              "      border-bottom-color: var(--fill-color);\n",
              "    }\n",
              "  }\n",
              "</style>\n",
              "\n",
              "  <script>\n",
              "    async function quickchart(key) {\n",
              "      const quickchartButtonEl =\n",
              "        document.querySelector('#' + key + ' button');\n",
              "      quickchartButtonEl.disabled = true;  // To prevent multiple clicks.\n",
              "      quickchartButtonEl.classList.add('colab-df-spinner');\n",
              "      try {\n",
              "        const charts = await google.colab.kernel.invokeFunction(\n",
              "            'suggestCharts', [key], {});\n",
              "      } catch (error) {\n",
              "        console.error('Error during call to suggestCharts:', error);\n",
              "      }\n",
              "      quickchartButtonEl.classList.remove('colab-df-spinner');\n",
              "      quickchartButtonEl.classList.add('colab-df-quickchart-complete');\n",
              "    }\n",
              "    (() => {\n",
              "      let quickchartButtonEl =\n",
              "        document.querySelector('#df-6b668684-501b-48dc-82b2-f7c049a69bda button');\n",
              "      quickchartButtonEl.style.display =\n",
              "        google.colab.kernel.accessAllowed ? 'block' : 'none';\n",
              "    })();\n",
              "  </script>\n",
              "</div>\n",
              "\n",
              "  <div id=\"id_ac4b52db-4831-4ceb-9581-307abf0acbe7\">\n",
              "    <style>\n",
              "      .colab-df-generate {\n",
              "        background-color: #E8F0FE;\n",
              "        border: none;\n",
              "        border-radius: 50%;\n",
              "        cursor: pointer;\n",
              "        display: none;\n",
              "        fill: #1967D2;\n",
              "        height: 32px;\n",
              "        padding: 0 0 0 0;\n",
              "        width: 32px;\n",
              "      }\n",
              "\n",
              "      .colab-df-generate:hover {\n",
              "        background-color: #E2EBFA;\n",
              "        box-shadow: 0px 1px 2px rgba(60, 64, 67, 0.3), 0px 1px 3px 1px rgba(60, 64, 67, 0.15);\n",
              "        fill: #174EA6;\n",
              "      }\n",
              "\n",
              "      [theme=dark] .colab-df-generate {\n",
              "        background-color: #3B4455;\n",
              "        fill: #D2E3FC;\n",
              "      }\n",
              "\n",
              "      [theme=dark] .colab-df-generate:hover {\n",
              "        background-color: #434B5C;\n",
              "        box-shadow: 0px 1px 3px 1px rgba(0, 0, 0, 0.15);\n",
              "        filter: drop-shadow(0px 1px 2px rgba(0, 0, 0, 0.3));\n",
              "        fill: #FFFFFF;\n",
              "      }\n",
              "    </style>\n",
              "    <button class=\"colab-df-generate\" onclick=\"generateWithVariable('x_test')\"\n",
              "            title=\"Generate code using this dataframe.\"\n",
              "            style=\"display:none;\">\n",
              "\n",
              "  <svg xmlns=\"http://www.w3.org/2000/svg\" height=\"24px\"viewBox=\"0 0 24 24\"\n",
              "       width=\"24px\">\n",
              "    <path d=\"M7,19H8.4L18.45,9,17,7.55,7,17.6ZM5,21V16.75L18.45,3.32a2,2,0,0,1,2.83,0l1.4,1.43a1.91,1.91,0,0,1,.58,1.4,1.91,1.91,0,0,1-.58,1.4L9.25,21ZM18.45,9,17,7.55Zm-12,3A5.31,5.31,0,0,0,4.9,8.1,5.31,5.31,0,0,0,1,6.5,5.31,5.31,0,0,0,4.9,4.9,5.31,5.31,0,0,0,6.5,1,5.31,5.31,0,0,0,8.1,4.9,5.31,5.31,0,0,0,12,6.5,5.46,5.46,0,0,0,6.5,12Z\"/>\n",
              "  </svg>\n",
              "    </button>\n",
              "    <script>\n",
              "      (() => {\n",
              "      const buttonEl =\n",
              "        document.querySelector('#id_ac4b52db-4831-4ceb-9581-307abf0acbe7 button.colab-df-generate');\n",
              "      buttonEl.style.display =\n",
              "        google.colab.kernel.accessAllowed ? 'block' : 'none';\n",
              "\n",
              "      buttonEl.onclick = () => {\n",
              "        google.colab.notebook.generateWithVariable('x_test');\n",
              "      }\n",
              "      })();\n",
              "    </script>\n",
              "  </div>\n",
              "\n",
              "    </div>\n",
              "  </div>\n"
            ],
            "application/vnd.google.colaboratory.intrinsic+json": {
              "type": "dataframe",
              "variable_name": "x_test",
              "summary": "{\n  \"name\": \"x_test\",\n  \"rows\": 2,\n  \"fields\": [\n    {\n      \"column\": \"Feature1\",\n      \"properties\": {\n        \"dtype\": \"number\",\n        \"std\": 3.8890872965260113,\n        \"min\": 7.0,\n        \"max\": 12.5,\n        \"num_unique_values\": 2,\n        \"samples\": [\n          12.5,\n          7.0\n        ],\n        \"semantic_type\": \"\",\n        \"description\": \"\"\n      }\n    },\n    {\n      \"column\": \"Feature2\",\n      \"properties\": {\n        \"dtype\": \"number\",\n        \"std\": 7.0710678118654755,\n        \"min\": 10.0,\n        \"max\": 20.0,\n        \"num_unique_values\": 2,\n        \"samples\": [\n          20.0,\n          10.0\n        ],\n        \"semantic_type\": \"\",\n        \"description\": \"\"\n      }\n    }\n  ]\n}"
            }
          },
          "metadata": {},
          "execution_count": 276
        }
      ]
    },
    {
      "cell_type": "code",
      "source": [
        "x_test.to_numpy()"
      ],
      "metadata": {
        "colab": {
          "base_uri": "https://localhost:8080/"
        },
        "id": "J0Hy2e0_frfb",
        "outputId": "74537799-9978-471d-cf5e-aebbaff67f7a"
      },
      "execution_count": 277,
      "outputs": [
        {
          "output_type": "execute_result",
          "data": {
            "text/plain": [
              "array([[ 7. , 10. ],\n",
              "       [12.5, 20. ]])"
            ]
          },
          "metadata": {},
          "execution_count": 277
        }
      ]
    },
    {
      "cell_type": "code",
      "source": [
        "x_test.to_numpy().shape"
      ],
      "metadata": {
        "colab": {
          "base_uri": "https://localhost:8080/"
        },
        "id": "BRT4riWYfv5Q",
        "outputId": "66cdf760-d1fa-4390-fff8-b6b83831ec20"
      },
      "execution_count": 278,
      "outputs": [
        {
          "output_type": "execute_result",
          "data": {
            "text/plain": [
              "(2, 2)"
            ]
          },
          "metadata": {},
          "execution_count": 278
        }
      ]
    },
    {
      "cell_type": "code",
      "source": [
        "def euclidean_distance(point,dataset):\n",
        "  distances = np.sqrt(np.sum((dataset - point) ** 2, axis=1))\n",
        "  return distances\n",
        "\n",
        "for i in x_test:\n",
        "  print(i)\n",
        "  # euclidean_distance(i,x_train)"
      ],
      "metadata": {
        "colab": {
          "base_uri": "https://localhost:8080/"
        },
        "id": "VauPCPEkewyL",
        "outputId": "c353691d-534a-4e2d-8afe-1f43c791f02d"
      },
      "execution_count": 279,
      "outputs": [
        {
          "output_type": "stream",
          "name": "stdout",
          "text": [
            "Feature1\n",
            "Feature2\n"
          ]
        }
      ]
    },
    {
      "cell_type": "code",
      "source": [
        "def euclidean_distance(point,dataset):\n",
        "  distances = np.sqrt(np.sum((dataset - point) ** 2, axis=1))\n",
        "  return distances\n",
        "\n",
        "for i in x_test:\n",
        "  print(x_test[i],\"\\n\")\n",
        "  # euclidean_distance(i,x_train)"
      ],
      "metadata": {
        "colab": {
          "base_uri": "https://localhost:8080/"
        },
        "id": "t--OCDLTfJHr",
        "outputId": "9ca3af00-dc53-4dbf-ffed-17de993e06cf"
      },
      "execution_count": 280,
      "outputs": [
        {
          "output_type": "stream",
          "name": "stdout",
          "text": [
            "9      7.0\n",
            "10    12.5\n",
            "Name: Feature1, dtype: float64 \n",
            "\n",
            "9     10.0\n",
            "10    20.0\n",
            "Name: Feature2, dtype: float64 \n",
            "\n"
          ]
        }
      ]
    },
    {
      "cell_type": "code",
      "source": [
        "def euclidean_distance(point,dataset):\n",
        "  distances = np.sqrt(np.sum((dataset - point) ** 2, axis=1))\n",
        "  return distances\n",
        "\n",
        "for i in x_test.to_numpy():\n",
        "  print(i,\"\\n\")\n",
        "  # euclidean_distance(i,x_train)"
      ],
      "metadata": {
        "colab": {
          "base_uri": "https://localhost:8080/"
        },
        "id": "_xW8JNVtfb-O",
        "outputId": "418bb513-e9a3-4a5e-a797-7eeeee441d7a"
      },
      "execution_count": 281,
      "outputs": [
        {
          "output_type": "stream",
          "name": "stdout",
          "text": [
            "[ 7. 10.] \n",
            "\n",
            "[12.5 20. ] \n",
            "\n"
          ]
        }
      ]
    },
    {
      "cell_type": "code",
      "source": [
        "def euclidean_distance(point,dataset):\n",
        "  distances = np.sqrt(np.sum((dataset - point) ** 2, axis=1))\n",
        "  return distances\n",
        "\n",
        "for i in x_test.to_numpy():\n",
        "  # print(i,\"\\n\")\n",
        "  distances = euclidean_distance(i,x_train)\n",
        "  print(f\"distances of {i} :\\n{distances}\\n\\n\")"
      ],
      "metadata": {
        "colab": {
          "base_uri": "https://localhost:8080/"
        },
        "id": "nDDODewVgITs",
        "outputId": "3b02d81c-9e2a-4702-b856-4f80fc59b8df"
      },
      "execution_count": 357,
      "outputs": [
        {
          "output_type": "stream",
          "name": "stdout",
          "text": [
            "distances of [ 7. 10.] :\n",
            "0     5.000000\n",
            "1     6.403124\n",
            "2    10.440307\n",
            "3     5.000000\n",
            "4    10.049876\n",
            "5    15.132746\n",
            "6     7.071068\n",
            "7    16.155494\n",
            "8    21.189620\n",
            "dtype: float64\n",
            "\n",
            "\n",
            "<class 'pandas.core.series.Series'>\n",
            "distances of [12.5 20. ] :\n",
            "0    14.500000\n",
            "1    10.735455\n",
            "2     8.500000\n",
            "3     7.433034\n",
            "4     4.500000\n",
            "5     6.103278\n",
            "6     5.024938\n",
            "7     5.024938\n",
            "8    10.111874\n",
            "dtype: float64\n",
            "\n",
            "\n",
            "<class 'pandas.core.series.Series'>\n"
          ]
        }
      ]
    },
    {
      "cell_type": "code",
      "source": [
        "def euclidean_distance(point,dataset):\n",
        "  distances = np.sqrt(np.sum((dataset - point) ** 2, axis=1))\n",
        "  return distances\n",
        "\n",
        "for i in x_test.to_numpy():\n",
        "  # print(i,\"\\n\")\n",
        "  min_dis = float('inf')\n",
        "  distances = euclidean_distance(i,x_train)\n",
        "  # print(f\"distances of {i} :\\n{distances}\\n\\n\")\n",
        "  for dis in distances :\n",
        "    if dis < min_dis :\n",
        "      min_dis = dis\n",
        "  print(f\"min distance for {i} : {min_dis}\")"
      ],
      "metadata": {
        "colab": {
          "base_uri": "https://localhost:8080/"
        },
        "id": "jGv3gprhg064",
        "outputId": "bff25f7d-7f9f-4e7d-d30d-733619762ae8"
      },
      "execution_count": 283,
      "outputs": [
        {
          "output_type": "stream",
          "name": "stdout",
          "text": [
            "min distance for [ 7. 10.] : 5.0\n",
            "min distance for [12.5 20. ] : 4.5\n"
          ]
        }
      ]
    },
    {
      "cell_type": "code",
      "source": [
        "def euclidean_distance(point,dataset):\n",
        "  distances = np.sqrt(np.sum((dataset - point) ** 2, axis=1))\n",
        "  return distances\n",
        "\n",
        "for i in x_test.to_numpy():\n",
        "  # print(i,\"\\n\")\n",
        "  min_dis = float('inf')\n",
        "  min_distance_index = -1\n",
        "  index = -1\n",
        "  distances = euclidean_distance(i,x_train)\n",
        "  # print(f\"distances of {i} :\\n{distances}\\n\\n\")\n",
        "  for dis in distances :\n",
        "    index +=1\n",
        "    if dis < min_dis :\n",
        "      min_dis = dis\n",
        "      min_distance_index = index\n",
        "  print(f\"min distance for {i} : {min_dis} & exist in index : {min_distance_index}\")"
      ],
      "metadata": {
        "colab": {
          "base_uri": "https://localhost:8080/"
        },
        "id": "VMJBMuEvham4",
        "outputId": "fd659199-b15e-416a-fe51-aebf3eed4f29"
      },
      "execution_count": 284,
      "outputs": [
        {
          "output_type": "stream",
          "name": "stdout",
          "text": [
            "min distance for [ 7. 10.] : 5.0 & exist in index : 0\n",
            "min distance for [12.5 20. ] : 4.5 & exist in index : 4\n"
          ]
        }
      ]
    },
    {
      "cell_type": "code",
      "source": [
        "def euclidean_distance(point,dataset):\n",
        "  distances = np.sqrt(np.sum((dataset - point) ** 2, axis=1))\n",
        "  return distances\n",
        "\n",
        "for i in x_test.to_numpy():\n",
        "  # print(i,\"\\n\")\n",
        "  min_dis = float('inf')\n",
        "  min_distance_index = -1\n",
        "  index = -1\n",
        "  distances = euclidean_distance(i,x_train)\n",
        "  # print(f\"distances of {i} :\\n{distances}\\n\\n\")\n",
        "  for dis in distances :\n",
        "    index +=1\n",
        "    if dis < min_dis :\n",
        "      min_dis = dis\n",
        "      min_distance_index = index\n",
        "  predicted_label = y_train[min_distance_index]\n",
        "  print(f\"min distance for {i} : {min_dis} & exist in index : {min_distance_index} & the label of min distance : {predicted_label}\")"
      ],
      "metadata": {
        "colab": {
          "base_uri": "https://localhost:8080/"
        },
        "id": "Xi1NNOcdh_dC",
        "outputId": "3375718e-2c3e-45d8-ab65-32023248888a"
      },
      "execution_count": 285,
      "outputs": [
        {
          "output_type": "stream",
          "name": "stdout",
          "text": [
            "min distance for [ 7. 10.] : 5.0 & exist in index : 0 & the label of min distance : 1\n",
            "min distance for [12.5 20. ] : 4.5 & exist in index : 4 & the label of min distance : 2\n"
          ]
        }
      ]
    },
    {
      "cell_type": "code",
      "source": [
        "def euclidean_distance(point,dataset):\n",
        "  distances = np.sqrt(np.sum((dataset - point) ** 2, axis=1))\n",
        "  return distances\n",
        "\n",
        "def predict (x_test):\n",
        "  predictions = []\n",
        "  for i in x_test.to_numpy():\n",
        "    # print(i,\"\\n\")\n",
        "    min_dis = float('inf')\n",
        "    min_distance_index = -1\n",
        "    index = -1\n",
        "    distances = euclidean_distance(i,x_train)\n",
        "    # print(f\"distances of {i} :\\n{distances}\\n\\n\")\n",
        "    for dis in distances :\n",
        "      index +=1\n",
        "      if dis < min_dis :\n",
        "        min_dis = dis\n",
        "        min_distance_index = index\n",
        "    predicted_label = y_train[min_distance_index]\n",
        "    predictions.append(predicted_label)\n",
        "    print(f\"min distance for {i} : {min_dis} & exist in index : {min_distance_index} & the label of min distance : {predicted_label}\")\n",
        "  print (f\"predictions : \")\n",
        "  return predictions\n",
        "\n",
        "predict(x_test)"
      ],
      "metadata": {
        "colab": {
          "base_uri": "https://localhost:8080/"
        },
        "id": "VIqGtxGvi-UE",
        "outputId": "fb173258-ab01-4577-f5ff-2d157fe339ea"
      },
      "execution_count": 310,
      "outputs": [
        {
          "output_type": "stream",
          "name": "stdout",
          "text": [
            "min distance for [ 7. 10.] : 5.0 & exist in index : 0 & the label of min distance : 1\n",
            "min distance for [12.5 20. ] : 4.5 & exist in index : 4 & the label of min distance : 2\n",
            "predictions : \n"
          ]
        },
        {
          "output_type": "execute_result",
          "data": {
            "text/plain": [
              "[1, 2]"
            ]
          },
          "metadata": {},
          "execution_count": 310
        }
      ]
    },
    {
      "cell_type": "markdown",
      "source": [
        "# ***TRYING***"
      ],
      "metadata": {
        "id": "B8efhro8_BR7"
      }
    },
    {
      "cell_type": "code",
      "source": [
        "def euclidean_distance(point, dataset):\n",
        "    \"\"\"\n",
        "    Calculate the Euclidean distance between a point and all points in a dataset.\n",
        "\n",
        "    Parameters:\n",
        "    - point (array-like): The coordinates of the point.\n",
        "    - dataset (array-like): The dataset containing multiple points.\n",
        "\n",
        "    Returns:\n",
        "    - distances (array-like): An array of Euclidean distances between the point and each point in the dataset.\n",
        "    \"\"\"\n",
        "    distances = np.sqrt(np.sum((dataset - point) ** 2, axis=1))\n",
        "    return distances\n",
        "\n",
        "\n",
        "def predict(X_test):\n",
        "  min_distance = float('inf')\n",
        "  min_distance_index = None\n",
        "  index = -1\n",
        "  distances = euclidean_distance(point, x_train)\n",
        "  for dis in distances :\n",
        "    index+=1\n",
        "    if dis < min_distance:\n",
        "      min_distance = dis\n",
        "      min_distance_index = index\n",
        "  predicted_label = y_train[min_distance_index]\n",
        "  return np.array(predicted_label)\n",
        "\n",
        "\n",
        "\n",
        "\n",
        "\n",
        "\n",
        "# Example usage:\n",
        "point = np.array([7, 10])  # Sample point\n",
        "distances = euclidean_distance(point, x_train)\n",
        "print(distances)\n",
        "print(\"\\n\")\n",
        "p = predict(point)\n",
        "print(p)\n"
      ],
      "metadata": {
        "colab": {
          "base_uri": "https://localhost:8080/"
        },
        "id": "LX4t1HlZ2uOd",
        "outputId": "cff6444d-2d9d-4633-c39b-6a22e7b06a43"
      },
      "execution_count": 287,
      "outputs": [
        {
          "output_type": "stream",
          "name": "stdout",
          "text": [
            "0     5.000000\n",
            "1     6.403124\n",
            "2    10.440307\n",
            "3     5.000000\n",
            "4    10.049876\n",
            "5    15.132746\n",
            "6     7.071068\n",
            "7    16.155494\n",
            "8    21.189620\n",
            "dtype: float64\n",
            "\n",
            "\n",
            "1\n"
          ]
        }
      ]
    },
    {
      "cell_type": "markdown",
      "source": [
        "# **euclidean distance classifier implementation**\n",
        "\n",
        "\n"
      ],
      "metadata": {
        "id": "vUIoiOgh_GdV"
      }
    },
    {
      "cell_type": "code",
      "source": [
        "class EuclideanDistanceClassifier:\n",
        "    def __init__(self):\n",
        "        self.X_train = None\n",
        "        self.y_train = None\n",
        "\n",
        "    def fit(self, X_train, y_train):\n",
        "        self.X_train = X_train\n",
        "        self.y_train = y_train\n",
        "\n",
        "    def euclidean_distance(self, point,dataset):\n",
        "        distances = np.sqrt(np.sum((dataset - point) ** 2, axis=1))\n",
        "        return distances\n",
        "\n",
        "    def predict(self, X_test):\n",
        "        predictions = []\n",
        "        for point in X_test.to_numpy():\n",
        "            min_distance = float('inf')\n",
        "            min_distance_index = None\n",
        "            index = -1\n",
        "            distances = euclidean_distance(point, x_train)\n",
        "            print (f\"distances point {point} :\\n{distances} \\n\")\n",
        "            for dis in distances :\n",
        "              index+=1\n",
        "              if dis < min_distance:\n",
        "                min_distance = dis\n",
        "                min_distance_index = index\n",
        "            predicted_label = self.y_train[min_distance_index]\n",
        "            predictions.append(predicted_label)\n",
        "            print(f\"min distance for {point} : {min_distance} & exist in index : {min_distance_index} & the label of min distance : {predicted_label}\\n\")\n",
        "            print(\"--------------------------------------------------------------------------------------\")\n",
        "        return np.array(predictions)\n"
      ],
      "metadata": {
        "id": "nzS1gSWnvk6N"
      },
      "execution_count": 288,
      "outputs": []
    },
    {
      "cell_type": "code",
      "source": [
        "# Create and fit the classifier\n",
        "classifier = EuclideanDistanceClassifier()\n",
        "classifier.fit(x_train, y_train)"
      ],
      "metadata": {
        "id": "TEwY1_pqvgJ7"
      },
      "execution_count": 289,
      "outputs": []
    },
    {
      "cell_type": "code",
      "source": [
        "# Make predictions\n",
        "y_predict = classifier.predict(x_test)\n",
        "y_predict\n",
        "print(f\"the prediction is : {y_predict}\")"
      ],
      "metadata": {
        "colab": {
          "base_uri": "https://localhost:8080/"
        },
        "id": "PTSgMrEn1OOt",
        "outputId": "1fb35873-6133-4a3a-835c-4f2c3ef06bb4"
      },
      "execution_count": 290,
      "outputs": [
        {
          "output_type": "stream",
          "name": "stdout",
          "text": [
            "distances point [ 7. 10.] :\n",
            "0     5.000000\n",
            "1     6.403124\n",
            "2    10.440307\n",
            "3     5.000000\n",
            "4    10.049876\n",
            "5    15.132746\n",
            "6     7.071068\n",
            "7    16.155494\n",
            "8    21.189620\n",
            "dtype: float64 \n",
            "\n",
            "min distance for [ 7. 10.] : 5.0 & exist in index : 0 & the label of min distance : 1\n",
            "\n",
            "--------------------------------------------------------------------------------------\n",
            "distances point [12.5 20. ] :\n",
            "0    14.500000\n",
            "1    10.735455\n",
            "2     8.500000\n",
            "3     7.433034\n",
            "4     4.500000\n",
            "5     6.103278\n",
            "6     5.024938\n",
            "7     5.024938\n",
            "8    10.111874\n",
            "dtype: float64 \n",
            "\n",
            "min distance for [12.5 20. ] : 4.5 & exist in index : 4 & the label of min distance : 2\n",
            "\n",
            "--------------------------------------------------------------------------------------\n",
            "the prediction is : [1 2]\n"
          ]
        }
      ]
    },
    {
      "cell_type": "markdown",
      "source": [
        "**END**"
      ],
      "metadata": {
        "id": "uikP54tqBsBt"
      }
    },
    {
      "cell_type": "markdown",
      "source": [
        "# **absolute distance classifier implementation**\n",
        "\n",
        "\n"
      ],
      "metadata": {
        "id": "wx4YF-7ugG3V"
      }
    },
    {
      "cell_type": "code",
      "source": [
        "def euclidean_distance(point,dataset):\n",
        "  distances = np.sqrt(np.sum((dataset - point) ** 2, axis=1))\n",
        "  return distances\n",
        "\n",
        "\n",
        "def absolute_distance( point, dataset):\n",
        "    distances = np.sum(np.abs(dataset - point), axis=1)\n",
        "    return distances\n",
        "#-------------------------------------------------------------------------------\n",
        "#-------------------------------------------------------------------------------\n",
        "#-------------------------------------------------------------------------------\n",
        "\n",
        "def predict (x_test, dis_type):\n",
        "  predictions = []\n",
        "  for i in x_test.to_numpy():\n",
        "    # print(i,\"\\n\")\n",
        "    min_distance = float('inf')\n",
        "    min_distance_index = -1\n",
        "    index = -1\n",
        "\n",
        "\n",
        "    if (dis_type == 'euclidean_distance') :\n",
        "      distances = euclidean_distance(i,x_train)\n",
        "      print(f\"distances of {i} :\\n{distances}\\n\\n\")\n",
        "    elif (dis_type=='absolute_distance'):\n",
        "      distances = absolute_distance(i,x_train)\n",
        "      print(f\"distances of {i} :\\n{distances}\\n\\n\")\n",
        "    else :\n",
        "      print(\"error\")\n",
        "\n",
        "\n",
        "\n",
        "    for dis in distances :\n",
        "      index +=1\n",
        "      if dis < min_distance :\n",
        "        min_distance = dis\n",
        "        min_distance_index = index\n",
        "    predicted_label = y_train[min_distance_index]\n",
        "    predictions.append(predicted_label)\n",
        "    print(f\"min distance for {i} : {min_distance} & exist in index : {min_distance_index} & the label of min distance : {predicted_label}\")\n",
        "  print (f\"predictions : \")\n",
        "  return predictions\n",
        "\n",
        "predict(x_test,'absolute_distance')"
      ],
      "metadata": {
        "id": "-zva1cGpmSno",
        "outputId": "d2eb3ec2-1286-478b-dd95-ce50406cf2e7",
        "colab": {
          "base_uri": "https://localhost:8080/"
        }
      },
      "execution_count": 320,
      "outputs": [
        {
          "output_type": "stream",
          "name": "stdout",
          "text": [
            "distances of [ 7. 10.] :\n",
            "0     5.0\n",
            "1     9.0\n",
            "2    13.0\n",
            "3     5.0\n",
            "4    11.0\n",
            "5    17.0\n",
            "6    10.0\n",
            "7    21.0\n",
            "8    27.0\n",
            "dtype: float64\n",
            "\n",
            "\n",
            "min distance for [ 7. 10.] : 5.0 & exist in index : 0 & the label of min distance : 1\n",
            "distances of [12.5 20. ] :\n",
            "0    20.5\n",
            "1    14.5\n",
            "2     8.5\n",
            "3    10.5\n",
            "4     4.5\n",
            "5     8.5\n",
            "6     5.5\n",
            "7     5.5\n",
            "8    11.5\n",
            "dtype: float64\n",
            "\n",
            "\n",
            "min distance for [12.5 20. ] : 4.5 & exist in index : 4 & the label of min distance : 2\n",
            "predictions : \n"
          ]
        },
        {
          "output_type": "execute_result",
          "data": {
            "text/plain": [
              "[1, 2]"
            ]
          },
          "metadata": {},
          "execution_count": 320
        }
      ]
    },
    {
      "cell_type": "code",
      "source": [],
      "metadata": {
        "id": "mEjSMLoGozn_"
      },
      "execution_count": 297,
      "outputs": []
    },
    {
      "cell_type": "code",
      "source": [
        "class MinDistanceClassifier:\n",
        "    def __init__(self, distance_type):\n",
        "        self.X_train = None\n",
        "        self.y_train = None\n",
        "        self.distance_type = distance_type\n",
        "\n",
        "    def fit(self, X_train, y_train):\n",
        "        self.X_train = X_train\n",
        "        self.y_train = y_train\n",
        "\n",
        "    def euclidean_distance(self, point, dataset):\n",
        "        distances = np.sum((dataset - point) ** 2, axis=1)\n",
        "        return distances\n",
        "\n",
        "    def absolute_distance(self, point, dataset):\n",
        "        distances = np.sum(np.abs(dataset - point), axis=1)\n",
        "        return distances\n",
        "\n",
        "    def predict(self, X_test):\n",
        "        predictions = []\n",
        "        for point in X_test.to_numpy():\n",
        "            min_distance = float('inf')\n",
        "            min_distance_index = None\n",
        "            index = -1\n",
        "\n",
        "            # Calculate distances from x_test to all training samples\n",
        "            if self.distance_type == 'euclidean':\n",
        "                distances = self.euclidean_distance(point, self.X_train)\n",
        "                print (f\"distances point {point} :\\n{distances} \\n\")\n",
        "            elif self.distance_type == 'absolute':\n",
        "                distances = self.absolute_distance(point, self.X_train)\n",
        "                print (f\"distances point {point} :\\n{distances} \\n\")\n",
        "            else:\n",
        "                raise ValueError(\"Invalid distance type. Choose 'euclidean' or 'absolute'.\")\n",
        "\n",
        "            for dis in distances:\n",
        "                index += 1\n",
        "                if dis < min_distance:\n",
        "                    min_distance = dis\n",
        "                    min_distance_index = index\n",
        "\n",
        "            # print (f\"min distance is : {min_distance} belong to class {y_train[min_distance_index]}\\n\")\n",
        "            # Predict the class label of the nearest neighbor\n",
        "            predicted_label = self.y_train[min_distance_index]\n",
        "            predictions.append(predicted_label)\n",
        "            print(f\"min distance for {point} : {min_distance} & exist in index : {min_distance_index} & the label of min distance : {predicted_label}\\n\")\n",
        "            print(\"--------------------------------------------------------------------------------------\")\n",
        "        return np.array(predictions)\n"
      ],
      "metadata": {
        "id": "gnGJ_FH2chke"
      },
      "execution_count": 321,
      "outputs": []
    },
    {
      "cell_type": "code",
      "source": [
        "# Create and fit the classifier\n",
        "classifier1 = MinDistanceClassifier('absolute')\n",
        "classifier1.fit(x_train, y_train)\n",
        "\n",
        "\n",
        "\n",
        "classifier2 = MinDistanceClassifier('euclidean')\n",
        "classifier2.fit(x_train, y_train)"
      ],
      "metadata": {
        "id": "V-qAO10XdVQA"
      },
      "execution_count": 322,
      "outputs": []
    },
    {
      "cell_type": "code",
      "source": [
        "# Make predictions\n",
        "y_predict = classifier1.predict(x_test)\n",
        "# y_predict\n",
        "print(f\"the prediction is : {y_predict}\\n\")\n",
        "print(\"************************************************************************************************************************\\n\")\n",
        "print(\"************************************************************************************************************************\\n\")\n",
        "print(\"************************************************************************************************************************\\n\")\n",
        "\n",
        "# Make predictions\n",
        "y_predict = classifier2.predict(x_test)\n",
        "# y_predict\n",
        "print(f\"the prediction is : {y_predict}\")"
      ],
      "metadata": {
        "colab": {
          "base_uri": "https://localhost:8080/"
        },
        "id": "s5UH0kIudab8",
        "outputId": "b83ee49a-1ea2-46d6-82ae-d9b77339aaa8"
      },
      "execution_count": 323,
      "outputs": [
        {
          "output_type": "stream",
          "name": "stdout",
          "text": [
            "distances point [ 7. 10.] :\n",
            "0     5.0\n",
            "1     9.0\n",
            "2    13.0\n",
            "3     5.0\n",
            "4    11.0\n",
            "5    17.0\n",
            "6    10.0\n",
            "7    21.0\n",
            "8    27.0\n",
            "dtype: float64 \n",
            "\n",
            "min distance for [ 7. 10.] : 5.0 & exist in index : 0 & the label of min distance : 1\n",
            "\n",
            "--------------------------------------------------------------------------------------\n",
            "distances point [12.5 20. ] :\n",
            "0    20.5\n",
            "1    14.5\n",
            "2     8.5\n",
            "3    10.5\n",
            "4     4.5\n",
            "5     8.5\n",
            "6     5.5\n",
            "7     5.5\n",
            "8    11.5\n",
            "dtype: float64 \n",
            "\n",
            "min distance for [12.5 20. ] : 4.5 & exist in index : 4 & the label of min distance : 2\n",
            "\n",
            "--------------------------------------------------------------------------------------\n",
            "the prediction is : [1 2]\n",
            "\n",
            "************************************************************************************************************************\n",
            "\n",
            "************************************************************************************************************************\n",
            "\n",
            "************************************************************************************************************************\n",
            "\n",
            "distances point [ 7. 10.] :\n",
            "0     25.0\n",
            "1     41.0\n",
            "2    109.0\n",
            "3     25.0\n",
            "4    101.0\n",
            "5    229.0\n",
            "6     50.0\n",
            "7    261.0\n",
            "8    449.0\n",
            "dtype: float64 \n",
            "\n",
            "min distance for [ 7. 10.] : 25.0 & exist in index : 0 & the label of min distance : 1\n",
            "\n",
            "--------------------------------------------------------------------------------------\n",
            "distances point [12.5 20. ] :\n",
            "0    210.25\n",
            "1    115.25\n",
            "2     72.25\n",
            "3     55.25\n",
            "4     20.25\n",
            "5     37.25\n",
            "6     25.25\n",
            "7     25.25\n",
            "8    102.25\n",
            "dtype: float64 \n",
            "\n",
            "min distance for [12.5 20. ] : 20.25 & exist in index : 4 & the label of min distance : 2\n",
            "\n",
            "--------------------------------------------------------------------------------------\n",
            "the prediction is : [1 2]\n"
          ]
        }
      ]
    },
    {
      "cell_type": "code",
      "source": [],
      "metadata": {
        "id": "MPUUfISLdcxx"
      },
      "execution_count": 294,
      "outputs": []
    },
    {
      "cell_type": "markdown",
      "source": [
        "**END**"
      ],
      "metadata": {
        "id": "MtpD5RvfulQV"
      }
    },
    {
      "cell_type": "markdown",
      "source": [
        "# **Cosine Similarity classifier implementation**\n"
      ],
      "metadata": {
        "id": "JsxPi8P6ulI6"
      }
    },
    {
      "cell_type": "code",
      "source": [
        "def euclidean_distance(point,dataset):\n",
        "  distances = np.sqrt(np.sum((dataset - point) ** 2, axis=1))\n",
        "  return distances\n",
        "\n",
        "for i in x_test.to_numpy():\n",
        "  distances = euclidean_distance(i,x_train)\n",
        "  print(distances)\n",
        "  print(f\"type of function return  :{type(distances)}\")  #series\n",
        "\n",
        "print(\"********************************************************************************************************************\")\n",
        "\n",
        "def absolute_distance( point, dataset):\n",
        "    distances = np.sum(np.abs(dataset - point), axis=1)\n",
        "    return distances\n",
        "\n",
        "for i in x_test.to_numpy():\n",
        "  distances = absolute_distance(i,x_train)\n",
        "  print(distances)\n",
        "  print(f\"type of function return  :{type(distances)}\")  #series\n",
        "\n",
        "\n",
        "print(\"********************************************************************************************************************\")\n",
        "def cosine_similarity( point, dataset):\n",
        "    dot_product = np.dot(dataset, point)\n",
        "    dataset_norm = np.linalg.norm(dataset, axis=1)\n",
        "    point_norm = np.linalg.norm(point)\n",
        "    cosine_sim = dot_product / (dataset_norm * point_norm)\n",
        "    return ( 1 - cosine_sim)  # Convert cosine similarity to distance to take the min not max\n",
        "\n",
        "\n",
        "for i in x_test.to_numpy():\n",
        "  distances = cosine_similarity(i,x_train)\n",
        "  print(distances)\n",
        "  print(f\"type of function return  :{type(distances)}\")  #numpy.ndarray\n",
        "\n",
        "\n",
        "\n",
        "\n",
        "print(\"********************************************************************************************************************\")\n",
        "def cosine_similarity( point, dataset):\n",
        "    dot_product = np.dot(dataset, point)\n",
        "    dataset_norm = np.linalg.norm(dataset, axis=1)\n",
        "    point_norm = np.linalg.norm(point)\n",
        "    cosine_sim = dot_product / (dataset_norm * point_norm)\n",
        "    return pd.Series( 1 - cosine_sim)  # Convert cosine similarity to distance to take the min not max\n",
        "\n",
        "\n",
        "for i in x_test.to_numpy():\n",
        "  distances = cosine_similarity(i,x_train)\n",
        "  print(distances)\n",
        "  print(f\"type of function return  :{type(distances)}\")  #numpy.ndarray"
      ],
      "metadata": {
        "id": "RGgaDdbn1bav",
        "outputId": "164ad9a0-2c8c-4e02-aa9f-09c78bb114dd",
        "colab": {
          "base_uri": "https://localhost:8080/"
        }
      },
      "execution_count": 367,
      "outputs": [
        {
          "output_type": "stream",
          "name": "stdout",
          "text": [
            "0     5.000000\n",
            "1     6.403124\n",
            "2    10.440307\n",
            "3     5.000000\n",
            "4    10.049876\n",
            "5    15.132746\n",
            "6     7.071068\n",
            "7    16.155494\n",
            "8    21.189620\n",
            "dtype: float64\n",
            "type of function return  :<class 'pandas.core.series.Series'>\n",
            "0    14.500000\n",
            "1    10.735455\n",
            "2     8.500000\n",
            "3     7.433034\n",
            "4     4.500000\n",
            "5     6.103278\n",
            "6     5.024938\n",
            "7     5.024938\n",
            "8    10.111874\n",
            "dtype: float64\n",
            "type of function return  :<class 'pandas.core.series.Series'>\n",
            "********************************************************************************************************************\n",
            "0     5.0\n",
            "1     9.0\n",
            "2    13.0\n",
            "3     5.0\n",
            "4    11.0\n",
            "5    17.0\n",
            "6    10.0\n",
            "7    21.0\n",
            "8    27.0\n",
            "dtype: float64\n",
            "type of function return  :<class 'pandas.core.series.Series'>\n",
            "0    20.5\n",
            "1    14.5\n",
            "2     8.5\n",
            "3    10.5\n",
            "4     4.5\n",
            "5     8.5\n",
            "6     5.5\n",
            "7     5.5\n",
            "8    11.5\n",
            "dtype: float64\n",
            "type of function return  :<class 'pandas.core.series.Series'>\n",
            "********************************************************************************************************************\n",
            "[0.08421179 0.08421179 0.08421179 0.01511696 0.02638369 0.03495214\n",
            " 0.00204826 0.00859525 0.01511696]\n",
            "type of function return  :<class 'numpy.ndarray'>\n",
            "[0.06452791 0.06452791 0.06452791 0.00742939 0.01581668 0.02260811\n",
            " 0.00673686 0.0031252  0.00742939]\n",
            "type of function return  :<class 'numpy.ndarray'>\n",
            "********************************************************************************************************************\n",
            "0    0.084212\n",
            "1    0.084212\n",
            "2    0.084212\n",
            "3    0.015117\n",
            "4    0.026384\n",
            "5    0.034952\n",
            "6    0.002048\n",
            "7    0.008595\n",
            "8    0.015117\n",
            "dtype: float64\n",
            "type of function return  :<class 'pandas.core.series.Series'>\n",
            "0    0.064528\n",
            "1    0.064528\n",
            "2    0.064528\n",
            "3    0.007429\n",
            "4    0.015817\n",
            "5    0.022608\n",
            "6    0.006737\n",
            "7    0.003125\n",
            "8    0.007429\n",
            "dtype: float64\n",
            "type of function return  :<class 'pandas.core.series.Series'>\n"
          ]
        }
      ]
    },
    {
      "cell_type": "code",
      "source": [
        "def euclidean_distance(point,dataset):\n",
        "  distances = np.sqrt(np.sum((dataset - point) ** 2, axis=1))\n",
        "  return distances\n",
        "\n",
        "\n",
        "def absolute_distance( point, dataset):\n",
        "    distances = np.sum(np.abs(dataset - point), axis=1)\n",
        "    return distances\n",
        "\n",
        "\n",
        "def cosine_similarity( point, dataset):\n",
        "    dot_product = np.dot(dataset, point)\n",
        "    dataset_norm = np.linalg.norm(dataset, axis=1)\n",
        "    point_norm = np.linalg.norm(point)\n",
        "    cosine_sim = dot_product / (dataset_norm * point_norm)\n",
        "    return pd.Series( 1 - cosine_sim)  # Convert cosine similarity to distance to take the min not max\n",
        "#-------------------------------------------------------------------------------\n",
        "#-------------------------------------------------------------------------------\n",
        "#-------------------------------------------------------------------------------\n",
        "\n",
        "def predict( X_test,distance_type):\n",
        "  predictions = []\n",
        "  for point in X_test.to_numpy():\n",
        "      min_distance = float('inf')\n",
        "      min_distance_index = None\n",
        "      index = -1\n",
        "\n",
        "      # Calculate distances from x_test to all training samples\n",
        "      if distance_type == 'euclidean':\n",
        "          distances = euclidean_distance(point, x_train)\n",
        "          print (f\"distances point {point} :\\n{distances} \\n\")\n",
        "      elif distance_type == 'absolute':\n",
        "          distances = absolute_distance(point, x_train)\n",
        "          print (f\"distances point {point} :\\n{distances} \\n\")\n",
        "      elif distance_type == 'cosine':\n",
        "          distances = cosine_similarity(point, x_train)\n",
        "          print (f\"distances point {point} :\\n{distances} \\n\")\n",
        "      else:\n",
        "          raise ValueError(\"Invalid distance type. Choose 'euclidean' or 'absolute'.\")\n",
        "      # print(f\"distances : {distances}\")\n",
        "      for dis in distances:\n",
        "\n",
        "          index += 1\n",
        "          if dis < min_distance:\n",
        "              min_distance = dis\n",
        "              min_distance_index = index\n",
        "\n",
        "      # print (f\"min distance is : {min_distance} belong to class {y_train[min_distance_index]}\\n\")\n",
        "      # Predict the class label of the nearest neighbor\n",
        "      predicted_label = y_train[min_distance_index]\n",
        "      predictions.append(predicted_label)\n",
        "      print(f\"min distance for {point} : {min_distance} & exist in index : {min_distance_index} & the label of min distance : {predicted_label}\\n\")\n",
        "      print(\"--------------------------------------------------------------------------------------\")\n",
        "  return np.array(predictions)\n",
        "\n",
        "predict(x_test,'cosine')"
      ],
      "metadata": {
        "id": "Z3BFaEukpjmL",
        "outputId": "f8400334-5a50-4bbd-d47b-f3e7b526732e",
        "colab": {
          "base_uri": "https://localhost:8080/"
        }
      },
      "execution_count": 368,
      "outputs": [
        {
          "output_type": "stream",
          "name": "stdout",
          "text": [
            "distances point [ 7. 10.] :\n",
            "0    0.084212\n",
            "1    0.084212\n",
            "2    0.084212\n",
            "3    0.015117\n",
            "4    0.026384\n",
            "5    0.034952\n",
            "6    0.002048\n",
            "7    0.008595\n",
            "8    0.015117\n",
            "dtype: float64 \n",
            "\n",
            "min distance for [ 7. 10.] : 0.002048259083848536 & exist in index : 6 & the label of min distance : 3\n",
            "\n",
            "--------------------------------------------------------------------------------------\n",
            "distances point [12.5 20. ] :\n",
            "0    0.064528\n",
            "1    0.064528\n",
            "2    0.064528\n",
            "3    0.007429\n",
            "4    0.015817\n",
            "5    0.022608\n",
            "6    0.006737\n",
            "7    0.003125\n",
            "8    0.007429\n",
            "dtype: float64 \n",
            "\n",
            "min distance for [12.5 20. ] : 0.0031251958804234814 & exist in index : 7 & the label of min distance : 3\n",
            "\n",
            "--------------------------------------------------------------------------------------\n"
          ]
        },
        {
          "output_type": "execute_result",
          "data": {
            "text/plain": [
              "array([3, 3])"
            ]
          },
          "metadata": {},
          "execution_count": 368
        }
      ]
    },
    {
      "cell_type": "code",
      "source": [
        "y_train"
      ],
      "metadata": {
        "id": "yTlfR55qpjY6",
        "outputId": "e0a9c8f8-068e-4300-bec2-4dc9f5c6c3ec",
        "colab": {
          "base_uri": "https://localhost:8080/"
        }
      },
      "execution_count": 312,
      "outputs": [
        {
          "output_type": "execute_result",
          "data": {
            "text/plain": [
              "0    1\n",
              "1    1\n",
              "2    1\n",
              "3    2\n",
              "4    2\n",
              "5    2\n",
              "6    3\n",
              "7    3\n",
              "8    3\n",
              "Name: Class, dtype: int64"
            ]
          },
          "metadata": {},
          "execution_count": 312
        }
      ]
    },
    {
      "cell_type": "code",
      "source": [
        "import numpy as np\n",
        "\n",
        "class NearestNeighbor:\n",
        "    def __init__(self, distance_type = 'euclidean'):\n",
        "        self.X_train = None\n",
        "        self.y_train = None\n",
        "        self.distance_type = distance_type\n",
        "\n",
        "    def fit(self, X_train, y_train):\n",
        "        self.X_train = X_train\n",
        "        self.y_train = y_train\n",
        "\n",
        "    def euclidean_distance(self, point, dataset):\n",
        "        distances = np.sqrt(np.sum((dataset - point) ** 2, axis=1))\n",
        "        return distances\n",
        "\n",
        "    def absolute_distance(self, point, dataset):\n",
        "        distances = np.sum(np.abs(dataset - point), axis=1)\n",
        "        return distances\n",
        "\n",
        "    def cosine_similarity(self, point, dataset):\n",
        "        dot_product = np.dot(dataset, point)\n",
        "        dataset_norm = np.linalg.norm(dataset, axis=1)\n",
        "        point_norm = np.linalg.norm(point)\n",
        "        cosine_sim = dot_product / (dataset_norm * point_norm)\n",
        "        return pd.Series(1 - cosine_sim)  # Convert cosine similarity to distance to take the min not max\n",
        "\n",
        "    def predict(self, X_test):\n",
        "        predictions = []\n",
        "        for point in X_test.to_numpy():\n",
        "            # Initialize minimum distance and index\n",
        "            min_distance = float('inf')\n",
        "            min_distance_index = None\n",
        "            index = -1\n",
        "\n",
        "            # Calculate distances from x_test to all training samples\n",
        "            if self.distance_type == 'euclidean':\n",
        "                distances = self.euclidean_distance(point, self.X_train)\n",
        "            elif self.distance_type == 'absolute':\n",
        "                distances = self.absolute_distance(point, self.X_train)\n",
        "            elif self.distance_type == 'cosine':\n",
        "                distances = self.cosine_similarity(point, self.X_train)\n",
        "                print (f\"distances point {point} :\\n{(distances)} \\n\")\n",
        "            else:\n",
        "                raise ValueError(\"Invalid distance type. Choose 'euclidean', 'absolute', or 'cosine'.\")\n",
        "\n",
        "\n",
        "\n",
        "            for dis in distances:\n",
        "                index += 1\n",
        "                if dis < min_distance:\n",
        "                    min_distance = dis\n",
        "                    min_distance_index = index\n",
        "\n",
        "            # Predict the class label of the nearest neighbor\n",
        "            predicted_label = self.y_train[min_distance_index]\n",
        "            predictions.append(predicted_label)\n",
        "            print(f\"min distance for {point} : {min_distance} & exist in index : {min_distance_index} & the label of min distance : {predicted_label}\\n\\n\")\n",
        "        print (f\"predictions : \")\n",
        "        return np.array(predictions)\n"
      ],
      "metadata": {
        "id": "r8ICfZ3ZuyhR"
      },
      "execution_count": 371,
      "outputs": []
    },
    {
      "cell_type": "code",
      "source": [
        "# Create and fit the classifier\n",
        "classifier = NearestNeighbor('cosine')\n",
        "classifier.fit(x_train, y_train)\n",
        "# Make predictions\n",
        "y_predict = classifier.predict(x_test)\n",
        "y_predict\n",
        "print(f\"the prediction is : {y_predict}\")"
      ],
      "metadata": {
        "id": "KKbH8RuCwNy6",
        "colab": {
          "base_uri": "https://localhost:8080/"
        },
        "outputId": "8c0e0021-7ec7-45f9-ed1e-878f044b3737"
      },
      "execution_count": 372,
      "outputs": [
        {
          "output_type": "stream",
          "name": "stdout",
          "text": [
            "distances point [ 7. 10.] :\n",
            "0    0.084212\n",
            "1    0.084212\n",
            "2    0.084212\n",
            "3    0.015117\n",
            "4    0.026384\n",
            "5    0.034952\n",
            "6    0.002048\n",
            "7    0.008595\n",
            "8    0.015117\n",
            "dtype: float64 \n",
            "\n",
            "min distance for [ 7. 10.] : 0.002048259083848536 & exist in index : 6 & the label of min distance : 3\n",
            "\n",
            "\n",
            "distances point [12.5 20. ] :\n",
            "0    0.064528\n",
            "1    0.064528\n",
            "2    0.064528\n",
            "3    0.007429\n",
            "4    0.015817\n",
            "5    0.022608\n",
            "6    0.006737\n",
            "7    0.003125\n",
            "8    0.007429\n",
            "dtype: float64 \n",
            "\n",
            "min distance for [12.5 20. ] : 0.0031251958804234814 & exist in index : 7 & the label of min distance : 3\n",
            "\n",
            "\n",
            "predictions : \n",
            "the prediction is : [3 3]\n"
          ]
        }
      ]
    },
    {
      "cell_type": "code",
      "source": [],
      "metadata": {
        "id": "CJcTMQz4dC9l"
      },
      "execution_count": 338,
      "outputs": []
    },
    {
      "cell_type": "markdown",
      "source": [
        "**END**"
      ],
      "metadata": {
        "id": "uJQpDmd0whdj"
      }
    },
    {
      "cell_type": "markdown",
      "source": [
        "# **KNN**"
      ],
      "metadata": {
        "id": "8jjFf0zbQDtQ"
      }
    },
    {
      "cell_type": "code",
      "source": [
        "def euclidean_distance(point,dataset):\n",
        "  distances = np.sqrt(np.sum((dataset - point) ** 2, axis=1))\n",
        "  return distances\n",
        "\n",
        "for i in x_test.to_numpy():\n",
        "  distances = euclidean_distance(i,x_train)\n",
        "  print(distances)\n",
        "  print(f\"type of function return  :{type(distances)}\")  #series\n",
        "\n",
        "print(\"********************************************************************************************************************\")\n",
        "\n",
        "def absolute_distance( point, dataset):\n",
        "    distances = np.sum(np.abs(dataset - point), axis=1)\n",
        "    return distances\n",
        "\n",
        "for i in x_test.to_numpy():\n",
        "  distances = absolute_distance(i,x_train)\n",
        "  print(distances)\n",
        "  print(f\"type of function return  :{type(distances)}\")  #series\n",
        "\n",
        "\n",
        "print(\"********************************************************************************************************************\")\n",
        "def cosine_similarity( point, dataset):\n",
        "    dot_product = np.dot(dataset, point)\n",
        "    dataset_norm = np.linalg.norm(dataset, axis=1)\n",
        "    point_norm = np.linalg.norm(point)\n",
        "    cosine_sim = dot_product / (dataset_norm * point_norm)\n",
        "    return ( 1 - cosine_sim)  # Convert cosine similarity to distance to take the min not max\n",
        "\n",
        "\n",
        "for i in x_test.to_numpy():\n",
        "  distances = cosine_similarity(i,x_train)\n",
        "  print(distances)\n",
        "  print(f\"type of function return  :{type(distances)}\")  #numpy.ndarray\n",
        "\n",
        "\n",
        "\n",
        "\n",
        "print(\"********************************************************************************************************************\")\n",
        "def cosine_similarity( point, dataset):\n",
        "    dot_product = np.dot(dataset, point)\n",
        "    dataset_norm = np.linalg.norm(dataset, axis=1)\n",
        "    point_norm = np.linalg.norm(point)\n",
        "    cosine_sim = dot_product / (dataset_norm * point_norm)\n",
        "    return pd.Series( 1 - cosine_sim)  # Convert cosine similarity to distance to take the min not max\n",
        "\n",
        "\n",
        "for i in x_test.to_numpy():\n",
        "  distances = cosine_similarity(i,x_train)\n",
        "  print(distances)\n",
        "  print(f\"type of function return  :{type(distances)}\")  #numpy.ndarray"
      ],
      "metadata": {
        "id": "ow-KlG8V19JL"
      },
      "execution_count": null,
      "outputs": []
    },
    {
      "cell_type": "code",
      "source": [
        "class KNNClassifier(NearestNeighbor):\n",
        "    def __init__(self, k=1, distance_type='euclidean'):\n",
        "        super().__init__(distance_type=distance_type)\n",
        "        self.k = k\n",
        "\n",
        "    def predict(self, X_test):\n",
        "        predictions = []\n",
        "        for point in X_test.to_numpy():\n",
        "            # Calculate distances from x_test to all training samples\n",
        "            if self.distance_type == 'euclidean':\n",
        "                distances = self.euclidean_distance(point, self.X_train)\n",
        "            elif self.distance_type == 'absolute':\n",
        "                distances = self.absolute_distance(point, self.X_train)\n",
        "            elif self.distance_type == 'cosine':\n",
        "                distances = self.cosine_similarity(point, self.X_train)\n",
        "            else:\n",
        "                raise ValueError(\"Invalid distance type. Choose 'euclidean', 'absolute', or 'cosine'.\")\n",
        "\n",
        "            # Get indices of k nearest neighbors\n",
        "            nearest_neighbor_indices = np.argsort(distances)[:self.k]\n",
        "\n",
        "            # Get labels of k nearest neighbors\n",
        "            nearest_neighbor_labels = self.y_train[nearest_neighbor_indices]\n",
        "\n",
        "            # Perform majority vote\n",
        "            predicted_label = np.bincount(nearest_neighbor_labels).argmax()\n",
        "            predictions.append(predicted_label)\n",
        "        return np.array(predictions)\n"
      ],
      "metadata": {
        "id": "fJhKQHzWwW2U"
      },
      "execution_count": null,
      "outputs": []
    },
    {
      "cell_type": "code",
      "source": [
        "# Create and fit the classifier\n",
        "classifier = KNNClassifier('absolute')\n",
        "classifier.fit(x_train, y_train)\n",
        "\n",
        "\n",
        "\n",
        "# Make predictions\n",
        "y_predict = classifier.predict(x_test)\n",
        "# y_predict\n",
        "# print(f\"the prediction is : {y_predict}\")"
      ],
      "metadata": {
        "id": "-Ij7cz8lVCLo"
      },
      "execution_count": null,
      "outputs": []
    },
    {
      "cell_type": "code",
      "source": [],
      "metadata": {
        "id": "2fr8hoo8VCGE"
      },
      "execution_count": null,
      "outputs": []
    },
    {
      "cell_type": "code",
      "source": [
        "def euclidean_distance(point, dataset):\n",
        "    distances = np.sqrt(np.sum((dataset - point) ** 2, axis=1))\n",
        "    return distances\n",
        "\n",
        "for i in x_test :\n",
        "  # distances = [euclidean_distance(i , x_train)]\n",
        "  distances = euclidean_distance(i, x_train)\n",
        "  distances"
      ],
      "metadata": {
        "id": "lCmJp9G6VCDt"
      },
      "execution_count": null,
      "outputs": []
    },
    {
      "cell_type": "code",
      "source": [],
      "metadata": {
        "id": "I0rDkHRjaXCJ"
      },
      "execution_count": null,
      "outputs": []
    },
    {
      "cell_type": "code",
      "source": [
        "distances = [[10.0], [9.0], [13.0], [5.0], [11.0]]\n",
        "y_train   = [[1], [3], [3], [3], [1]]\n",
        "# Convert the distances to a NumPy array\n",
        "distances_array = np.array(distances)\n",
        "y_train_array = np.array(y_train)\n",
        "\n"
      ],
      "metadata": {
        "id": "kF-aSuq0SCDJ"
      },
      "execution_count": null,
      "outputs": []
    },
    {
      "cell_type": "code",
      "source": [
        "# Get the indices of the nearest neighbors\n",
        "nearest_neighbor_indices = np.argsort(distances_array, axis=0)[:3]\n",
        "print(nearest_neighbor_indices)"
      ],
      "metadata": {
        "id": "cJhhSOBwThUy"
      },
      "execution_count": null,
      "outputs": []
    },
    {
      "cell_type": "code",
      "source": [
        "# Get the labels of the nearest neighbors\n",
        "nearest_neighbor_labels = y_train_array[nearest_neighbor_indices].flatten() # .flaten ()  used to return a copy of a given array in such a way that it is collapsed into one dimension.\n",
        "\n",
        "# Predict the label based on the majority vote\n",
        "predicted_label = np.bincount(nearest_neighbor_labels).argmax()\n",
        "\n",
        "print(\"Predicted label:\", predicted_label)\n"
      ],
      "metadata": {
        "id": "qS_WcLe2Rdj_"
      },
      "execution_count": null,
      "outputs": []
    },
    {
      "cell_type": "code",
      "source": [
        "import numpy as np\n",
        "# creating an input array\n",
        "myarray = np.array([[1], [3], [10], [3], [1]])\n",
        "\n",
        "# to flatten the array in F-order\n",
        "print(myarray.flatten('F'))"
      ],
      "metadata": {
        "id": "MbTgGtcWR2zF"
      },
      "execution_count": null,
      "outputs": []
    },
    {
      "cell_type": "code",
      "source": [],
      "metadata": {
        "id": "dcQkf-77Uhxf"
      },
      "execution_count": null,
      "outputs": []
    }
  ]
}