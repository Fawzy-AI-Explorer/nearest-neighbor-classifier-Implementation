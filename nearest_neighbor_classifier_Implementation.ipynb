{
  "nbformat": 4,
  "nbformat_minor": 0,
  "metadata": {
    "colab": {
      "provenance": [],
      "authorship_tag": "ABX9TyOF43FFR7g8HhSNaKCfrm3R",
      "include_colab_link": true
    },
    "kernelspec": {
      "name": "python3",
      "display_name": "Python 3"
    },
    "language_info": {
      "name": "python"
    }
  },
  "cells": [
    {
      "cell_type": "markdown",
      "metadata": {
        "id": "view-in-github",
        "colab_type": "text"
      },
      "source": [
        "<a href=\"https://colab.research.google.com/github/Fawzy-AI-Explorer/nearest-neighbor-classifier-Implementation/blob/main/nearest_neighbor_classifier_Implementation.ipynb\" target=\"_parent\"><img src=\"https://colab.research.google.com/assets/colab-badge.svg\" alt=\"Open In Colab\"/></a>"
      ]
    },
    {
      "cell_type": "markdown",
      "source": [
        "**I will implement Nearest Neighbor classifier**\n",
        "\n",
        "\n",
        "1.   Euclidean distance classifier .\n",
        "2.   Absolute distance classifier.\n",
        "3.   Cosine Similarity.\n",
        "4.   K-Nearest Neighbors (KNN) classifier using the Euclidean Distance Classifier .  \n",
        "\n",
        "\n",
        "\n",
        "---\n",
        "---\n",
        "---\n",
        "\n",
        "\n"
      ],
      "metadata": {
        "id": "JHppGGpNBuln"
      }
    },
    {
      "cell_type": "markdown",
      "source": [
        "***First : Euclidean Distance classifier .***"
      ],
      "metadata": {
        "id": "uRLaXOQRDslP"
      }
    },
    {
      "cell_type": "markdown",
      "source": [
        "\n",
        "# **import libraries**\n",
        "\n"
      ],
      "metadata": {
        "id": "YitSEfcSvjtS"
      }
    },
    {
      "cell_type": "code",
      "execution_count": 3,
      "metadata": {
        "id": "fk1xr_KwuBP-"
      },
      "outputs": [],
      "source": [
        "import numpy as np\n",
        "import pandas as pd"
      ]
    },
    {
      "cell_type": "markdown",
      "source": [
        "# **Generate Data**"
      ],
      "metadata": {
        "id": "fGMEvhDZ98D_"
      }
    },
    {
      "cell_type": "code",
      "source": [
        "# Define the feature values for each sample\n",
        "X = np.array([\n",
        "    [ 2  , 10 ],  # Sample 1\n",
        "    [ 3  , 15 ],  # Sample 2\n",
        "    [ 4  , 20 ],  # Sample 3\n",
        "    [ 7  , 15 ],  # Sample 4\n",
        "    [ 8  , 20 ],  # Sample 5\n",
        "    [ 9  , 25 ],  # Sample 6\n",
        "    [ 12 , 15 ],  # Sample 7\n",
        "    [ 13 , 25 ],  # Sample 8\n",
        "    [ 14 , 30 ],  # Sample 9\n",
        "    [ 7  , 10 ],  # Sample 10\n",
        "    [12.5, 20 ],  # Sample 11\n",
        "])\n",
        "\n",
        "# Define the class labels for each sample (0 or 1 for binary classification)\n",
        "y = np.array ( [ 1 , 1 , 1 , 2 , 2 , 2 , 3 , 3 , 3 , 0 , 0 ] )\n",
        "\n",
        "# Convert the NumPy arrays into a pandas DataFrame\n",
        "df = pd.DataFrame(X, columns=['Feature1', 'Feature2'])\n",
        "df['Class'] = y\n",
        "\n",
        "\n",
        "\n",
        "\n",
        "# Convert the NumPy arrays into a pandas DataFrame\n",
        "df = pd.DataFrame(X, columns=['Feature1', 'Feature2'])\n",
        "df['Class'] = y\n",
        "\n",
        "# Display the DataFrame\n",
        "print(\"DataFrame:\")\n",
        "print(df)"
      ],
      "metadata": {
        "colab": {
          "base_uri": "https://localhost:8080/"
        },
        "id": "H_VAOyoluG-F",
        "outputId": "b7ea77bc-4373-41a8-b629-33a61ba1e17a"
      },
      "execution_count": 4,
      "outputs": [
        {
          "output_type": "stream",
          "name": "stdout",
          "text": [
            "DataFrame:\n",
            "    Feature1  Feature2  Class\n",
            "0        2.0      10.0      1\n",
            "1        3.0      15.0      1\n",
            "2        4.0      20.0      1\n",
            "3        7.0      15.0      2\n",
            "4        8.0      20.0      2\n",
            "5        9.0      25.0      2\n",
            "6       12.0      15.0      3\n",
            "7       13.0      25.0      3\n",
            "8       14.0      30.0      3\n",
            "9        7.0      10.0      0\n",
            "10      12.5      20.0      0\n"
          ]
        }
      ]
    },
    {
      "cell_type": "markdown",
      "source": [
        "# **Separating target and features**"
      ],
      "metadata": {
        "id": "c9kPw1pu-Lc_"
      }
    },
    {
      "cell_type": "code",
      "source": [
        "x = df.drop(columns=\"Class\")\n",
        "y = df[\"Class\"]"
      ],
      "metadata": {
        "id": "AQZOt_tkx-55"
      },
      "execution_count": 5,
      "outputs": []
    },
    {
      "cell_type": "markdown",
      "source": [
        "# **Train Test Split**\n"
      ],
      "metadata": {
        "id": "XrYGxk-W-3YI"
      }
    },
    {
      "cell_type": "code",
      "source": [
        "# Splitting features and labels for training and testing sets\n",
        "x_train = df.iloc[0:9, 0:2]  # Features for training set\n",
        "x_test  = df.iloc[9:11, 0:2]  # Features for testing set\n",
        "y_train = df.iloc[0:9, -1]    # Labels for training set\n",
        "y_test  = df.iloc[9:11, -1]    # Labels for testing set\n"
      ],
      "metadata": {
        "id": "ykucmILZys3H"
      },
      "execution_count": 6,
      "outputs": []
    },
    {
      "cell_type": "code",
      "source": [
        "x_test"
      ],
      "metadata": {
        "colab": {
          "base_uri": "https://localhost:8080/",
          "height": 125
        },
        "id": "zECoy2T4yy7R",
        "outputId": "053371be-19a6-46f8-e3d3-158174283ba7"
      },
      "execution_count": 7,
      "outputs": [
        {
          "output_type": "execute_result",
          "data": {
            "text/plain": [
              "    Feature1  Feature2\n",
              "9        7.0      10.0\n",
              "10      12.5      20.0"
            ],
            "text/html": [
              "\n",
              "  <div id=\"df-3bea3e0e-1fc6-4ff9-ae32-dd1c8dbd63e7\" class=\"colab-df-container\">\n",
              "    <div>\n",
              "<style scoped>\n",
              "    .dataframe tbody tr th:only-of-type {\n",
              "        vertical-align: middle;\n",
              "    }\n",
              "\n",
              "    .dataframe tbody tr th {\n",
              "        vertical-align: top;\n",
              "    }\n",
              "\n",
              "    .dataframe thead th {\n",
              "        text-align: right;\n",
              "    }\n",
              "</style>\n",
              "<table border=\"1\" class=\"dataframe\">\n",
              "  <thead>\n",
              "    <tr style=\"text-align: right;\">\n",
              "      <th></th>\n",
              "      <th>Feature1</th>\n",
              "      <th>Feature2</th>\n",
              "    </tr>\n",
              "  </thead>\n",
              "  <tbody>\n",
              "    <tr>\n",
              "      <th>9</th>\n",
              "      <td>7.0</td>\n",
              "      <td>10.0</td>\n",
              "    </tr>\n",
              "    <tr>\n",
              "      <th>10</th>\n",
              "      <td>12.5</td>\n",
              "      <td>20.0</td>\n",
              "    </tr>\n",
              "  </tbody>\n",
              "</table>\n",
              "</div>\n",
              "    <div class=\"colab-df-buttons\">\n",
              "\n",
              "  <div class=\"colab-df-container\">\n",
              "    <button class=\"colab-df-convert\" onclick=\"convertToInteractive('df-3bea3e0e-1fc6-4ff9-ae32-dd1c8dbd63e7')\"\n",
              "            title=\"Convert this dataframe to an interactive table.\"\n",
              "            style=\"display:none;\">\n",
              "\n",
              "  <svg xmlns=\"http://www.w3.org/2000/svg\" height=\"24px\" viewBox=\"0 -960 960 960\">\n",
              "    <path d=\"M120-120v-720h720v720H120Zm60-500h600v-160H180v160Zm220 220h160v-160H400v160Zm0 220h160v-160H400v160ZM180-400h160v-160H180v160Zm440 0h160v-160H620v160ZM180-180h160v-160H180v160Zm440 0h160v-160H620v160Z\"/>\n",
              "  </svg>\n",
              "    </button>\n",
              "\n",
              "  <style>\n",
              "    .colab-df-container {\n",
              "      display:flex;\n",
              "      gap: 12px;\n",
              "    }\n",
              "\n",
              "    .colab-df-convert {\n",
              "      background-color: #E8F0FE;\n",
              "      border: none;\n",
              "      border-radius: 50%;\n",
              "      cursor: pointer;\n",
              "      display: none;\n",
              "      fill: #1967D2;\n",
              "      height: 32px;\n",
              "      padding: 0 0 0 0;\n",
              "      width: 32px;\n",
              "    }\n",
              "\n",
              "    .colab-df-convert:hover {\n",
              "      background-color: #E2EBFA;\n",
              "      box-shadow: 0px 1px 2px rgba(60, 64, 67, 0.3), 0px 1px 3px 1px rgba(60, 64, 67, 0.15);\n",
              "      fill: #174EA6;\n",
              "    }\n",
              "\n",
              "    .colab-df-buttons div {\n",
              "      margin-bottom: 4px;\n",
              "    }\n",
              "\n",
              "    [theme=dark] .colab-df-convert {\n",
              "      background-color: #3B4455;\n",
              "      fill: #D2E3FC;\n",
              "    }\n",
              "\n",
              "    [theme=dark] .colab-df-convert:hover {\n",
              "      background-color: #434B5C;\n",
              "      box-shadow: 0px 1px 3px 1px rgba(0, 0, 0, 0.15);\n",
              "      filter: drop-shadow(0px 1px 2px rgba(0, 0, 0, 0.3));\n",
              "      fill: #FFFFFF;\n",
              "    }\n",
              "  </style>\n",
              "\n",
              "    <script>\n",
              "      const buttonEl =\n",
              "        document.querySelector('#df-3bea3e0e-1fc6-4ff9-ae32-dd1c8dbd63e7 button.colab-df-convert');\n",
              "      buttonEl.style.display =\n",
              "        google.colab.kernel.accessAllowed ? 'block' : 'none';\n",
              "\n",
              "      async function convertToInteractive(key) {\n",
              "        const element = document.querySelector('#df-3bea3e0e-1fc6-4ff9-ae32-dd1c8dbd63e7');\n",
              "        const dataTable =\n",
              "          await google.colab.kernel.invokeFunction('convertToInteractive',\n",
              "                                                    [key], {});\n",
              "        if (!dataTable) return;\n",
              "\n",
              "        const docLinkHtml = 'Like what you see? Visit the ' +\n",
              "          '<a target=\"_blank\" href=https://colab.research.google.com/notebooks/data_table.ipynb>data table notebook</a>'\n",
              "          + ' to learn more about interactive tables.';\n",
              "        element.innerHTML = '';\n",
              "        dataTable['output_type'] = 'display_data';\n",
              "        await google.colab.output.renderOutput(dataTable, element);\n",
              "        const docLink = document.createElement('div');\n",
              "        docLink.innerHTML = docLinkHtml;\n",
              "        element.appendChild(docLink);\n",
              "      }\n",
              "    </script>\n",
              "  </div>\n",
              "\n",
              "\n",
              "<div id=\"df-c52e5fa1-a933-401e-9491-d9a1a3b634f6\">\n",
              "  <button class=\"colab-df-quickchart\" onclick=\"quickchart('df-c52e5fa1-a933-401e-9491-d9a1a3b634f6')\"\n",
              "            title=\"Suggest charts\"\n",
              "            style=\"display:none;\">\n",
              "\n",
              "<svg xmlns=\"http://www.w3.org/2000/svg\" height=\"24px\"viewBox=\"0 0 24 24\"\n",
              "     width=\"24px\">\n",
              "    <g>\n",
              "        <path d=\"M19 3H5c-1.1 0-2 .9-2 2v14c0 1.1.9 2 2 2h14c1.1 0 2-.9 2-2V5c0-1.1-.9-2-2-2zM9 17H7v-7h2v7zm4 0h-2V7h2v10zm4 0h-2v-4h2v4z\"/>\n",
              "    </g>\n",
              "</svg>\n",
              "  </button>\n",
              "\n",
              "<style>\n",
              "  .colab-df-quickchart {\n",
              "      --bg-color: #E8F0FE;\n",
              "      --fill-color: #1967D2;\n",
              "      --hover-bg-color: #E2EBFA;\n",
              "      --hover-fill-color: #174EA6;\n",
              "      --disabled-fill-color: #AAA;\n",
              "      --disabled-bg-color: #DDD;\n",
              "  }\n",
              "\n",
              "  [theme=dark] .colab-df-quickchart {\n",
              "      --bg-color: #3B4455;\n",
              "      --fill-color: #D2E3FC;\n",
              "      --hover-bg-color: #434B5C;\n",
              "      --hover-fill-color: #FFFFFF;\n",
              "      --disabled-bg-color: #3B4455;\n",
              "      --disabled-fill-color: #666;\n",
              "  }\n",
              "\n",
              "  .colab-df-quickchart {\n",
              "    background-color: var(--bg-color);\n",
              "    border: none;\n",
              "    border-radius: 50%;\n",
              "    cursor: pointer;\n",
              "    display: none;\n",
              "    fill: var(--fill-color);\n",
              "    height: 32px;\n",
              "    padding: 0;\n",
              "    width: 32px;\n",
              "  }\n",
              "\n",
              "  .colab-df-quickchart:hover {\n",
              "    background-color: var(--hover-bg-color);\n",
              "    box-shadow: 0 1px 2px rgba(60, 64, 67, 0.3), 0 1px 3px 1px rgba(60, 64, 67, 0.15);\n",
              "    fill: var(--button-hover-fill-color);\n",
              "  }\n",
              "\n",
              "  .colab-df-quickchart-complete:disabled,\n",
              "  .colab-df-quickchart-complete:disabled:hover {\n",
              "    background-color: var(--disabled-bg-color);\n",
              "    fill: var(--disabled-fill-color);\n",
              "    box-shadow: none;\n",
              "  }\n",
              "\n",
              "  .colab-df-spinner {\n",
              "    border: 2px solid var(--fill-color);\n",
              "    border-color: transparent;\n",
              "    border-bottom-color: var(--fill-color);\n",
              "    animation:\n",
              "      spin 1s steps(1) infinite;\n",
              "  }\n",
              "\n",
              "  @keyframes spin {\n",
              "    0% {\n",
              "      border-color: transparent;\n",
              "      border-bottom-color: var(--fill-color);\n",
              "      border-left-color: var(--fill-color);\n",
              "    }\n",
              "    20% {\n",
              "      border-color: transparent;\n",
              "      border-left-color: var(--fill-color);\n",
              "      border-top-color: var(--fill-color);\n",
              "    }\n",
              "    30% {\n",
              "      border-color: transparent;\n",
              "      border-left-color: var(--fill-color);\n",
              "      border-top-color: var(--fill-color);\n",
              "      border-right-color: var(--fill-color);\n",
              "    }\n",
              "    40% {\n",
              "      border-color: transparent;\n",
              "      border-right-color: var(--fill-color);\n",
              "      border-top-color: var(--fill-color);\n",
              "    }\n",
              "    60% {\n",
              "      border-color: transparent;\n",
              "      border-right-color: var(--fill-color);\n",
              "    }\n",
              "    80% {\n",
              "      border-color: transparent;\n",
              "      border-right-color: var(--fill-color);\n",
              "      border-bottom-color: var(--fill-color);\n",
              "    }\n",
              "    90% {\n",
              "      border-color: transparent;\n",
              "      border-bottom-color: var(--fill-color);\n",
              "    }\n",
              "  }\n",
              "</style>\n",
              "\n",
              "  <script>\n",
              "    async function quickchart(key) {\n",
              "      const quickchartButtonEl =\n",
              "        document.querySelector('#' + key + ' button');\n",
              "      quickchartButtonEl.disabled = true;  // To prevent multiple clicks.\n",
              "      quickchartButtonEl.classList.add('colab-df-spinner');\n",
              "      try {\n",
              "        const charts = await google.colab.kernel.invokeFunction(\n",
              "            'suggestCharts', [key], {});\n",
              "      } catch (error) {\n",
              "        console.error('Error during call to suggestCharts:', error);\n",
              "      }\n",
              "      quickchartButtonEl.classList.remove('colab-df-spinner');\n",
              "      quickchartButtonEl.classList.add('colab-df-quickchart-complete');\n",
              "    }\n",
              "    (() => {\n",
              "      let quickchartButtonEl =\n",
              "        document.querySelector('#df-c52e5fa1-a933-401e-9491-d9a1a3b634f6 button');\n",
              "      quickchartButtonEl.style.display =\n",
              "        google.colab.kernel.accessAllowed ? 'block' : 'none';\n",
              "    })();\n",
              "  </script>\n",
              "</div>\n",
              "\n",
              "  <div id=\"id_cf5ee5b3-b027-4202-9953-7444ed211dae\">\n",
              "    <style>\n",
              "      .colab-df-generate {\n",
              "        background-color: #E8F0FE;\n",
              "        border: none;\n",
              "        border-radius: 50%;\n",
              "        cursor: pointer;\n",
              "        display: none;\n",
              "        fill: #1967D2;\n",
              "        height: 32px;\n",
              "        padding: 0 0 0 0;\n",
              "        width: 32px;\n",
              "      }\n",
              "\n",
              "      .colab-df-generate:hover {\n",
              "        background-color: #E2EBFA;\n",
              "        box-shadow: 0px 1px 2px rgba(60, 64, 67, 0.3), 0px 1px 3px 1px rgba(60, 64, 67, 0.15);\n",
              "        fill: #174EA6;\n",
              "      }\n",
              "\n",
              "      [theme=dark] .colab-df-generate {\n",
              "        background-color: #3B4455;\n",
              "        fill: #D2E3FC;\n",
              "      }\n",
              "\n",
              "      [theme=dark] .colab-df-generate:hover {\n",
              "        background-color: #434B5C;\n",
              "        box-shadow: 0px 1px 3px 1px rgba(0, 0, 0, 0.15);\n",
              "        filter: drop-shadow(0px 1px 2px rgba(0, 0, 0, 0.3));\n",
              "        fill: #FFFFFF;\n",
              "      }\n",
              "    </style>\n",
              "    <button class=\"colab-df-generate\" onclick=\"generateWithVariable('x_test')\"\n",
              "            title=\"Generate code using this dataframe.\"\n",
              "            style=\"display:none;\">\n",
              "\n",
              "  <svg xmlns=\"http://www.w3.org/2000/svg\" height=\"24px\"viewBox=\"0 0 24 24\"\n",
              "       width=\"24px\">\n",
              "    <path d=\"M7,19H8.4L18.45,9,17,7.55,7,17.6ZM5,21V16.75L18.45,3.32a2,2,0,0,1,2.83,0l1.4,1.43a1.91,1.91,0,0,1,.58,1.4,1.91,1.91,0,0,1-.58,1.4L9.25,21ZM18.45,9,17,7.55Zm-12,3A5.31,5.31,0,0,0,4.9,8.1,5.31,5.31,0,0,0,1,6.5,5.31,5.31,0,0,0,4.9,4.9,5.31,5.31,0,0,0,6.5,1,5.31,5.31,0,0,0,8.1,4.9,5.31,5.31,0,0,0,12,6.5,5.46,5.46,0,0,0,6.5,12Z\"/>\n",
              "  </svg>\n",
              "    </button>\n",
              "    <script>\n",
              "      (() => {\n",
              "      const buttonEl =\n",
              "        document.querySelector('#id_cf5ee5b3-b027-4202-9953-7444ed211dae button.colab-df-generate');\n",
              "      buttonEl.style.display =\n",
              "        google.colab.kernel.accessAllowed ? 'block' : 'none';\n",
              "\n",
              "      buttonEl.onclick = () => {\n",
              "        google.colab.notebook.generateWithVariable('x_test');\n",
              "      }\n",
              "      })();\n",
              "    </script>\n",
              "  </div>\n",
              "\n",
              "    </div>\n",
              "  </div>\n"
            ],
            "application/vnd.google.colaboratory.intrinsic+json": {
              "type": "dataframe",
              "variable_name": "x_test",
              "summary": "{\n  \"name\": \"x_test\",\n  \"rows\": 2,\n  \"fields\": [\n    {\n      \"column\": \"Feature1\",\n      \"properties\": {\n        \"dtype\": \"number\",\n        \"std\": 3.8890872965260113,\n        \"min\": 7.0,\n        \"max\": 12.5,\n        \"num_unique_values\": 2,\n        \"samples\": [\n          12.5,\n          7.0\n        ],\n        \"semantic_type\": \"\",\n        \"description\": \"\"\n      }\n    },\n    {\n      \"column\": \"Feature2\",\n      \"properties\": {\n        \"dtype\": \"number\",\n        \"std\": 7.0710678118654755,\n        \"min\": 10.0,\n        \"max\": 20.0,\n        \"num_unique_values\": 2,\n        \"samples\": [\n          20.0,\n          10.0\n        ],\n        \"semantic_type\": \"\",\n        \"description\": \"\"\n      }\n    }\n  ]\n}"
            }
          },
          "metadata": {},
          "execution_count": 7
        }
      ]
    },
    {
      "cell_type": "markdown",
      "source": [
        "# ***TRYING***"
      ],
      "metadata": {
        "id": "B8efhro8_BR7"
      }
    },
    {
      "cell_type": "code",
      "source": [
        "def euclidean_distance(point, dataset):\n",
        "    \"\"\"\n",
        "    Calculate the Euclidean distance between a point and all points in a dataset.\n",
        "\n",
        "    Parameters:\n",
        "    - point (array-like): The coordinates of the point.\n",
        "    - dataset (array-like): The dataset containing multiple points.\n",
        "\n",
        "    Returns:\n",
        "    - distances (array-like): An array of Euclidean distances between the point and each point in the dataset.\n",
        "    \"\"\"\n",
        "    distances = np.sqrt(np.sum((dataset - point) ** 2, axis=1))\n",
        "    return distances\n",
        "\n",
        "\n",
        "def predict(X_test):\n",
        "  min_distance = float('inf')\n",
        "  min_distance_index = None\n",
        "  index = -1\n",
        "  distances = euclidean_distance(point, x_train)\n",
        "  for dis in distances :\n",
        "    index+=1\n",
        "    if dis < min_distance:\n",
        "      min_distance = dis\n",
        "      min_distance_index = index\n",
        "  predicted_label = y_train[min_distance_index]\n",
        "  return np.array(predicted_label)\n",
        "\n",
        "\n",
        "\n",
        "\n",
        "\n",
        "\n",
        "# Example usage:\n",
        "point = np.array([7, 10])  # Sample point\n",
        "distances = euclidean_distance(point, x_train)\n",
        "print(distances)\n",
        "print(\"\\n\")\n",
        "p = predict(point)\n",
        "print(p)\n"
      ],
      "metadata": {
        "colab": {
          "base_uri": "https://localhost:8080/"
        },
        "id": "LX4t1HlZ2uOd",
        "outputId": "4f913952-9fe2-4861-94c0-cfa7f4ed2134"
      },
      "execution_count": 8,
      "outputs": [
        {
          "output_type": "stream",
          "name": "stdout",
          "text": [
            "0     5.000000\n",
            "1     6.403124\n",
            "2    10.440307\n",
            "3     5.000000\n",
            "4    10.049876\n",
            "5    15.132746\n",
            "6     7.071068\n",
            "7    16.155494\n",
            "8    21.189620\n",
            "dtype: float64\n",
            "\n",
            "\n",
            "1\n"
          ]
        }
      ]
    },
    {
      "cell_type": "code",
      "source": [],
      "metadata": {
        "id": "dnB8thML2uK1"
      },
      "execution_count": 8,
      "outputs": []
    },
    {
      "cell_type": "code",
      "source": [],
      "metadata": {
        "id": "ZXEoXvEa2uI2"
      },
      "execution_count": 8,
      "outputs": []
    },
    {
      "cell_type": "markdown",
      "source": [
        "# **euclidean distance classifier implementation**\n",
        "\n",
        "*   List item\n",
        "*   List item\n",
        "\n"
      ],
      "metadata": {
        "id": "vUIoiOgh_GdV"
      }
    },
    {
      "cell_type": "code",
      "source": [
        "class EuclideanDistanceClassifier:\n",
        "    def __init__(self):\n",
        "        self.X_train = None\n",
        "        self.y_train = None\n",
        "\n",
        "    def fit(self, X_train, y_train):\n",
        "        self.X_train = X_train\n",
        "        self.y_train = y_train\n",
        "\n",
        "    def euclidean_distance(self, point,dataset):\n",
        "        distances = np.sqrt(np.sum((dataset - point) ** 2, axis=1))\n",
        "        return distances\n",
        "\n",
        "    def predict(self, X_test):\n",
        "        predictions = []\n",
        "        for point in X_test.to_numpy():\n",
        "            # Initialize minimum distance and min_index and index\n",
        "            min_distance = float('inf')\n",
        "            min_distance_index = None\n",
        "            index = -1                    # to  help me knowing the index and min_index\n",
        "\n",
        "            # Calculate distances from x_test to all training samples\n",
        "            distances = euclidean_distance(point, x_train)\n",
        "            print (f\"distances point {point} :\\n{distances} \\n\")\n",
        "            for dis in distances :\n",
        "              index+=1\n",
        "              if dis < min_distance:\n",
        "                min_distance = dis\n",
        "                min_distance_index = index\n",
        "\n",
        "\n",
        "            print (f\"min distance is : {min_distance} belong to class {y_train[min_distance_index]}\\n\")\n",
        "            # Predict the class label of the nearest neighbor\n",
        "            predicted_label = self.y_train[min_distance_index]\n",
        "            predictions.append(predicted_label)\n",
        "        return np.array(predictions)\n"
      ],
      "metadata": {
        "id": "nzS1gSWnvk6N"
      },
      "execution_count": 9,
      "outputs": []
    },
    {
      "cell_type": "code",
      "source": [
        "# Create and fit the classifier\n",
        "classifier = EuclideanDistanceClassifier()\n",
        "classifier.fit(x_train, y_train)"
      ],
      "metadata": {
        "id": "TEwY1_pqvgJ7"
      },
      "execution_count": 10,
      "outputs": []
    },
    {
      "cell_type": "code",
      "source": [
        "# Make predictions\n",
        "y_predict = classifier.predict(x_test)\n",
        "y_predict\n",
        "print(f\"the prediction is : {y_predict}\")"
      ],
      "metadata": {
        "colab": {
          "base_uri": "https://localhost:8080/"
        },
        "id": "PTSgMrEn1OOt",
        "outputId": "64bf6d40-ce13-4b3a-d14e-64519ca1c3d5"
      },
      "execution_count": 11,
      "outputs": [
        {
          "output_type": "stream",
          "name": "stdout",
          "text": [
            "distances point [ 7. 10.] :\n",
            "0     5.000000\n",
            "1     6.403124\n",
            "2    10.440307\n",
            "3     5.000000\n",
            "4    10.049876\n",
            "5    15.132746\n",
            "6     7.071068\n",
            "7    16.155494\n",
            "8    21.189620\n",
            "dtype: float64 \n",
            "\n",
            "min distance is : 5.0 belong to class 1\n",
            "\n",
            "distances point [12.5 20. ] :\n",
            "0    14.500000\n",
            "1    10.735455\n",
            "2     8.500000\n",
            "3     7.433034\n",
            "4     4.500000\n",
            "5     6.103278\n",
            "6     5.024938\n",
            "7     5.024938\n",
            "8    10.111874\n",
            "dtype: float64 \n",
            "\n",
            "min distance is : 4.5 belong to class 2\n",
            "\n",
            "the prediction is : [1 2]\n"
          ]
        }
      ]
    },
    {
      "cell_type": "markdown",
      "source": [
        "**END**"
      ],
      "metadata": {
        "id": "uikP54tqBsBt"
      }
    },
    {
      "cell_type": "markdown",
      "source": [
        "# **absolute distance classifier implementation**\n",
        "\n",
        "\n"
      ],
      "metadata": {
        "id": "wx4YF-7ugG3V"
      }
    },
    {
      "cell_type": "code",
      "source": [
        "class MinDistanceClassifier:\n",
        "    def __init__(self, distance_type):\n",
        "        self.X_train = None\n",
        "        self.y_train = None\n",
        "        self.distance_type = distance_type\n",
        "\n",
        "    def fit(self, X_train, y_train):\n",
        "        self.X_train = X_train\n",
        "        self.y_train = y_train\n",
        "\n",
        "    def euclidean_distance(self, point, dataset):\n",
        "        distances = np.sum((dataset - point) ** 2, axis=1)\n",
        "        return distances\n",
        "\n",
        "    def absolute_distance(self, point, dataset):\n",
        "        distances = np.sum(np.abs(dataset - point), axis=1)\n",
        "        return distances\n",
        "\n",
        "    def predict(self, X_test):\n",
        "        predictions = []\n",
        "        for point in X_test.to_numpy():\n",
        "            # Initialize minimum distance and index\n",
        "            min_distance = float('inf')\n",
        "            min_distance_index = None\n",
        "            index = -1\n",
        "\n",
        "            # Calculate distances from x_test to all training samples\n",
        "            if self.distance_type == 'euclidean':\n",
        "                distances = self.euclidean_distance(point, self.X_train)\n",
        "                print (f\"distances point {point} :\\n{distances} \\n\")\n",
        "            elif self.distance_type == 'absolute':\n",
        "                distances = self.absolute_distance(point, self.X_train)\n",
        "                print (f\"distances point {point} :\\n{distances} \\n\")\n",
        "            else:\n",
        "                raise ValueError(\"Invalid distance type. Choose 'euclidean' or 'absolute'.\")\n",
        "\n",
        "            for dis in distances:\n",
        "                index += 1\n",
        "                if dis < min_distance:\n",
        "                    min_distance = dis\n",
        "                    min_distance_index = index\n",
        "\n",
        "            print (f\"min distance is : {min_distance} belong to class {y_train[min_distance_index]}\\n\")\n",
        "            # Predict the class label of the nearest neighbor\n",
        "            predicted_label = self.y_train[min_distance_index]\n",
        "            predictions.append(predicted_label)\n",
        "        return np.array(predictions)\n"
      ],
      "metadata": {
        "id": "gnGJ_FH2chke"
      },
      "execution_count": 12,
      "outputs": []
    },
    {
      "cell_type": "code",
      "source": [
        "# Create and fit the classifier\n",
        "classifier = MinDistanceClassifier('absolute')\n",
        "classifier.fit(x_train, y_train)"
      ],
      "metadata": {
        "id": "V-qAO10XdVQA"
      },
      "execution_count": 13,
      "outputs": []
    },
    {
      "cell_type": "code",
      "source": [
        "# Make predictions\n",
        "y_predict = classifier.predict(x_test)\n",
        "y_predict\n",
        "print(f\"the prediction is : {y_predict}\")"
      ],
      "metadata": {
        "colab": {
          "base_uri": "https://localhost:8080/"
        },
        "id": "s5UH0kIudab8",
        "outputId": "4787086c-0879-449d-970e-731fc26bf351"
      },
      "execution_count": 14,
      "outputs": [
        {
          "output_type": "stream",
          "name": "stdout",
          "text": [
            "distances point [ 7. 10.] :\n",
            "0     5.0\n",
            "1     9.0\n",
            "2    13.0\n",
            "3     5.0\n",
            "4    11.0\n",
            "5    17.0\n",
            "6    10.0\n",
            "7    21.0\n",
            "8    27.0\n",
            "dtype: float64 \n",
            "\n",
            "min distance is : 5.0 belong to class 1\n",
            "\n",
            "distances point [12.5 20. ] :\n",
            "0    20.5\n",
            "1    14.5\n",
            "2     8.5\n",
            "3    10.5\n",
            "4     4.5\n",
            "5     8.5\n",
            "6     5.5\n",
            "7     5.5\n",
            "8    11.5\n",
            "dtype: float64 \n",
            "\n",
            "min distance is : 4.5 belong to class 2\n",
            "\n",
            "the prediction is : [1 2]\n"
          ]
        }
      ]
    },
    {
      "cell_type": "code",
      "source": [],
      "metadata": {
        "id": "MPUUfISLdcxx"
      },
      "execution_count": 14,
      "outputs": []
    },
    {
      "cell_type": "markdown",
      "source": [
        "**END**"
      ],
      "metadata": {
        "id": "MtpD5RvfulQV"
      }
    },
    {
      "cell_type": "markdown",
      "source": [
        "# **Cosine Similarity classifier implementation**\n"
      ],
      "metadata": {
        "id": "JsxPi8P6ulI6"
      }
    },
    {
      "cell_type": "code",
      "source": [
        "import numpy as np\n",
        "\n",
        "class NearestNeighbor:\n",
        "    def __init__(self, distance_type = 'euclidean'):\n",
        "        self.X_train = None\n",
        "        self.y_train = None\n",
        "        self.distance_type = distance_type\n",
        "\n",
        "    def fit(self, X_train, y_train):\n",
        "        self.X_train = X_train\n",
        "        self.y_train = y_train\n",
        "\n",
        "    def euclidean_distance(self, point, dataset):\n",
        "        distances = np.sqrt(np.sum((dataset - point) ** 2, axis=1))\n",
        "        return distances\n",
        "\n",
        "    def absolute_distance(self, point, dataset):\n",
        "        distances = np.sum(np.abs(dataset - point), axis=1)\n",
        "        return distances\n",
        "\n",
        "    def cosine_similarity(self, point, dataset):\n",
        "        dot_product = np.dot(dataset, point)\n",
        "        dataset_norm = np.linalg.norm(dataset, axis=1)\n",
        "        point_norm = np.linalg.norm(point)\n",
        "        cosine_sim = dot_product / (dataset_norm * point_norm)\n",
        "        return 1 - cosine_sim  # Convert cosine similarity to distance to take the min not max\n",
        "\n",
        "    def predict(self, X_test):\n",
        "        predictions = []\n",
        "        for point in X_test:\n",
        "            # Initialize minimum distance and index\n",
        "            min_distance = float('inf')\n",
        "            min_distance_index = None\n",
        "            index = -1\n",
        "\n",
        "            # Calculate distances from x_test to all training samples\n",
        "            if self.distance_type == 'euclidean':\n",
        "                distances = self.euclidean_distance(point, self.X_train)\n",
        "            elif self.distance_type == 'absolute':\n",
        "                distances = self.absolute_distance(point, self.X_train)\n",
        "            elif self.distance_type == 'cosine':\n",
        "                distances = self.cosine_similarity(point, self.X_train)\n",
        "            else:\n",
        "                raise ValueError(\"Invalid distance type. Choose 'euclidean', 'absolute', or 'cosine'.\")\n",
        "\n",
        "            for dis in distances:\n",
        "                index += 1\n",
        "                if dis < min_distance:\n",
        "                    min_distance = dis\n",
        "                    min_distance_index = index\n",
        "\n",
        "            # Predict the class label of the nearest neighbor\n",
        "            predicted_label = self.y_train[min_distance_index]\n",
        "            predictions.append(predicted_label)\n",
        "        return np.array(predictions)\n"
      ],
      "metadata": {
        "id": "r8ICfZ3ZuyhR"
      },
      "execution_count": 15,
      "outputs": []
    },
    {
      "cell_type": "code",
      "source": [
        "# Create and fit the classifier\n",
        "classifier = MinDistanceClassifier('absolute')\n",
        "classifier.fit(x_train, y_train)"
      ],
      "metadata": {
        "id": "KKbH8RuCwNy6"
      },
      "execution_count": 16,
      "outputs": []
    },
    {
      "cell_type": "code",
      "source": [
        "# Make predictions\n",
        "y_predict = classifier.predict(x_test)\n",
        "y_predict\n",
        "print(f\"the prediction is : {y_predict}\")"
      ],
      "metadata": {
        "id": "zrzhWxFewSD2",
        "outputId": "f642d85b-e692-4d29-9c9c-1060dc3f4841",
        "colab": {
          "base_uri": "https://localhost:8080/"
        }
      },
      "execution_count": 17,
      "outputs": [
        {
          "output_type": "stream",
          "name": "stdout",
          "text": [
            "distances point [ 7. 10.] :\n",
            "0     5.0\n",
            "1     9.0\n",
            "2    13.0\n",
            "3     5.0\n",
            "4    11.0\n",
            "5    17.0\n",
            "6    10.0\n",
            "7    21.0\n",
            "8    27.0\n",
            "dtype: float64 \n",
            "\n",
            "min distance is : 5.0 belong to class 1\n",
            "\n",
            "distances point [12.5 20. ] :\n",
            "0    20.5\n",
            "1    14.5\n",
            "2     8.5\n",
            "3    10.5\n",
            "4     4.5\n",
            "5     8.5\n",
            "6     5.5\n",
            "7     5.5\n",
            "8    11.5\n",
            "dtype: float64 \n",
            "\n",
            "min distance is : 4.5 belong to class 2\n",
            "\n",
            "the prediction is : [1 2]\n"
          ]
        }
      ]
    },
    {
      "cell_type": "markdown",
      "source": [
        "**END**"
      ],
      "metadata": {
        "id": "uJQpDmd0whdj"
      }
    },
    {
      "cell_type": "code",
      "source": [],
      "metadata": {
        "id": "fJhKQHzWwW2U"
      },
      "execution_count": null,
      "outputs": []
    }
  ]
}